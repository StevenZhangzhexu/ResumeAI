{
 "cells": [
  {
   "cell_type": "code",
   "execution_count": 1,
   "metadata": {},
   "outputs": [],
   "source": [
    "import re\n",
    "import spacy\n",
    "from annotated_text import annotated_text"
   ]
  },
  {
   "cell_type": "code",
   "execution_count": 66,
   "metadata": {},
   "outputs": [],
   "source": [
    "text = \"Sep. 2019 - Oct. 2020. Improved the accuracy of predicted prices by 18%.Coordinated a team of 16 data scientists working on 4 different projects.Updated data streaming processes for a 18% reduction in redundancy. in 2019 graducated. Passionate in 08.2022. Aug. 2019 \""
   ]
  },
  {
   "cell_type": "code",
   "execution_count": 98,
   "metadata": {},
   "outputs": [],
   "source": [
    "text = input()"
   ]
  },
  {
   "cell_type": "code",
   "execution_count": 37,
   "metadata": {},
   "outputs": [],
   "source": [
    "text = 'Zhexu ( Steven ) Zhang Email address : e0134151@u.nus.edu Github : https://github.com/StevenZhangzhexu Contact number : +65 2021 1369   SUMMARY   A data scientist enthusiast with about 2 and half years of experience in business intelligence , 6 months data analytics and three years of project management in finance sectors . A self - motivated and geeky individual whose desire to learn is endless .   SELECTED PROJECTS   Utilized time series analysis in python with Vector ARIMA , SARIMA & GARCH models to predict dengue cases in Singapore .   Leveraged time series analysis in R to predict FOREX trend and S&P 500 stock price trend and then used it as an indicator for algorithmic trading strategy .   Subreddit classification model in python applying ensemble methods ( XGBoosting and Stacking ) over Random Forest and Logistic Regression based on Web scrapped data via API and transformedACTION by Tfidf Vectorizer ( NLP ) .CONSIDER ADDING RESULTS IN THIS SENTENCE   House price prediction linear regression model based on Kaggle dataset ( pipeline , regularization and hyper - parameters tuning with randomized search )   EXPERIENCE   DBS Singapore   Business Analyst ( 2021/09/30 – 2023/01/30 )   Conducting UAT testing via SQL queries for multiple projects and using JIRA to log issue tickets and then collaborate with tech to resolve issues .   Contributing robust SQL code for risk mart tables reference integrity checks .   Ad - hoc data analytics like Impact analysis or amount reconciliation for system migration projects using python ( pandas ) , SQL and Excel pivot table and functions .   UpdatingACTION configuration for products like risk product code according to project scope and requirements .CONSIDER ADDING RESULTS IN THIS SENTENCE   Maybank Singapore   Business Analyst ( 2019/09/30 – 2021/08/30 )   Liaised with business users to fathom definition and formula of data fields to author user requirements documents and develop the Functional Specifications of program changes to handover to IT department .   Leveraged SAS and SQL to implementACTION data mapping , data modeling and UAT Testing .CONSIDER ADDING RESULTS IN THIS SENTENCE   Created Power BI dashboard to reflect project status and KPI .   Scripted in Power BI DAX to transformACTION and cleanse operational raw data and to reduce data discrepancy .CONSIDER ADDING RESULTS IN THIS SENTENCE   PSA Singapore   Data Analyst Intern ( 2019/05/30 – 2019/08/30 )   Scripted in QlikView to realize data cleaning , data mapping and data transformation .   Prepared the configuration for the ingestion ETL framework to extract , load and manipulate high - volume data from various data sources into QlikView .   EDUCATION   National University of Singapore Singapore   B.Sc . in Applied Mathematics ( Aug 2016 – Aug 2019 )   General Assembly   Data Science Bootcamp ( Aug 2022 – Mar 2023 , part - time ) Singapore   CERTIFICATE   Deep Learning Specialization   5 Coursera Course Certificates ( Neural Networks , CNN , RNN , CV , NLP )   SKILLS & INTERESTS   Familiar with statistics and Machine Learning concepts .   Proficient in Python and SQL ; Intermediate level in R , HTML , CSS , JavaScript , shell(zsh )   Passion in applying Machine Learning to financial area . ( like algorithmic trading )   Bilingual in English and Mandarin .'"
   ]
  },
  {
   "cell_type": "code",
   "execution_count": 117,
   "metadata": {},
   "outputs": [],
   "source": [
    "text = \"Exceeded sales target every year from 2005 to 2007 (achieved 60% of the target in the first 3 months of 2008).\""
   ]
  },
  {
   "cell_type": "code",
   "execution_count": 15,
   "metadata": {},
   "outputs": [],
   "source": [
    "text =\"Business Analyst (Sep 2021 – Now) Created Power BI dashboard to reflect project status and KPI . github.io • Increased revenue by 6.3%, gross profit by 4.2%,and operating income by 146%, and achieved a 30% ratio of new customers (3x growth), by entering new markets and improving customer service and training. achieved first place in competition.\""
   ]
  },
  {
   "cell_type": "code",
   "execution_count": 52,
   "metadata": {},
   "outputs": [],
   "source": [
    "text1 = \"EVENTS & PUBLIC RELATIONS LEADER Summary I am an Marketing 2022/03/04 \""
   ]
  },
  {
   "cell_type": "code",
   "execution_count": 17,
   "metadata": {},
   "outputs": [],
   "source": [
    "text = \"Zhexu ( Steven ) Zhang Email address : e0134151@u.nus.edu Github : https://github.com/StevenZhangzhexu Contact number : +65 8918 1369 A data scientist enthusiast with about 2 years of experience in BusinessSKILL Analyst ( Sep 2021  – Now ) Business Analyst ( Sep 2019 – Aug 2021 )Data Analyst Intern ( May.2019 – present ) Organise and facilitate discussions and workshops to present information, examine alternatives, and resolve outstanding issues.\""
   ]
  },
  {
   "cell_type": "code",
   "execution_count": 99,
   "metadata": {},
   "outputs": [
    {
     "name": "stderr",
     "output_type": "stream",
     "text": [
      "/Users/zhangzhexu/opt/anaconda3/lib/python3.9/site-packages/spacy/util.py:877: UserWarning: [W095] Model 'en_core_web_sm' (3.0.0) was trained with spaCy v3.0 and may not be 100% compatible with the current version (3.4.3). If you see errors or degraded performance, download a newer compatible model or retrain your custom model with the current spaCy version. For more details and available updates, run: python -m spacy validate\n",
      "  warnings.warn(warn_msg)\n"
     ]
    },
    {
     "name": "stdout",
     "output_type": "stream",
     "text": [
      "Good  good ADJ  JJ amod Xxxx True False False\n",
      "understanding  understanding NOUN  NN ROOT xxxx True False False\n",
      "of  of ADP  IN prep xx True True False\n",
      "the  the DET  DT det xxx True True False\n",
      "data  data NOUN  NN compound xxxx True False False\n",
      "science  science NOUN  NN compound xxxx True False False\n",
      "production  production NOUN  NN compound xxxx True False False\n",
      "life  life NOUN  NN compound xxxx True False False\n",
      "cycle  cycle NOUN  NN pobj xxxx True False False\n",
      "with  with ADP  IN prep xxxx True True False\n",
      "demonstrable  demonstrable ADJ  JJ amod xxxx True False False\n",
      "experience  experience NOUN  NN pobj xxxx True False False\n",
      "working  work VERB  VBG acl xxxx True False False\n",
      "with  with ADP  IN prep xxxx True True False\n",
      "structured  structure VERB  VBN amod xxxx True False False\n",
      ",  , PUNCT  , punct , False False False\n",
      "semi  semi ADJ  JJ conj xxxx True False False\n",
      "-  - ADJ  JJ pobj - False False False\n",
      "structured  structured ADJ  JJ conj xxxx True False False\n",
      ",  , PUNCT  , punct , False False False\n",
      "and  and CCONJ  CC cc xxx True True False\n",
      "unstructured  unstructured ADJ  JJ amod xxxx True False False\n",
      "data  data NOUN  NN compound xxxx True False False\n",
      "Excellent  Excellent PROPN  NNP amod Xxxxx True False False\n",
      "software  software NOUN  NN compound xxxx True False False\n",
      "skills  skill NOUN  NNS conj xxxx True False False\n",
      "(  ( PUNCT  -LRB- punct ( False False False\n",
      "Python  Python PROPN  NNP appos Xxxxx True False False\n",
      ",  , PUNCT  , punct , False False False\n",
      "SQL ORG SQL PROPN ORG NNP conj XXX True False False\n",
      ",  , PUNCT  , punct , False False False\n",
      "bash  bash NOUN  NN conj xxxx True False False\n",
      ")  ) PUNCT  -RRB- punct ) False False False\n",
      "and  and CCONJ  CC cc xxx True True False\n",
      "knowledge  knowledge NOUN  NN conj xxxx True False False\n",
      "in  in ADP  IN prep xx True True False\n",
      "design  design NOUN  NN compound xxxx True False False\n",
      "patterns  pattern NOUN  NNS pobj xxxx True False False\n",
      "and  and CCONJ  CC cc xxx True True False\n",
      "code  code NOUN  NN compound xxxx True False False\n",
      "optimisation  optimisation NOUN  NN conj xxxx True False False\n",
      "Good  good ADJ  JJ amod Xxxx True False False\n",
      "grasp  grasp NOUN  NN appos xxxx True False False\n",
      "of  of ADP  IN prep xx True True False\n",
      "Machine ORG Machine PROPN ORG NNP compound Xxxxx True False False\n",
      "Learning ORG Learning PROPN ORG NNP compound Xxxxx True False False\n",
      "models  model NOUN  NNS pobj xxxx True False False\n",
      "and  and CCONJ  CC cc xxx True True False\n",
      "concepts  concept NOUN  NNS conj xxxx True False False\n",
      ",  , PUNCT  , punct , False False False\n",
      "their  their PRON  PRP$ poss xxxx True True False\n",
      "mathematical  mathematical ADJ  JJ amod xxxx True False False\n",
      "underpinnings  underpinning NOUN  NNS conj xxxx True False False\n",
      ",  , PUNCT  , punct , False False False\n",
      "and  and CCONJ  CC cc xxx True True False\n",
      "trade  trade NOUN  NN compound xxxx True False False\n",
      "-  - PUNCT  HYPH punct - False False False\n",
      "offs  off NOUN  NNS conj xxxx True False False\n",
      "(  ( PUNCT  -LRB- punct ( False False False\n",
      "model  model NOUN  NN compound xxxx True False False\n",
      "selection  selection NOUN  NN conj xxxx True False False\n",
      ",  , PUNCT  , punct , False False False\n",
      "tuning  tuning NOUN  NN conj xxxx True False False\n",
      ",  , PUNCT  , punct , False False False\n",
      "problem  problem NOUN  NN compound xxxx True False False\n",
      "formulation  formulation NOUN  NN conj xxxx True False False\n",
      ",  , PUNCT  , punct , False False False\n",
      "drift  drift NOUN  NN conj xxxx True False False\n",
      ",  , PUNCT  , punct , False False False\n",
      "semi  semi ADJ  JJ amod xxxx True False False\n",
      "-  - ADJ  JJ amod - False False False\n",
      "supervised  supervised ADJ  JJ amod xxxx True False False\n",
      "learning  learning NOUN  NN conj xxxx True False False\n",
      ")  ) PUNCT  -RRB- punct ) False False False\n",
      "Experience  experience NOUN  NN ROOT Xxxxx True False False\n",
      "using  use VERB  VBG acl xxxx True True False\n",
      "NLP ORG NLP PROPN ORG NNP compound XXX True False False\n",
      "techniques  technique NOUN  NNS dobj xxxx True False False\n",
      "(  ( PUNCT  -LRB- punct ( False False False\n",
      "NER  NER PROPN  NNP appos XXX True False False\n",
      ",  , PUNCT  , punct , False False False\n",
      "Sentiment PERSON Sentiment PROPN PERSON NNP compound Xxxxx True False False\n",
      "Analysis PERSON Analysis PROPN PERSON NNP conj Xxxxx True False False\n",
      ",  , PUNCT  , punct , False False False\n",
      "Topic  Topic PROPN  NNP compound Xxxxx True False False\n",
      "Modelling  Modelling PROPN  NNP conj Xxxxx True False False\n",
      ",  , PUNCT  , punct , False False False\n",
      "transformers  transformer NOUN  NNS appos xxxx True False False\n",
      ")  ) PUNCT  -RRB- punct ) False False False\n",
      ".  . PUNCT  . punct . False False False\n",
      "4 DATE 4 NUM DATE CD quantmod d False False True\n",
      "- DATE - SYM DATE SYM punct - False False False\n",
      "8 DATE 8 NUM DATE CD nummod d False False True\n",
      "years DATE year NOUN DATE NNS nsubj xxxx True False False\n",
      "of  of ADP  IN prep xx True True False\n",
      "experience  experience NOUN  NN pobj xxxx True False False\n",
      "developing  develop VERB  VBG acl xxxx True False False\n",
      "SAS ORG SAS PROPN ORG NNP dobj XXX True False False\n",
      ",  , PUNCT  , punct , False False False\n",
      "advanced  advanced ADJ  JJ amod xxxx True False False\n",
      "analytics  analytic NOUN  NNS compound xxxx True False False\n",
      "solutions  solution NOUN  NNS conj xxxx True False False\n",
      ",  , PUNCT  , punct , False False False\n",
      "javascript  javascript NOUN  NN appos xxxx True False False\n",
      "in  in ADP  IN prep xx True True False\n",
      "banking/  banking/ PUNCT  `` punct xxxx/ False False False\n",
      "wealth  wealth NOUN  NN compound xxxx True False False\n",
      "management  management NOUN  NN compound xxxx True False False\n",
      "Candidates ORG Candidates PROPN ORG NNPS pobj Xxxxx True False False\n",
      "that  that DET  WDT nsubj xxxx True True False\n",
      "have  have AUX  VBP aux xxxx True True False\n",
      "worked  work VERB  VBN relcl xxxx True False False\n",
      "in  in ADP  IN prep xx True True False\n",
      "marketing  marketing NOUN  NN compound xxxx True False False\n",
      "teams  team NOUN  NNS pobj xxxx True False False\n",
      "before  before ADV  RB advmod xxxx True True False\n",
      "are  be AUX  VBP auxpass xxx True True False\n",
      "preferred  prefer VERB  VBN ROOT xxxx True False False\n"
     ]
    }
   ],
   "source": [
    "nlp = english_model = spacy.load(\"./models/en/\")\n",
    "\n",
    "doc = nlp(text)\n",
    "\n",
    "for token in doc:\n",
    "    print(token.text, token.ent_type_, token.lemma_, token.pos_, token.ent_type_, token.tag_, token.dep_,\n",
    "            token.shape_, token.is_alpha, token.is_stop,token.like_num)"
   ]
  },
  {
   "cell_type": "code",
   "execution_count": 100,
   "metadata": {},
   "outputs": [
    {
     "data": {
      "text/plain": [
       "['SQL',\n",
       " 'Machine Learning',\n",
       " 'NLP',\n",
       " 'Sentiment Analysis',\n",
       " '4 - 8 years',\n",
       " 'SAS',\n",
       " 'Candidates']"
      ]
     },
     "execution_count": 100,
     "metadata": {},
     "output_type": "execute_result"
    }
   ],
   "source": [
    "l=[]\n",
    "for i in doc.ents:\n",
    "    l.append(i.text)\n",
    "l"
   ]
  },
  {
   "cell_type": "code",
   "execution_count": 40,
   "metadata": {},
   "outputs": [
    {
     "data": {
      "text/plain": [
       "'e'"
      ]
     },
     "execution_count": 40,
     "metadata": {},
     "output_type": "execute_result"
    }
   ],
   "source": [
    "doc[8].text[0]"
   ]
  },
  {
   "cell_type": "code",
   "execution_count": 27,
   "metadata": {},
   "outputs": [
    {
     "name": "stdout",
     "output_type": "stream",
     "text": [
      "8918\n"
     ]
    }
   ],
   "source": [
    "ret = str(parse('8918'))\n",
    "year = int(ret[:4])\n",
    "if (year < 1950 or year > 2023):\n",
    "    print(year)\n"
   ]
  },
  {
   "cell_type": "code",
   "execution_count": 4,
   "metadata": {},
   "outputs": [
    {
     "name": "stdout",
     "output_type": "stream",
     "text": [
      "Zhexu ORG Zhexu PROPN ORG NNP nmod Xxxxx True False\n",
      "(  ( PUNCT  -LRB- punct ( False False\n",
      "Steven PERSON Steven PROPN PERSON NNP appos Xxxxx True False\n",
      ")  ) PUNCT  -RRB- punct ) False False\n",
      "Zhang  Zhang PROPN  NNP compound Xxxxx True False\n",
      "Email  Email PROPN  NNP compound Xxxxx True False\n",
      "address  address NOUN  NN ROOT xxxx True False\n",
      ":  : PUNCT  : punct : False False\n",
      "e0134151@u.nus.edu  e0134151@u.nus.edu PROPN  NNP appos xdddd@x.xxx.xxx False False\n",
      "Github SKILL|github Github PROPN SKILL|github NNP dobj Xxxxx True False\n",
      ":  : PUNCT  : punct : False False\n",
      "https://github.com/StevenZhangzhexu  https://github.com/stevenzhangzhexu ADJ  JJ amod xxxx://xxxx.xxx/XxxxxXxxxx False False\n",
      "Contact  Contact PROPN  NNP compound Xxxxx True False\n",
      "number  number NOUN  NN appos xxxx True False\n",
      ":  : PUNCT  : punct : False False\n",
      "+65  +65 NOUN  NN appos +dd False False\n",
      "8918  8918 NUM  CD npadvmod dddd False False\n",
      "1369 DATE 1369 NUM DATE CD npadvmod dddd False False\n",
      "     SPACE  _SP punct   False False\n",
      "SUMMARY  SUMMARY PROPN  NNP ROOT XXXX True False\n",
      "     SPACE  _SP punct   False False\n",
      "A  a DET  DT det X True True\n",
      "data  data NOUN  NN compound xxxx True False\n",
      "scientist  scientist NOUN  NN compound xxxx True False\n",
      "enthusiast  enthusiast NOUN  NN ROOT xxxx True False\n",
      "with  with ADP  IN prep xxxx True True\n",
      "about DATE about ADV DATE RB advmod xxxx True True\n",
      "2 DATE 2 NUM DATE CD nummod d False False\n",
      "years DATE year NOUN DATE NNS pobj xxxx True False\n",
      "of  of ADP  IN prep xx True True\n",
      "experience  experience NOUN  NN pobj xxxx True False\n",
      "in  in ADP  IN prep xx True True\n",
      "business SKILL|business-intelligence business NOUN SKILL|business-intelligence NN compound xxxx True False\n",
      "intelligence SKILL|business-intelligence intelligence NOUN SKILL|business-intelligence NN pobj xxxx True False\n",
      ",  , PUNCT  , punct , False False\n",
      "data  datum NOUN  NNS compound xxxx True False\n",
      "analytics SKILL|analytics analytic NOUN SKILL|analytics NNS conj xxxx True False\n",
      "and  and CCONJ  CC cc xxx True True\n",
      "project SKILL|project-management project NOUN SKILL|project-management NN compound xxxx True False\n",
      "management SKILL|project-management management NOUN SKILL|project-management NN conj xxxx True False\n",
      "in  in ADP  IN prep xx True True\n",
      "finance SKILL|finance finance NOUN SKILL|finance NN compound xxxx True False\n",
      "sectors  sector NOUN  NNS pobj xxxx True False\n",
      ".  . PUNCT  . punct . False False\n",
      "A  a DET  DT det X True True\n",
      "self  self NOUN  NN npadvmod xxxx True False\n",
      "-  - PUNCT  HYPH punct - False False\n",
      "motivated  motivated ADJ  JJ amod xxxx True False\n",
      "and  and CCONJ  CC cc xxx True True\n",
      "geeky  geeky ADJ  JJ conj xxxx True False\n",
      "individual  individual NOUN  NN nsubj xxxx True False\n",
      "whose  whose DET  WP$ poss xxxx True True\n",
      "desire  desire NOUN  NN nsubj xxxx True False\n",
      "to  to PART  TO aux xx True True\n",
      "learn  learn VERB  VB acl xxxx True False\n",
      "is  be AUX  VBZ ROOT xx True True\n",
      "endless  endless ADJ  JJ acomp xxxx True False\n",
      ".  . PUNCT  . punct . False False\n",
      "     SPACE  _SP ROOT   False False\n",
      "SELECTED  select VERB  VBN amod XXXX True False\n",
      "PROJECTS  project NOUN  NNS nmod XXXX True False\n",
      "     SPACE  _SP nmod   False False\n",
      "Utilized  utilize VERB  VBN amod Xxxxx True False\n",
      "time SKILL|time-series time NOUN SKILL|time-series NN compound xxxx True False\n",
      "series SKILL|time-series series NOUN SKILL|time-series NN compound xxxx True False\n",
      "analysis  analysis NOUN  NN dobj xxxx True False\n",
      "in  in ADP  IN prep xx True True\n",
      "python SKILL|python python NOUN SKILL|python NN pobj xxxx True False\n",
      "with  with ADP  IN prep xxxx True True\n",
      "Vector ORG Vector PROPN ORG NNP compound Xxxxx True False\n",
      "ARIMA ORG ARIMA PROPN ORG NNP pobj XXXX True False\n",
      ",  , PUNCT  , punct , False False\n",
      "SARIMA  SARIMA PROPN  NNP conj XXXX True False\n",
      "&  & CCONJ  CC cc & False False\n",
      "GARCH  GARCH PROPN  NNP conj XXXX True False\n",
      "models  model NOUN  NNS conj xxxx True False\n",
      "to  to PART  TO aux xx True True\n",
      "predict  predict VERB  VB advcl xxxx True False\n",
      "dengue  dengue NOUN  NN compound xxxx True False\n",
      "cases  case NOUN  NNS dobj xxxx True False\n",
      "in  in ADP  IN prep xx True True\n",
      "Singapore GPE Singapore PROPN GPE NNP pobj Xxxxx True False\n",
      ".  . PUNCT  . punct . False False\n",
      "     SPACE  _SP compound   False False\n",
      "Leveraged  leveraged ADJ  JJ amod Xxxxx True False\n",
      "time SKILL|time-series time NOUN SKILL|time-series NN compound xxxx True False\n",
      "series SKILL|time-series series NOUN SKILL|time-series NN compound xxxx True False\n",
      "analysis  analysis NOUN  NN nsubj xxxx True False\n",
      "in  in ADP  IN prep xx True True\n",
      "R SKILL|r r NOUN SKILL|r NN pobj X True False\n",
      "to  to PART  TO aux xx True True\n",
      "predict  predict VERB  VB ROOT xxxx True False\n",
      "FOREX ORG forex ADJ ORG JJ amod XXXX True False\n",
      "trend  trend NOUN  NN dobj xxxx True False\n",
      "and  and CCONJ  CC cc xxx True True\n",
      "S&P  S&P PROPN  NNP nmod X&X False False\n",
      "500  500 NUM  CD nummod ddd False False\n",
      "stock  stock NOUN  NN compound xxxx True False\n",
      "price  price NOUN  NN compound xxxx True False\n",
      "trend  trend NOUN  NN conj xxxx True False\n",
      "and  and CCONJ  CC cc xxx True True\n",
      "then  then ADV  RB advmod xxxx True True\n",
      "used  use VERB  VBD conj xxxx True True\n",
      "it  it PRON  PRP dobj xx True True\n",
      "as  as ADP  IN prep xx True True\n",
      "an  an DET  DT det xx True True\n",
      "indicator  indicator NOUN  NN pobj xxxx True False\n",
      "for  for ADP  IN prep xxx True True\n",
      "algorithmic  algorithmic ADJ  JJ amod xxxx True False\n",
      "trading  trading NOUN  NN compound xxxx True False\n",
      "strategy  strategy NOUN  NN pobj xxxx True False\n",
      ".  . PUNCT  . punct . False False\n",
      "     SPACE  _SP ROOT   False False\n",
      "Subreddit  subreddit NOUN  NN ROOT Xxxxx True False\n",
      "classification  classification NOUN  NN compound xxxx True False\n",
      "model  model NOUN  NN dobj xxxx True False\n",
      "in  in ADP  IN prep xx True True\n",
      "python SKILL|python python NOUN SKILL|python NN npadvmod xxxx True False\n",
      "applying  apply VERB  VBG amod xxxx True False\n",
      "ensemble  ensemble ADJ  JJ amod xxxx True False\n",
      "methods  method NOUN  NNS pobj xxxx True False\n",
      "(  ( PUNCT  -LRB- punct ( False False\n",
      "XGBoosting  XGBoosting PROPN  NNP appos XXXxxxx True False\n",
      "and  and CCONJ  CC cc xxx True True\n",
      "Stacking  Stacking PROPN  NNP conj Xxxxx True False\n",
      ")  ) PUNCT  -RRB- punct ) False False\n",
      "over  over ADP  IN prep xxxx True True\n",
      "Random SKILL|random-forest Random PROPN SKILL|random-forest NNP compound Xxxxx True False\n",
      "Forest SKILL|random-forest Forest PROPN SKILL|random-forest NNP pobj Xxxxx True False\n",
      "and  and CCONJ  CC cc xxx True True\n",
      "Logistic SKILL|logistic-regression Logistic PROPN SKILL|logistic-regression NNP compound Xxxxx True False\n",
      "Regression SKILL|logistic-regression Regression PROPN SKILL|logistic-regression NNP conj Xxxxx True False\n",
      "based  base VERB  VBN prep xxxx True False\n",
      "on  on ADP  IN prep xx True True\n",
      "Web  web NOUN  NN npadvmod Xxx True False\n",
      "scrapped  scrap VERB  VBN amod xxxx True False\n",
      "data  datum NOUN  NNS pobj xxxx True False\n",
      "via  via ADP  IN prep xxx True True\n",
      "API SKILL|api API PROPN SKILL|api NNP pobj XXX True False\n",
      "and  and CCONJ  CC cc xxx True True\n",
      "transformedACTION  transformedACTION PROPN  NNP conj xxxxXXXX True False\n",
      "by  by ADP  IN prep xx True True\n",
      "Tfidf PERSON Tfidf PROPN PERSON NNP compound Xxxxx True False\n",
      "Vectorizer PERSON Vectorizer PROPN PERSON NNP pobj Xxxxx True False\n",
      "(  ( PUNCT  -LRB- punct ( False False\n",
      "NLP SKILL|natural-language-processing NLP PROPN SKILL|natural-language-processing NNP appos XXX True False\n",
      ")  ) PUNCT  -RRB- punct ) False False\n",
      ".CONSIDER  .CONSIDER PUNCT  . punct .XXXX False False\n",
      "ADDING  add VERB  VBG ROOT XXXX True False\n",
      "RESULTS  RESULTS PROPN  NNP dobj XXXX True False\n",
      "IN  in ADP  IN prep XX True True\n",
      "THIS  this DET  DT det XXXX True True\n",
      "SENTENCE  SENTENCE PROPN  NNP compound XXXX True False\n",
      "     SPACE  _SP nmod   False False\n",
      "House ORG House PROPN ORG NNP compound Xxxxx True False\n",
      "price  price NOUN  NN compound xxxx True False\n",
      "prediction  prediction NOUN  NN nmod xxxx True False\n",
      "linear SKILL|linear-regression linear ADJ SKILL|linear-regression JJ amod xxxx True False\n",
      "regression SKILL|linear-regression regression NOUN SKILL|linear-regression NN compound xxxx True False\n",
      "model  model NOUN  NN pobj xxxx True False\n",
      "based  base VERB  VBN acl xxxx True False\n",
      "on  on ADP  IN prep xx True True\n",
      "Kaggle PERSON Kaggle PROPN PERSON NNP compound Xxxxx True False\n",
      "dataset  dataset NOUN  NN pobj xxxx True False\n",
      "(  ( PUNCT  -LRB- punct ( False False\n",
      "pipeline  pipeline NOUN  NN appos xxxx True False\n",
      ",  , PUNCT  , punct , False False\n",
      "regularization  regularization NOUN  NN conj xxxx True False\n",
      "and  and CCONJ  CC cc xxx True True\n",
      "hyper  hyper NOUN  NN conj xxxx True False\n",
      "-  - NOUN  NNS conj - False False\n",
      "parameters  parameter NOUN  NNS conj xxxx True False\n",
      "tuning  tune VERB  VBG acl xxxx True False\n",
      "with  with ADP  IN prep xxxx True True\n",
      "randomized  randomized ADJ  JJ amod xxxx True False\n",
      "search  search NOUN  NN pobj xxxx True False\n",
      ")  ) PUNCT  -RRB- punct ) False False\n",
      "     SPACE  _SP punct   False False\n",
      "EXPERIENCE  experience NOUN  NN ROOT XXXX True False\n",
      "     SPACE  _SP appos   False False\n",
      "DBS  DBS PROPN  NNP compound XXX True False\n",
      "Singapore  Singapore PROPN  NNP nmod Xxxxx True False\n",
      "     SPACE  _SP appos   False False\n",
      "Business SKILL|business Business PROPN SKILL|business NNP compound Xxxxx True False\n",
      "Analyst  Analyst PROPN  NNP ROOT Xxxxx True False\n",
      "(  ( PUNCT  -LRB- punct ( False False\n",
      "Sep.2021 ORG Sep.2021 PROPN ORG NNP appos Xxx.dddd False False\n",
      "–  – PUNCT  : punct – False False\n",
      "Now  now ADV  RB advmod Xxx True True\n",
      ")  ) PUNCT  -RRB- punct ) False False\n",
      "     SPACE  _SP appos   False False\n",
      "Conducting  conduct VERB  VBG ROOT Xxxxx True False\n",
      "UAT  UAT PROPN  NNP compound XXX True False\n",
      "testing SKILL|testing testing NOUN SKILL|testing NN dobj xxxx True False\n",
      "via  via ADP  IN prep xxx True True\n",
      "SQL SKILL|sql SQL PROPN SKILL|sql NNP compound XXX True False\n",
      "queries  query NOUN  NNS pobj xxxx True False\n",
      "for  for ADP  IN prep xxx True True\n",
      "multiple  multiple ADJ  JJ amod xxxx True False\n",
      "projects  project NOUN  NNS pobj xxxx True False\n",
      "and  and CCONJ  CC cc xxx True True\n",
      "using  use VERB  VBG conj xxxx True True\n",
      "JIRA SKILL|jira JIRA PROPN SKILL|jira NNP dobj XXXX True False\n",
      "to  to PART  TO aux xx True True\n",
      "log  log VERB  VB xcomp xxx True False\n",
      "issue  issue NOUN  NN compound xxxx True False\n",
      "tickets  ticket NOUN  NNS dobj xxxx True False\n",
      "and  and CCONJ  CC cc xxx True True\n",
      "then  then ADV  RB advmod xxxx True True\n",
      "collaborate  collaborate VERB  VB conj xxxx True False\n",
      "with  with ADP  IN prep xxxx True True\n",
      "tech  tech NOUN  NN pobj xxxx True False\n",
      "to  to PART  TO aux xx True True\n",
      "resolve  resolve VERB  VB advcl xxxx True False\n",
      "issues  issue NOUN  NNS dobj xxxx True False\n",
      ".  . PUNCT  . punct . False False\n",
      "     SPACE  _SP ROOT   False False\n",
      "Contributing  contribute VERB  VBG csubj Xxxxx True False\n",
      "robust  robust ADJ  JJ amod xxxx True False\n",
      "SQL SKILL|sql SQL PROPN SKILL|sql NNP compound XXX True False\n",
      "code  code NOUN  NN dobj xxxx True False\n",
      "for  for ADP  IN prep xxx True True\n",
      "risk  risk NOUN  NN compound xxxx True False\n",
      "mart  mart NOUN  NN pobj xxxx True False\n",
      "tables  table VERB  VBZ ROOT xxxx True False\n",
      "reference  reference NOUN  NN compound xxxx True False\n",
      "integrity  integrity NOUN  NN compound xxxx True False\n",
      "checks  check NOUN  NNS dobj xxxx True False\n",
      ".  . PUNCT  . punct . False False\n",
      "     SPACE  _SP ROOT   False False\n",
      "Ad  ad NOUN  NN npadvmod Xx True False\n",
      "-  - PUNCT  HYPH punct - False False\n",
      "hoc  hoc VERB  VBN amod xxx True False\n",
      "data  data NOUN  NN compound xxxx True False\n",
      "analytics SKILL|analytics analytic NOUN SKILL|analytics NNS ROOT xxxx True False\n",
      "like  like ADP  IN prep xxxx True False\n",
      "Impact  impact NOUN  NN compound Xxxxx True False\n",
      "analysis  analysis NOUN  NN pobj xxxx True False\n",
      "or  or CCONJ  CC cc xx True True\n",
      "amount  amount NOUN  NN compound xxxx True True\n",
      "reconciliation  reconciliation NOUN  NN conj xxxx True False\n",
      "for  for ADP  IN prep xxx True True\n",
      "system  system NOUN  NN compound xxxx True False\n",
      "migration  migration NOUN  NN compound xxxx True False\n",
      "projects  project NOUN  NNS pobj xxxx True False\n",
      "using  use VERB  VBG acl xxxx True True\n",
      "python SKILL|python python NOUN SKILL|python NN dobj xxxx True False\n",
      "(  ( PUNCT  -LRB- punct ( False False\n",
      "pandas SKILL|pandas panda NOUN SKILL|pandas NNS appos xxxx True False\n",
      ")  ) PUNCT  -RRB- punct ) False False\n",
      ",  , PUNCT  , punct , False False\n",
      "SQL SKILL|sql SQL PROPN SKILL|sql NNP conj XXX True False\n",
      "and  and CCONJ  CC cc xxx True True\n",
      "Excel PRODUCT Excel PROPN PRODUCT NNP compound Xxxxx True False\n",
      "pivot  pivot NOUN  NN compound xxxx True False\n",
      "table  table NOUN  NN conj xxxx True False\n",
      "and  and CCONJ  CC cc xxx True True\n",
      "functions  function NOUN  NNS conj xxxx True False\n",
      ".  . PUNCT  . punct . False False\n",
      "     SPACE  _SP ROOT   False False\n",
      "UpdatingACTION  updatingaction NUM  CD nummod XxxxxXXXX True False\n",
      "configuration  configuration NOUN  NN dobj xxxx True False\n",
      "for  for ADP  IN prep xxx True True\n",
      "products  product NOUN  NNS pobj xxxx True False\n",
      "like  like ADP  IN prep xxxx True False\n",
      "risk  risk NOUN  NN compound xxxx True False\n",
      "product  product NOUN  NN compound xxxx True False\n",
      "code  code NOUN  NN pobj xxxx True False\n",
      "according  accord VERB  VBG prep xxxx True False\n",
      "to  to ADP  IN prep xx True True\n",
      "project  project NOUN  NN compound xxxx True False\n",
      "scope  scope NOUN  NN pobj xxxx True False\n",
      "and  and CCONJ  CC cc xxx True True\n",
      "requirements  requirement NOUN  NNS conj xxxx True False\n",
      ".CONSIDER  .CONSIDER PUNCT  . punct .XXXX False False\n",
      "ADDING  add VERB  VBG ROOT XXXX True False\n",
      "RESULTS  RESULTS PROPN  NNP dobj XXXX True False\n",
      "IN  in ADP  IN prep XX True True\n",
      "THIS  this DET  DT det XXXX True True\n",
      "SENTENCE  SENTENCE PROPN  NNP compound XXXX True False\n",
      "     SPACE  _SP compound   False False\n",
      "Maybank  Maybank PROPN  NNP compound Xxxxx True False\n",
      "Singapore  Singapore PROPN  NNP nmod Xxxxx True False\n",
      "     SPACE  _SP appos   False False\n",
      "Business SKILL|business Business PROPN SKILL|business NNP compound Xxxxx True False\n",
      "Analyst  Analyst PROPN  NNP pobj Xxxxx True False\n",
      "(  ( PUNCT  -LRB- punct ( False False\n",
      "Sep.2019 ORG Sep.2019 PROPN ORG NNP appos Xxx.dddd False False\n",
      "–  – PUNCT  : punct – False False\n",
      "Aug.2021  aug.2021 NOUN  NN appos Xxx.dddd False False\n",
      ")  ) PUNCT  -RRB- punct ) False False\n",
      "     SPACE  _SP punct   False False\n",
      "Liaised  liaise VERB  VBN ROOT Xxxxx True False\n",
      "with  with ADP  IN prep xxxx True True\n",
      "business SKILL|business business NOUN SKILL|business NN compound xxxx True False\n",
      "users  user NOUN  NNS pobj xxxx True False\n",
      "to  to PART  TO aux xx True True\n",
      "fathom  fathom VERB  VB advcl xxxx True False\n",
      "definition  definition NOUN  NN dobj xxxx True False\n",
      "and  and CCONJ  CC cc xxx True True\n",
      "formula  formula NOUN  NN conj xxxx True False\n",
      "of  of ADP  IN prep xx True True\n",
      "data  datum NOUN  NNS compound xxxx True False\n",
      "fields  field NOUN  NNS pobj xxxx True False\n",
      "to  to PART  TO aux xx True True\n",
      "author  author VERB  VB advcl xxxx True False\n",
      "user  user NOUN  NN nsubj xxxx True False\n",
      "requirements  requirement VERB  VBZ ROOT xxxx True False\n",
      "documents  document NOUN  NNS dobj xxxx True False\n",
      "and  and CCONJ  CC cc xxx True True\n",
      "develop  develop VERB  VB conj xxxx True False\n",
      "the ORG the DET ORG DT det xxx True True\n",
      "Functional ORG Functional PROPN ORG NNP compound Xxxxx True False\n",
      "Specifications ORG Specifications PROPN ORG NNPS dobj Xxxxx True False\n",
      "of  of ADP  IN prep xx True True\n",
      "program  program NOUN  NN compound xxxx True False\n",
      "changes  change NOUN  NNS pobj xxxx True False\n",
      "to  to PART  TO aux xx True True\n",
      "handover SKILL|handover handover VERB SKILL|handover VB advcl xxxx True False\n",
      "to  to ADP  IN prep xx True True\n",
      "IT  it NOUN  NN compound XX True True\n",
      "department  department NOUN  NN pobj xxxx True False\n",
      ".  . PUNCT  . punct . False False\n",
      "     SPACE  _SP compound   False False\n",
      "Leveraged  Leveraged PROPN  NNP amod Xxxxx True False\n",
      "SAS SKILL|sas SAS PROPN SKILL|sas NNP ROOT XXX True False\n",
      "and  and CCONJ  CC cc xxx True True\n",
      "SQL SKILL|sql SQL PROPN SKILL|sql NNP conj XXX True False\n",
      "to  to ADP  IN prep xx True True\n",
      "implementACTION  implementACTION PROPN  NNP compound xxxxXXXX True False\n",
      "data  datum NOUN  NNS compound xxxx True False\n",
      "mapping  mapping NOUN  NN pobj xxxx True False\n",
      ",  , PUNCT  , punct , False False\n",
      "data SKILL|data-modeling data NOUN SKILL|data-modeling NN compound xxxx True False\n",
      "modeling SKILL|data-modeling modeling NOUN SKILL|data-modeling NN conj xxxx True False\n",
      "and  and CCONJ  CC cc xxx True True\n",
      "UAT ORG UAT PROPN ORG NNP compound XXX True False\n",
      "Testing SKILL|testing Testing PROPN SKILL|testing NNP conj Xxxxx True False\n",
      ".CONSIDER  .CONSIDER PUNCT  . punct .XXXX False False\n",
      "ADDING  add VERB  VBG ROOT XXXX True False\n",
      "RESULTS  RESULTS PROPN  NNP dobj XXXX True False\n",
      "IN  in ADP  IN prep XX True True\n",
      "THIS ORG this DET ORG DT det XXXX True True\n",
      "SENTENCE ORG SENTENCE PROPN ORG NNP pobj XXXX True False\n",
      "  ORG   SPACE ORG _SP punct   False False\n",
      "Created  Created PROPN  NNP compound Xxxxx True False\n",
      "Power SKILL|power-bi Power PROPN SKILL|power-bi NNP compound Xxxxx True False\n",
      "BI SKILL|power-bi BI PROPN SKILL|power-bi NNP compound XX True False\n",
      "dashboard  dashboard NOUN  NN ROOT xxxx True False\n",
      "to  to PART  TO aux xx True True\n",
      "reflect  reflect VERB  VB relcl xxxx True False\n",
      "project  project NOUN  NN compound xxxx True False\n",
      "status  status NOUN  NN dobj xxxx True False\n",
      "and  and CCONJ  CC cc xxx True True\n",
      "KPI ORG KPI PROPN ORG NNP conj XXX True False\n",
      ".  . PUNCT  . punct . False False\n",
      "     SPACE  _SP ROOT   False False\n",
      "Scripted  script VERB  VBN acl Xxxxx True False\n",
      "in  in ADP  IN prep xx True True\n",
      "Power SKILL|power-bi Power PROPN SKILL|power-bi NNP compound Xxxxx True False\n",
      "BI SKILL|power-bi BI PROPN SKILL|power-bi NNP compound XX True False\n",
      "DAX  DAX PROPN  NNP pobj XXX True False\n",
      "to  to ADP  IN prep xx True True\n",
      "transformACTION  transformaction NUM  CD pobj xxxxXXXX True False\n",
      "and  and CCONJ  CC cc xxx True True\n",
      "cleanse  cleanse VERB  VB conj xxxx True False\n",
      "operational  operational ADJ  JJ amod xxxx True False\n",
      "raw  raw ADJ  JJ amod xxx True False\n",
      "data  datum NOUN  NNS dobj xxxx True False\n",
      "and  and CCONJ  CC cc xxx True True\n",
      "to  to PART  TO aux xx True True\n",
      "reduce  reduce VERB  VB conj xxxx True False\n",
      "data  data NOUN  NN compound xxxx True False\n",
      "discrepancy  discrepancy NOUN  NN dobj xxxx True False\n",
      ".CONSIDER  .CONSIDER PUNCT  . punct .XXXX False False\n",
      "ADDING  add VERB  VBG ROOT XXXX True False\n",
      "RESULTS  RESULTS PROPN  NNP dobj XXXX True False\n",
      "IN  in ADP  IN prep XX True True\n",
      "THIS  this DET  DT det XXXX True True\n",
      "SENTENCE  sentence NOUN  NN nmod XXXX True False\n",
      "     SPACE  _SP nummod   False False\n",
      "PSA  PSA PROPN  NNP compound XXX True False\n",
      "Singapore  Singapore PROPN  NNP nmod Xxxxx True False\n",
      "     SPACE  _SP appos   False False\n",
      "Data ORG Data PROPN ORG NNP compound Xxxx True False\n",
      "Analyst ORG Analyst PROPN ORG NNP compound Xxxxx True False\n",
      "Intern ORG Intern PROPN ORG NNP pobj Xxxxx True False\n",
      "(  ( PUNCT  -LRB- punct ( False False\n",
      "May.2019 ORG May.2019 PROPN ORG NNP appos Xxx.dddd False False\n",
      "–  – PUNCT  : punct – False False\n",
      "Aug.2019  Aug.2019 PROPN  NNP appos Xxx.dddd False False\n",
      ")  ) PUNCT  -RRB- punct ) False False\n",
      "     SPACE  _SP punct   False False\n",
      "Scripted  script VERB  VBN ROOT Xxxxx True False\n",
      "in  in ADP  IN prep xx True True\n",
      "QlikView SKILL|qlik-view QlikView PROPN SKILL|qlik-view NNP pobj XxxxXxxx True False\n",
      "to  to PART  TO aux xx True True\n",
      "realize  realize VERB  VB advcl xxxx True False\n",
      "data  datum NOUN  NNS compound xxxx True False\n",
      "cleaning  cleaning NOUN  NN dobj xxxx True False\n",
      ",  , PUNCT  , punct , False False\n",
      "data  datum NOUN  NNS nmod xxxx True False\n",
      "mapping  mapping NOUN  NN nmod xxxx True False\n",
      "and  and CCONJ  CC cc xxx True True\n",
      "data  datum NOUN  NNS conj xxxx True False\n",
      "transformation  transformation NOUN  NN conj xxxx True False\n",
      ".  . PUNCT  . punct . False False\n",
      "     SPACE  _SP ROOT   False False\n",
      "Prepared  prepare VERB  VBD ROOT Xxxxx True False\n",
      "the  the DET  DT det xxx True True\n",
      "configuration  configuration NOUN  NN dobj xxxx True False\n",
      "for  for ADP  IN prep xxx True True\n",
      "the  the DET  DT det xxx True True\n",
      "ingestion  ingestion NOUN  NN compound xxxx True False\n",
      "ETL SKILL|etl etl NOUN SKILL|etl NN compound XXX True False\n",
      "framework SKILL|framework framework NOUN SKILL|framework NN pobj xxxx True False\n",
      "to  to PART  TO aux xx True True\n",
      "extract  extract VERB  VB relcl xxxx True False\n",
      ",  , PUNCT  , punct , False False\n",
      "load  load NOUN  NN conj xxxx True False\n",
      "and  and CCONJ  CC cc xxx True True\n",
      "manipulate  manipulate VERB  VB conj xxxx True False\n",
      "high  high ADJ  JJ amod xxxx True False\n",
      "-  - PUNCT  HYPH punct - False False\n",
      "volume  volume NOUN  NN compound xxxx True False\n",
      "data  datum NOUN  NNS dobj xxxx True False\n",
      "from  from ADP  IN prep xxxx True True\n",
      "various  various ADJ  JJ amod xxxx True True\n",
      "data  data NOUN  NN compound xxxx True False\n",
      "sources  source NOUN  NNS pobj xxxx True False\n",
      "into  into ADP  IN prep xxxx True True\n",
      "QlikView SKILL|qlik-view QlikView PROPN SKILL|qlik-view NNP pobj XxxxXxxx True False\n",
      ".  . PUNCT  . punct . False False\n",
      "     SPACE  _SP ROOT   False False\n",
      "EDUCATION  EDUCATION PROPN  NNP ROOT XXXX True False\n",
      "     SPACE  _SP nummod   False False\n",
      "National  National PROPN  NNP compound Xxxxx True False\n",
      "University DEGREE|BS-LEVEL University PROPN DEGREE|BS-LEVEL NNP nmod Xxxxx True False\n",
      "of  of ADP  IN prep xx True True\n",
      "Singapore  Singapore PROPN  NNP pobj Xxxxx True False\n",
      "Singapore  Singapore PROPN  NNP nmod Xxxxx True False\n",
      "     SPACE  _SP compound   False False\n",
      "B.Sc DEGREE|BS-LEVEL B.Sc PROPN DEGREE|BS-LEVEL NNP ROOT X.Xx False False\n",
      ".  . PUNCT  . punct . False False\n",
      "in  in ADP  IN prep xx True True\n",
      "Applied  Applied PROPN  NNP compound Xxxxx True False\n",
      "Mathematics  Mathematics PROPN  NNP pobj Xxxxx True False\n",
      "(  ( PUNCT  -LRB- punct ( False False\n",
      "Aug DATE|V1 Aug PROPN DATE|V1 NNP appos Xxx True False\n",
      "2016 DATE|V1 2016 NUM DATE|V1 CD nummod dddd False False\n",
      "–  – PUNCT  : punct – False False\n",
      "Aug DATE|V1 Aug PROPN DATE|V1 NNP appos Xxx True False\n",
      "2019 DATE|V1 2019 NUM DATE|V1 CD nummod dddd False False\n",
      ")  ) PUNCT  -RRB- punct ) False False\n",
      "     SPACE  _SP punct   False False\n",
      "General ORG General PROPN ORG NNP compound Xxxxx True False\n",
      "Assembly ORG Assembly PROPN ORG NNP nmod Xxxxx True False\n",
      "     SPACE  _SP nummod   False False\n",
      "Data SKILL|data-science Data PROPN SKILL|data-science NNP compound Xxxx True False\n",
      "Science SKILL|data-science Science PROPN SKILL|data-science NNP compound Xxxxx True False\n",
      "Bootcamp  Bootcamp PROPN  NNP ROOT Xxxxx True False\n",
      "(  ( PUNCT  -LRB- punct ( False False\n",
      "Aug DATE|V1 Aug PROPN DATE|V1 NNP appos Xxx True False\n",
      "2022 DATE|V1 2022 NUM DATE|V1 CD nummod dddd False False\n",
      "–  – PUNCT  : punct – False False\n",
      "Mar DATE|V1 Mar PROPN DATE|V1 NNP appos Xxx True False\n",
      "2023 DATE|V1 2023 NUM DATE|V1 CD nummod dddd False False\n",
      ",  , PUNCT  , punct , False False\n",
      "part  part NOUN  NN amod xxxx True True\n",
      "-  - PUNCT  HYPH punct - False False\n",
      "time  time NOUN  NN appos xxxx True False\n",
      ")  ) PUNCT  -RRB- punct ) False False\n",
      "Singapore  Singapore PROPN  NNP nmod Xxxxx True False\n",
      "     SPACE  _SP compound   False False\n",
      "CERTIFICATE  CERTIFICATE PROPN  NNP ROOT XXXX True False\n",
      "     SPACE  _SP punct   False False\n",
      "Deep SKILL|deep-learning Deep PROPN SKILL|deep-learning NNP compound Xxxx True False\n",
      "Learning SKILL|deep-learning Learning PROPN SKILL|deep-learning NNP compound Xxxxx True False\n",
      "Specialization  Specialization PROPN  NNP ROOT Xxxxx True False\n",
      "     SPACE  _SP appos   False False\n",
      "5  5 NUM  CD nummod d False False\n",
      "Coursera  Coursera PROPN  NNP compound Xxxxx True False\n",
      "Course  course NOUN  NN compound Xxxxx True False\n",
      "Certificates  Certificates PROPN  NNPS dobj Xxxxx True False\n",
      "(  ( PUNCT  -LRB- punct ( False False\n",
      "Neural  Neural PROPN  NNP compound Xxxxx True False\n",
      "Networks  Networks PROPN  NNP appos Xxxxx True False\n",
      ",  , PUNCT  , punct , False False\n",
      "CNN ORG CNN PROPN ORG NNP appos XXX True False\n",
      ",  , PUNCT  , punct , False False\n",
      "RNN ORG RNN PROPN ORG NNP appos XXX True False\n",
      ",  , PUNCT  , punct , False False\n",
      "CV ORG CV PROPN ORG NNP conj XX True False\n",
      ",  , PUNCT  , punct , False False\n",
      "NLP SKILL|natural-language-processing NLP PROPN SKILL|natural-language-processing NNP conj XXX True False\n",
      ")  ) PUNCT  -RRB- punct ) False False\n",
      "     SPACE  _SP compound   False False\n",
      "SKILLS ORG SKILLS PROPN ORG NNP appos XXXX True False\n",
      "& ORG & CCONJ ORG CC cc & False False\n",
      "INTERESTS ORG INTERESTS PROPN ORG NNP conj XXXX True False\n",
      "     SPACE  _SP punct   False False\n",
      "Familiar  familiar ADJ  JJ ROOT Xxxxx True False\n",
      "with  with ADP  IN prep xxxx True True\n",
      "statistics  statistic NOUN  NNS pobj xxxx True False\n",
      "and  and CCONJ  CC cc xxx True True\n",
      "Machine SKILL|machine-learning Machine PROPN SKILL|machine-learning NNP compound Xxxxx True False\n",
      "Learning SKILL|machine-learning Learning PROPN SKILL|machine-learning NNP conj Xxxxx True False\n",
      "concepts  concept NOUN  NNS pobj xxxx True False\n",
      ".  . PUNCT  . punct . False False\n",
      "     SPACE  _SP ROOT   False False\n",
      "Proficient  proficient ADJ  JJ amod Xxxxx True False\n",
      "in  in ADP  IN prep xx True True\n",
      "Python SKILL|python Python PROPN SKILL|python NNP pobj Xxxxx True False\n",
      "and  and CCONJ  CC cc xxx True True\n",
      "SQL SKILL|sql SQL PROPN SKILL|sql NNP conj XXX True False\n",
      ";  ; PUNCT  : punct ; False False\n",
      "Intermediate  Intermediate PROPN  NNP amod Xxxxx True False\n",
      "level  level NOUN  NN conj xxxx True False\n",
      "in  in ADP  IN prep xx True True\n",
      "R SKILL|r R PROPN SKILL|r NNP pobj X True False\n",
      ",  , PUNCT  , punct , False False\n",
      "HTML SKILL|html HTML PROPN SKILL|html NNP conj XXXX True False\n",
      ",  , PUNCT  , punct , False False\n",
      "CSS SKILL|css CSS PROPN SKILL|css NNP conj XXX True False\n",
      ",  , PUNCT  , punct , False False\n",
      "JavaScript SKILL|javascript JavaScript PROPN SKILL|javascript NNP conj XxxxXxxxx True False\n",
      ",  , PUNCT  , punct , False False\n",
      "shell(zsh PERSON shell(zsh PROPN PERSON NNP npadvmod xxxx(xxx False False\n",
      ")  ) PUNCT  -RRB- punct ) False False\n",
      "     SPACE  _SP ROOT   False False\n",
      "Passion  passion NOUN  NN ROOT Xxxxx True False\n",
      "in  in ADP  IN prep xx True True\n",
      "applying  apply VERB  VBG pcomp xxxx True False\n",
      "Machine SKILL|machine-learning Machine PROPN SKILL|machine-learning NNP compound Xxxxx True False\n",
      "Learning SKILL|machine-learning Learning PROPN SKILL|machine-learning NNP dobj Xxxxx True False\n",
      "to  to ADP  IN prep xx True True\n",
      "financial  financial ADJ  JJ amod xxxx True False\n",
      "area  area NOUN  NN pobj xxxx True False\n",
      ".  . PUNCT  . punct . False False\n",
      "(  ( PUNCT  -LRB- punct ( False False\n",
      "like  like ADP  IN ROOT xxxx True False\n",
      "algorithmic  algorithmic ADJ  JJ amod xxxx True False\n",
      "trading  trading NOUN  NN pobj xxxx True False\n",
      ")  ) PUNCT  -RRB- punct ) False False\n",
      "     SPACE  _SP pobj   False False\n",
      "Bilingual GPE Bilingual PROPN GPE NNP appos Xxxxx True False\n",
      "in  in ADP  IN prep xx True True\n",
      "English LANGUAGE English PROPN LANGUAGE NNP pobj Xxxxx True False\n",
      "and  and CCONJ  CC cc xxx True True\n",
      "Mandarin LANGUAGE Mandarin PROPN LANGUAGE NNP conj Xxxxx True False\n",
      ".  . PUNCT  . punct . False False\n"
     ]
    }
   ],
   "source": [
    "nlp = english_model = spacy.load(\"./models/en/\")\n",
    "skill_path = \"skills.jsonl\"\n",
    "ruler = nlp.add_pipe(\"entity_ruler\",  config={\"overwrite_ents\": True})\n",
    "ruler.from_disk(skill_path)\n",
    "\n",
    "doc = nlp(text)\n",
    "\n",
    "for token in doc:\n",
    "    print(token.text, token.ent_type_, token.lemma_, token.pos_, token.ent_type_, token.tag_, token.dep_,\n",
    "            token.shape_, token.is_alpha, token.is_stop)"
   ]
  },
  {
   "cell_type": "code",
   "execution_count": 51,
   "metadata": {},
   "outputs": [
    {
     "data": {
      "text/plain": [
       "[]"
      ]
     },
     "execution_count": 51,
     "metadata": {},
     "output_type": "execute_result"
    }
   ],
   "source": [
    "[i for i in doc[2].lefts]"
   ]
  },
  {
   "cell_type": "code",
   "execution_count": 89,
   "metadata": {},
   "outputs": [
    {
     "data": {
      "text/plain": [
       "44"
      ]
     },
     "execution_count": 89,
     "metadata": {},
     "output_type": "execute_result"
    }
   ],
   "source": [
    "len(doc)"
   ]
  },
  {
   "cell_type": "code",
   "execution_count": 90,
   "metadata": {},
   "outputs": [
    {
     "data": {
      "text/plain": [
       "March"
      ]
     },
     "execution_count": 90,
     "metadata": {},
     "output_type": "execute_result"
    }
   ],
   "source": [
    "doc[43]"
   ]
  },
  {
   "cell_type": "code",
   "execution_count": 21,
   "metadata": {},
   "outputs": [
    {
     "data": {
      "text/plain": [
       "6"
      ]
     },
     "execution_count": 21,
     "metadata": {},
     "output_type": "execute_result"
    }
   ],
   "source": [
    "len(doc[13])"
   ]
  },
  {
   "cell_type": "code",
   "execution_count": 99,
   "metadata": {},
   "outputs": [],
   "source": [
    "if (\"i\" in [doc[43].lemma_] or \"s\" in [doc[43].lemma_]):\n",
    "    print(\"z\")"
   ]
  },
  {
   "cell_type": "code",
   "execution_count": 206,
   "metadata": {},
   "outputs": [
    {
     "name": "stderr",
     "output_type": "stream",
     "text": [
      "/Users/zhangzhexu/opt/anaconda3/lib/python3.9/site-packages/spacy/util.py:877: UserWarning: [W095] Model 'en_core_web_sm' (3.0.0) was trained with spaCy v3.0 and may not be 100% compatible with the current version (3.4.3). If you see errors or degraded performance, download a newer compatible model or retrain your custom model with the current spaCy version. For more details and available updates, run: python -m spacy validate\n",
      "  warnings.warn(warn_msg)\n"
     ]
    },
    {
     "data": {
      "text/plain": [
       "['tok2vec', 'tagger', 'parser', 'ner', 'attribute_ruler', 'lemmatizer']"
      ]
     },
     "execution_count": 206,
     "metadata": {},
     "output_type": "execute_result"
    }
   ],
   "source": [
    "nlp = english_model = spacy.load(\"./models/en/\")\n",
    "nlp.pipe_names"
   ]
  },
  {
   "cell_type": "code",
   "execution_count": 204,
   "metadata": {},
   "outputs": [
    {
     "name": "stderr",
     "output_type": "stream",
     "text": [
      "/Users/zhangzhexu/opt/anaconda3/lib/python3.9/site-packages/spacy/util.py:877: UserWarning: [W095] Model 'en_core_web_sm' (3.0.0) was trained with spaCy v3.0 and may not be 100% compatible with the current version (3.4.3). If you see errors or degraded performance, download a newer compatible model or retrain your custom model with the current spaCy version. For more details and available updates, run: python -m spacy validate\n",
      "  warnings.warn(warn_msg)\n"
     ]
    },
    {
     "name": "stdout",
     "output_type": "stream",
     "text": [
      "Business Business PROPN  NNP compound Xxxxx True False\n",
      "Analyst Analyst PROPN  NNP ROOT Xxxxx True False\n",
      "( ( PUNCT  -LRB- punct ( False False\n",
      "Sep Sep PROPN  NNP appos Xxx True False\n",
      "2021 2021 NUM  CD nummod dddd False False\n",
      "– – PUNCT  : punct – False False\n",
      "Now now ADV  RB advmod Xxx True True\n",
      ") ) PUNCT  -RRB- punct ) False False\n",
      "Created Created PROPN ORG NNP compound Xxxxx True False\n",
      "Power Power PROPN ORG NNP compound Xxxxx True False\n",
      "BI BI PROPN ORG NNP compound XX True False\n",
      "dashboard dashboard NOUN  NN ROOT xxxx True False\n",
      "to to PART  TO aux xx True True\n",
      "reflect reflect VERB  VB relcl xxxx True False\n",
      "project project NOUN  NN compound xxxx True False\n",
      "status status NOUN  NN dobj xxxx True False\n",
      "and and CCONJ  CC cc xxx True True\n",
      "KPI KPI PROPN ORG NNP conj XXX True False\n",
      ". . PUNCT  . punct . False False\n",
      "github.io github.io X  ADD nmod xxxx.xx False False\n",
      "• • PRON  PRP$ poss • False False\n",
      "Increased increased ADJ  JJ amod Xxxxx True False\n",
      "revenue revenue NOUN  NN nsubj xxxx True False\n",
      "by by ADP  IN prep xx True True\n",
      "6.3 6.3 NUM PERCENT CD nummod d.d False False\n",
      "% % NOUN PERCENT NN pobj % False False\n",
      ", , PUNCT  , punct , False False\n",
      "gross gross ADJ  JJ amod xxxx True False\n",
      "profit profit NOUN  NN appos xxxx True False\n",
      "by by ADP  IN prep xx True True\n",
      "4.2%,and 4.2%,and NUM CARDINAL CD nummod d.d%,xxx False False\n",
      "operating operate VERB  VBG amod xxxx True False\n",
      "income income NOUN  NN pobj xxxx True False\n",
      "by by ADP  IN prep xx True True\n",
      "146 146 NUM PERCENT CD nummod ddd False False\n",
      "% % NOUN PERCENT NN pobj % False False\n",
      ", , PUNCT  , punct , False False\n",
      "and and CCONJ  CC cc xxx True True\n",
      "achieved achieve VERB  VBD ROOT xxxx True False\n",
      "a a DET  DT det x True True\n",
      "30 30 NUM PERCENT CD nummod dd False False\n",
      "% % NOUN PERCENT NN compound % False False\n",
      "ratio ratio NOUN  NN dobj xxxx True False\n",
      "of of ADP  IN prep xx True True\n",
      "new new ADJ  JJ amod xxx True False\n",
      "customers customer NOUN  NNS pobj xxxx True False\n",
      "( ( PUNCT  -LRB- punct ( False False\n",
      "3x 3x NUM CARDINAL CD compound dx False False\n",
      "growth growth NOUN  NN appos xxxx True False\n",
      ") ) PUNCT  -RRB- punct ) False False\n",
      ", , PUNCT  , punct , False False\n",
      "by by ADP  IN prep xx True True\n",
      "entering enter VERB  VBG pcomp xxxx True False\n",
      "new new ADJ  JJ amod xxx True False\n",
      "markets market NOUN  NNS dobj xxxx True False\n",
      "and and CCONJ  CC cc xxx True True\n",
      "improving improve VERB  VBG conj xxxx True False\n",
      "customer customer NOUN  NN compound xxxx True False\n",
      "service service NOUN  NN dobj xxxx True False\n",
      "and and CCONJ  CC cc xxx True True\n",
      "training training NOUN  NN conj xxxx True False\n",
      ". . PUNCT  . punct . False False\n",
      "achieved achieve VERB  VBN ROOT xxxx True False\n",
      "first first ADJ ORDINAL JJ amod xxxx True True\n",
      "place place NOUN  NN dobj xxxx True False\n",
      "in in ADP  IN prep xx True True\n",
      "competition competition NOUN  NN pobj xxxx True False\n",
      ". . PUNCT  . punct . False False\n"
     ]
    }
   ],
   "source": [
    "nlp = english_model = spacy.load(\"./models/en/\")\n",
    "doc = nlp(text)\n",
    "\n",
    "for token in doc:\n",
    "    print(token.text, token.lemma_, token.pos_, token.ent_type_, token.tag_, token.dep_,\n",
    "            token.shape_, token.is_alpha, token.is_stop)"
   ]
  },
  {
   "cell_type": "code",
   "execution_count": 128,
   "metadata": {},
   "outputs": [
    {
     "data": {
      "text/plain": [
       "['github.io',\n",
       " '•',\n",
       " 'Increased',\n",
       " 'revenue',\n",
       " 'by',\n",
       " '6.3',\n",
       " '%',\n",
       " ',',\n",
       " 'gross',\n",
       " 'profit',\n",
       " 'by',\n",
       " '4.2%,and',\n",
       " 'operating',\n",
       " 'income',\n",
       " 'by',\n",
       " '146',\n",
       " '%',\n",
       " ',',\n",
       " 'and',\n",
       " 'achieved',\n",
       " 'a',\n",
       " '30',\n",
       " '%',\n",
       " 'ratio',\n",
       " 'of',\n",
       " 'new',\n",
       " 'customers',\n",
       " '(',\n",
       " '3x',\n",
       " 'growth',\n",
       " ')',\n",
       " ',',\n",
       " 'by',\n",
       " 'entering',\n",
       " 'new',\n",
       " 'markets',\n",
       " 'and',\n",
       " 'improving',\n",
       " 'customer',\n",
       " 'service',\n",
       " 'and',\n",
       " 'training',\n",
       " '.']"
      ]
     },
     "execution_count": 128,
     "metadata": {},
     "output_type": "execute_result"
    }
   ],
   "source": [
    "tokens_1 = [x.text for x in doc]\n",
    "\n",
    "for i in range(1,len(doc)-2):\n",
    "    if (doc[i-1].lemma_ in prep or doc[i+1].lemma_ in prep or doc[i-1].dep_ == 'punct'):\n",
    "        try: \n",
    "            int(doc[i].text) \n",
    "            if int(doc[i].text) in range(1960,2024):\n",
    "                tokens_1[i] = (doc[i].text) + 'year'\n",
    "        except: \n",
    "            continue\n",
    "\n",
    "tokens_1 "
   ]
  },
  {
   "cell_type": "code",
   "execution_count": 120,
   "metadata": {},
   "outputs": [
    {
     "data": {
      "text/plain": [
       "2005"
      ]
     },
     "execution_count": 120,
     "metadata": {},
     "output_type": "execute_result"
    }
   ],
   "source": [
    "int(doc[6].text) "
   ]
  },
  {
   "cell_type": "code",
   "execution_count": 122,
   "metadata": {},
   "outputs": [
    {
     "data": {
      "text/plain": [
       "True"
      ]
     },
     "execution_count": 122,
     "metadata": {},
     "output_type": "execute_result"
    }
   ],
   "source": [
    "int(doc[6].text) in range(1960,2024)"
   ]
  },
  {
   "cell_type": "code",
   "execution_count": 123,
   "metadata": {},
   "outputs": [
    {
     "data": {
      "text/plain": [
       "True"
      ]
     },
     "execution_count": 123,
     "metadata": {},
     "output_type": "execute_result"
    }
   ],
   "source": [
    "prep = [\"from\",\"to\",\"after\",\"before\",\"in\"]\n",
    "doc[5].lemma_ in prep "
   ]
  },
  {
   "cell_type": "code",
   "execution_count": 59,
   "metadata": {},
   "outputs": [
    {
     "data": {
      "text/plain": [
       "2008"
      ]
     },
     "execution_count": 59,
     "metadata": {},
     "output_type": "execute_result"
    }
   ],
   "source": [
    "doc[2]"
   ]
  },
  {
   "cell_type": "code",
   "execution_count": 60,
   "metadata": {},
   "outputs": [
    {
     "data": {
      "text/plain": [
       "True"
      ]
     },
     "execution_count": 60,
     "metadata": {},
     "output_type": "execute_result"
    }
   ],
   "source": [
    "[sent[0] for sent in doc.sents][1] == doc[2]"
   ]
  },
  {
   "cell_type": "code",
   "execution_count": 63,
   "metadata": {},
   "outputs": [
    {
     "data": {
      "text/plain": [
       "True"
      ]
     },
     "execution_count": 63,
     "metadata": {},
     "output_type": "execute_result"
    }
   ],
   "source": [
    "float(doc[2].text) in range(1960,2024)"
   ]
  },
  {
   "cell_type": "code",
   "execution_count": 66,
   "metadata": {},
   "outputs": [
    {
     "name": "stdout",
     "output_type": "stream",
     "text": [
      "2008\n"
     ]
    }
   ],
   "source": [
    "for sent in doc.sents:\n",
    "    for token in sent:\n",
    "        if (token.pos_ == \"NUM\" and token == sent[0]):\n",
    "            try: \n",
    "                int(token.text) in range(1960,2024)\n",
    "                print(token.text)\n",
    "            except: \n",
    "                continue"
   ]
  },
  {
   "cell_type": "code",
   "execution_count": 109,
   "metadata": {},
   "outputs": [
    {
     "name": "stdout",
     "output_type": "stream",
     "text": [
      "[(' ', ' ', 'SPACE', '', '_SP', 'nsubj', ' ', False, False), ('Exceeded', 'exceed', 'VERB', '', 'VBD', 'ROOT', 'Xxxxx', True, False), ('sales', 'sale', 'NOUN', '', 'NNS', 'compound', 'xxxx', True, False), ('target', 'target', 'NOUN', '', 'NN', 'dobj', 'xxxx', True, False), ('every', 'every', 'DET', 'DATE', 'DT', 'det', 'xxxx', True, True), ('year', 'year', 'NOUN', 'DATE', 'NN', 'npadvmod', 'xxxx', True, False), ('from', 'from', 'ADP', '', 'IN', 'prep', 'xxxx', True, True), ('first', 'first', 'ADV', 'ORDINAL', 'RB', 'pcomp', 'xxxx', True, True), (',', ',', 'PUNCT', '', ',', 'punct', ',', False, False), ('Jan', 'Jan', 'PROPN', 'DATE', 'NNP', 'npadvmod', 'Xxx', True, False), ('2005', '2005', 'NUM', 'DATE', 'CD', 'nummod', 'dddd', False, False), ('to', 'to', 'ADP', '', 'IN', 'prep', 'xx', True, True), ('2007', '2007', 'NUM', '', 'CD', 'pobj', 'dddd', False, False), ('(', '(', 'PUNCT', '', '-LRB-', 'punct', '(', False, False), ('achieved', 'achieve', 'VERB', '', 'VBN', 'dep', 'xxxx', True, False), ('60', '60', 'NUM', 'PERCENT', 'CD', 'nummod', 'dd', False, False), ('%', '%', 'NOUN', 'PERCENT', 'NN', 'dobj', '%', False, False), ('of', 'of', 'ADP', '', 'IN', 'prep', 'xx', True, True), ('the', 'the', 'DET', '', 'DT', 'det', 'xxx', True, True), ('target', 'target', 'NOUN', '', 'NN', 'pobj', 'xxxx', True, False), ('in', 'in', 'ADP', '', 'IN', 'prep', 'xx', True, True), ('the', 'the', 'DET', 'DATE', 'DT', 'det', 'xxx', True, True), ('first', 'first', 'ADJ', 'DATE', 'JJ', 'amod', 'xxxx', True, True), ('3', '3', 'NUM', 'DATE', 'CD', 'nummod', 'd', False, False), ('months', 'month', 'NOUN', 'DATE', 'NNS', 'pobj', 'xxxx', True, False), ('of', 'of', 'ADP', 'DATE', 'IN', 'prep', 'xx', True, True), ('2008', '2008', 'NUM', 'DATE', 'CD', 'pobj', 'dddd', False, False), (')', ')', 'PUNCT', '', '-RRB-', 'punct', ')', False, False), ('.', '.', 'PUNCT', '', '.', 'punct', '.', False, False)]\n",
      "[('Obtain', 'obtain', 'VERB', '', 'VB', 'ROOT', 'Xxxxx', True, False), ('1st', '1st', 'ADJ', 'ORDINAL', 'JJ', 'amod', 'dxx', False, False), ('place', 'place', 'NOUN', '', 'NN', 'dobj', 'xxxx', True, False), ('in', 'in', 'ADP', '', 'IN', 'prep', 'xx', True, True), ('competition', 'competition', 'NOUN', '', 'NN', 'compound', 'xxxx', True, False), ('test', 'test', 'NOUN', '', 'NN', 'compound', 'xxxx', True, False), ('contest', 'contest', 'NOUN', '', 'NN', 'compound', 'xxxx', True, False), ('challenage', 'challenage', 'NOUN', '', 'NN', 'compound', 'xxxx', True, False), ('race', 'race', 'NOUN', '', 'NN', 'pobj', 'xxxx', True, False), ('from', 'from', 'ADP', '', 'IN', 'prep', 'xxxx', True, True), ('1st', '1st', 'ADJ', 'DATE', 'JJ', 'amod', 'dxx', False, False), ('Jan', 'Jan', 'PROPN', 'DATE', 'NNP', 'pobj', 'Xxx', True, False), ('to', 'to', 'ADP', 'DATE', 'IN', 'prep', 'xx', True, True), ('3rd', '3rd', 'ADJ', 'DATE', 'JJ', 'amod', 'dxx', False, False), ('March', 'March', 'PROPN', 'DATE', 'NNP', 'pobj', 'Xxxxx', True, False)]\n"
     ]
    }
   ],
   "source": [
    "for sent in doc.sents:\n",
    "    print([(token.text, token.lemma_, token.pos_, token.ent_type_, token.tag_, token.dep_,\n",
    "            token.shape_, token.is_alpha, token.is_stop) for token in sent])\n"
   ]
  },
  {
   "cell_type": "code",
   "execution_count": 30,
   "metadata": {},
   "outputs": [
    {
     "name": "stdout",
     "output_type": "stream",
     "text": [
      "[('focused', 'VERB', '#faa'), ('on', 'ADP', '#fda')]\n"
     ]
    }
   ],
   "source": [
    "tokens = []\n",
    "star = 0\n",
    "for sent in doc.sents:\n",
    "    for token in sent:\n",
    "        if (token.pos_ == \"VERB\") & (star == 0):\n",
    "            star = 1\n",
    "            tokens.append((token.text, token.pos_ , \"#faa\"))\n",
    "        elif (token.pos_ in [\"ADP\", \"NUM\"]) & (star == 1):\n",
    "            tokens.append((token.text, token.pos_ , \"#fda\"))\n",
    "            star = 0\n",
    "            break\n",
    "        #elif (token.pos_ == \"ORG\") & (\"ORG\" in selected_entities):\n",
    "        #    tokens.append((token.text, \"Organization\", \"#afa\"))\n",
    "        else:\n",
    "            #tokens.append(\" \" + token.text + \" \")\n",
    "            continue\n",
    "\n",
    "print(tokens)"
   ]
  },
  {
   "cell_type": "code",
   "execution_count": 10,
   "metadata": {},
   "outputs": [
    {
     "data": {
      "text/plain": [
       "False"
      ]
     },
     "execution_count": 10,
     "metadata": {},
     "output_type": "execute_result"
    }
   ],
   "source": [
    "doc[1].pos_ == \"VERB\""
   ]
  },
  {
   "cell_type": "code",
   "execution_count": 33,
   "metadata": {},
   "outputs": [
    {
     "data": {
      "text/plain": [
       "2015 Implementation of the Shortest Path and PageRank algorithms with the Wikipedia graph dataset Machine Learning at Scale Hadoop MrJob, Python, AWS EC2, AWS S3 Using a graph dataset of almost half a million nodes. 2015 Forest cover type prediction Machine Learning Python, Scikit-Learn, Matplotlib A Kaggle competition: predictions of the predominant kind of tree cover, from strictly cartographic variables such as elevation and soil type, using random forests, SVMs, kNNs, Naive Bayes, Gradient Descent, GMMs, ... 2015 Redefining the job search process Storing and Retrieving Data"
      ]
     },
     "execution_count": 33,
     "metadata": {},
     "output_type": "execute_result"
    }
   ],
   "source": [
    "doc"
   ]
  },
  {
   "cell_type": "code",
   "execution_count": 38,
   "metadata": {},
   "outputs": [
    {
     "name": "stdout",
     "output_type": "stream",
     "text": [
      "2015 True\n",
      "2015 True\n"
     ]
    },
    {
     "ename": "ValueError",
     "evalue": "invalid literal for int() with base 10: 'Redefining'",
     "output_type": "error",
     "traceback": [
      "\u001b[0;31m---------------------------------------------------------------------------\u001b[0m",
      "\u001b[0;31mValueError\u001b[0m                                Traceback (most recent call last)",
      "\u001b[1;32m/Users/zhangzhexu/cvanalyzer/test.ipynb Cell 9\u001b[0m in \u001b[0;36m<cell line: 1>\u001b[0;34m()\u001b[0m\n\u001b[1;32m      <a href='vscode-notebook-cell:/Users/zhangzhexu/cvanalyzer/test.ipynb#X10sZmlsZQ%3D%3D?line=1'>2</a>\u001b[0m \u001b[39mfor\u001b[39;00m token \u001b[39min\u001b[39;00m sent:\n\u001b[1;32m      <a href='vscode-notebook-cell:/Users/zhangzhexu/cvanalyzer/test.ipynb#X10sZmlsZQ%3D%3D?line=2'>3</a>\u001b[0m     \u001b[39mif\u001b[39;00m token \u001b[39m==\u001b[39m sent[\u001b[39m0\u001b[39m]:\n\u001b[0;32m----> <a href='vscode-notebook-cell:/Users/zhangzhexu/cvanalyzer/test.ipynb#X10sZmlsZQ%3D%3D?line=3'>4</a>\u001b[0m         \u001b[39mprint\u001b[39m(token, \u001b[39mint\u001b[39;49m(token\u001b[39m.\u001b[39;49mtext) \u001b[39min\u001b[39;00m \u001b[39mrange\u001b[39m(\u001b[39m1960\u001b[39m,\u001b[39m2024\u001b[39m))\n",
      "\u001b[0;31mValueError\u001b[0m: invalid literal for int() with base 10: 'Redefining'"
     ]
    }
   ],
   "source": [
    "for sent in doc.sents:\n",
    "    for token in sent:\n",
    "        if token == sent[0]:\n",
    "            print(token, int(token.text) in range(1960,2024))\n",
    "    #print(sent[0].text)\n"
   ]
  },
  {
   "cell_type": "code",
   "execution_count": null,
   "metadata": {},
   "outputs": [],
   "source": []
  },
  {
   "cell_type": "code",
   "execution_count": 13,
   "metadata": {},
   "outputs": [],
   "source": [
    "tokens = []\n",
    "stars = 0\n",
    "sents = 0\n",
    "for sent in doc.sents:\n",
    "    star = 0\n",
    "    sents += 1\n",
    "    for token in sent:\n",
    "        if (token.pos_ == \"VERB\") & (star == 0):\n",
    "            star = 1\n",
    "            tokens.append((token.text, token.pos_, \"#afa\"))\n",
    "        elif (token.pos_ == \"NUM\" and token.ent_type_ != \"DATE\") & (star == 1):\n",
    "            lefts = [t.pos_ for t in token.lefts]\n",
    "            if len(lefts) and lefts[-1] in['PROPN',\"PUNCT\"]:\n",
    "                tokens.append(\" \" + token.text + \" \")\n",
    "                print(token.text)\n",
    "                continue\n",
    "            tokens.append((token.text, token.ent_type_, \"#fda\"))\n",
    "            star = 0\n",
    "            stars += 1\n",
    "        #elif (token.pos_ == \"ORG\") & (\"ORG\" in selected_entities):\n",
    "        #    tokens.append((token.text, \"Organization\", \"#afa\"))\n",
    "        elif (token.pos_ == \"PUNCT\" and token == sent[-1]) & (star == 1):\n",
    "            tokens.append((token.text, \"Consider adding results in this sentence\", \"#faa\"))\n",
    "        else:\n",
    "            tokens.append(\" \" + token.text + \" \")\n",
    "            continue"
   ]
  },
  {
   "cell_type": "code",
   "execution_count": 131,
   "metadata": {},
   "outputs": [
    {
     "name": "stdout",
     "output_type": "stream",
     "text": [
      "[' 2015 ', ' Implementation ', ' of ', ' the ', ' Shortest ', ' Path ', ' and ', ' PageRank ', ' algorithms ', ' with ', ' the ', ' Wikipedia ', ' graph ', ' dataset ', ' Machine ', ' Learning ', ' at ', ' Scale ', ' Hadoop ', ' MrJob ', ' , ', ' Python ', ' , ', ' AWS ', ' EC2 ', ' , ', ' AWS ', ' S3 ', ('Using', 'VERB', '#afa'), ' a ', ' graph ', ' dataset ', ' of ', ' almost ', ' half ', ' a ', ('million', 'CARDINAL', '#fda'), ' nodes ', ' . ', ' 2015 ', ' Forest ', ' cover ', ' type ', ' prediction ', ' Machine ', ' Learning ', ' Python ', ' , ', ' Scikit ', ' - ', ' Learn ', ' , ', ' Matplotlib ', ' A ', ' Kaggle ', ' competition ', ' : ', ' predictions ', ' of ', ' the ', ' predominant ', ' kind ', ' of ', ' tree ', ' cover ', ' , ', ' from ', ' strictly ', ' cartographic ', ' variables ', ' such ', ' as ', ' elevation ', ' and ', ' soil ', ' type ', ' , ', ('using', 'VERB', '#afa'), ' random ', ' forests ', ' , ', ' SVMs ', ' , ', ' kNNs ', ' , ', ' Naive ', ' Bayes ', ' , ', ' Gradient ', ' Descent ', ' , ', ' GMMs ', ' , ', ' ... ', ('2015', '', '#fda'), ('Redefining', 'VERB', '#afa'), ' the ', ' job ', ' search ', ' process ', ' Storing ', ' and ', ' Retrieving ', ' Data ']\n"
     ]
    }
   ],
   "source": [
    "print(tokens)"
   ]
  },
  {
   "cell_type": "code",
   "execution_count": 147,
   "metadata": {},
   "outputs": [
    {
     "ename": "ValueError",
     "evalue": "invalid literal for int() with base 10: 'I'",
     "output_type": "error",
     "traceback": [
      "\u001b[0;31m---------------------------------------------------------------------------\u001b[0m",
      "\u001b[0;31mValueError\u001b[0m                                Traceback (most recent call last)",
      "\u001b[1;32m/Users/zhangzhexu/cvanalyzer/test.ipynb Cell 27\u001b[0m in \u001b[0;36m<cell line: 1>\u001b[0;34m()\u001b[0m\n\u001b[0;32m----> <a href='vscode-notebook-cell:/Users/zhangzhexu/cvanalyzer/test.ipynb#X54sZmlsZQ%3D%3D?line=0'>1</a>\u001b[0m \u001b[39mint\u001b[39;49m (tokens[\u001b[39m1\u001b[39;49m][\u001b[39m1\u001b[39;49m])\n",
      "\u001b[0;31mValueError\u001b[0m: invalid literal for int() with base 10: 'I'"
     ]
    }
   ],
   "source": [
    "int (tokens[1][1])"
   ]
  },
  {
   "cell_type": "code",
   "execution_count": 132,
   "metadata": {},
   "outputs": [],
   "source": [
    "from textblob import Word"
   ]
  },
  {
   "cell_type": "code",
   "execution_count": null,
   "metadata": {},
   "outputs": [],
   "source": []
  },
  {
   "cell_type": "code",
   "execution_count": 138,
   "metadata": {},
   "outputs": [
    {
     "ename": "AttributeError",
     "evalue": "'str' object has no attribute 'text'",
     "output_type": "error",
     "traceback": [
      "\u001b[0;31m---------------------------------------------------------------------------\u001b[0m",
      "\u001b[0;31mAttributeError\u001b[0m                            Traceback (most recent call last)",
      "\u001b[1;32m/Users/zhangzhexu/cvanalyzer/test.ipynb Cell 28\u001b[0m in \u001b[0;36m<cell line: 1>\u001b[0;34m()\u001b[0m\n\u001b[1;32m      <a href='vscode-notebook-cell:/Users/zhangzhexu/cvanalyzer/test.ipynb#X52sZmlsZQ%3D%3D?line=0'>1</a>\u001b[0m \u001b[39mfor\u001b[39;00m  i \u001b[39min\u001b[39;00m tokens_1:\n\u001b[0;32m----> <a href='vscode-notebook-cell:/Users/zhangzhexu/cvanalyzer/test.ipynb#X52sZmlsZQ%3D%3D?line=1'>2</a>\u001b[0m     \u001b[39mprint\u001b[39m([(i\u001b[39m.\u001b[39;49mtext, i\u001b[39m.\u001b[39mlemma_, i\u001b[39m.\u001b[39mpos_, i\u001b[39m.\u001b[39ment_type_, i\u001b[39m.\u001b[39mtag_, i\u001b[39m.\u001b[39mdep_,\n\u001b[1;32m      <a href='vscode-notebook-cell:/Users/zhangzhexu/cvanalyzer/test.ipynb#X52sZmlsZQ%3D%3D?line=2'>3</a>\u001b[0m             i\u001b[39m.\u001b[39mshape_, i\u001b[39m.\u001b[39mis_alpha, i\u001b[39m.\u001b[39mis_stop)])\n",
      "\u001b[0;31mAttributeError\u001b[0m: 'str' object has no attribute 'text'"
     ]
    }
   ],
   "source": [
    "\n",
    "for  i in tokens_1:\n",
    "    print([(i.text, i.lemma_, i.pos_, i.ent_type_, i.tag_, i.dep_,\n",
    "            i.shape_, i.is_alpha, i.is_stop)])"
   ]
  },
  {
   "cell_type": "code",
   "execution_count": 149,
   "metadata": {},
   "outputs": [
    {
     "name": "stderr",
     "output_type": "stream",
     "text": [
      "/Users/zhangzhexu/opt/anaconda3/lib/python3.9/site-packages/spacy/util.py:877: UserWarning: [W095] Model 'en_core_web_sm' (3.0.0) was trained with spaCy v3.0 and may not be 100% compatible with the current version (3.4.3). If you see errors or degraded performance, download a newer compatible model or retrain your custom model with the current spaCy version. For more details and available updates, run: python -m spacy validate\n",
      "  warnings.warn(warn_msg)\n"
     ]
    }
   ],
   "source": [
    "nlp = english_model = spacy.load(\"./models/en/\")\n",
    "doc = nlp(text)\n",
    "res = [x.text for x in doc]"
   ]
  },
  {
   "cell_type": "code",
   "execution_count": 161,
   "metadata": {},
   "outputs": [
    {
     "data": {
      "text/plain": [
       "'Present'"
      ]
     },
     "execution_count": 161,
     "metadata": {},
     "output_type": "execute_result"
    }
   ],
   "source": [
    "Word(res[8]).correct()"
   ]
  },
  {
   "cell_type": "code",
   "execution_count": 168,
   "metadata": {},
   "outputs": [
    {
     "data": {
      "text/plain": [
       "False"
      ]
     },
     "execution_count": 168,
     "metadata": {},
     "output_type": "execute_result"
    }
   ],
   "source": [
    "Word(res[8]) != Word(res[8]).correct()"
   ]
  },
  {
   "cell_type": "code",
   "execution_count": 151,
   "metadata": {},
   "outputs": [
    {
     "data": {
      "text/plain": [
       "['Lead',\n",
       " ('Lead', 'Typo', '#faa'),\n",
       " ('Head', 'Correction', '#afa'),\n",
       " 'Softwarre',\n",
       " ('Softwarre', 'Typo', '#faa'),\n",
       " ('Software', 'Correction', '#afa'),\n",
       " 'Enginier',\n",
       " ('Enginier', 'Typo', '#faa'),\n",
       " ('Engineer', 'Correction', '#afa'),\n",
       " 'OysterTech',\n",
       " 'Inc.',\n",
       " ('Inc.', 'Typo', '#faa'),\n",
       " ('Once', 'Correction', '#afa'),\n",
       " 'June',\n",
       " '2016',\n",
       " '–',\n",
       " 'Present',\n",
       " 'Led',\n",
       " ('Led', 'Typo', '#faa'),\n",
       " ('Red', 'Correction', '#afa'),\n",
       " 'team',\n",
       " 'of',\n",
       " '5',\n",
       " 'junier',\n",
       " ('junier', 'Typo', '#faa'),\n",
       " ('juniper', 'Correction', '#afa'),\n",
       " 'software',\n",
       " 'engineers',\n",
       " 'undertaking',\n",
       " 'the',\n",
       " 'software',\n",
       " 'develepment',\n",
       " ('develepment', 'Typo', '#faa'),\n",
       " ('development', 'Correction', '#afa'),\n",
       " 'life',\n",
       " 'cycle',\n",
       " 'for',\n",
       " '9',\n",
       " 'bespoke',\n",
       " ('bespoke', 'Typo', '#faa'),\n",
       " ('spoke', 'Correction', '#afa'),\n",
       " 'client',\n",
       " 'projects',\n",
       " '.',\n",
       " 'Engineered',\n",
       " 'modern',\n",
       " 'cloud',\n",
       " 'infrastructure',\n",
       " 'to',\n",
       " 'store',\n",
       " 'millions',\n",
       " 'of',\n",
       " 'client',\n",
       " 'data',\n",
       " 'points',\n",
       " 'with',\n",
       " 'full',\n",
       " 'consideration',\n",
       " 'for',\n",
       " 'modern',\n",
       " 'infosec',\n",
       " '.',\n",
       " 'Spearheaded',\n",
       " 'implementation',\n",
       " 'of',\n",
       " 'watertight',\n",
       " 'Principle',\n",
       " 'of',\n",
       " 'Least',\n",
       " 'Authority',\n",
       " 'across',\n",
       " '100',\n",
       " '%',\n",
       " 'of',\n",
       " 'software',\n",
       " 'engineering',\n",
       " 'and',\n",
       " 'associated',\n",
       " 'team',\n",
       " 'members',\n",
       " '.',\n",
       " 'Slashed',\n",
       " ('Slashed', 'Typo', '#faa'),\n",
       " ('Flashed', 'Correction', '#afa'),\n",
       " 'security',\n",
       " 'breaches',\n",
       " 'by',\n",
       " 'an',\n",
       " 'average',\n",
       " 'of',\n",
       " '81',\n",
       " '%',\n",
       " 'for',\n",
       " 'all',\n",
       " 'clients',\n",
       " '.',\n",
       " 'Built',\n",
       " 'innovative',\n",
       " 'user',\n",
       " 'account',\n",
       " 'control',\n",
       " '(',\n",
       " 'UAC',\n",
       " ')',\n",
       " 'features',\n",
       " 'into',\n",
       " 'new',\n",
       " 'products',\n",
       " 'to',\n",
       " 'exceed',\n",
       " 'industry',\n",
       " 'standards',\n",
       " 'and',\n",
       " 'achieve',\n",
       " '100',\n",
       " '%',\n",
       " 'compliance',\n",
       " 'with',\n",
       " 'best',\n",
       " 'practices',\n",
       " '.']"
      ]
     },
     "execution_count": 151,
     "metadata": {},
     "output_type": "execute_result"
    }
   ],
   "source": [
    "typo_tokens = []\n",
    "for token in res:\n",
    "    if type(token) == tuple:\n",
    "        typo_tokens.append(token)\n",
    "        if Word(token[0]) != Word(token[0]).correct() :\n",
    "            typo_tokens.append((token[0], \"Typo\", \"#faa\"))\n",
    "            typo_tokens.append((Word(token[0]).correct(), \"Correction\", \"#afa\"))\n",
    "    else:\n",
    "        typo_tokens.append(token)\n",
    "        if Word(token) != Word(token).correct() :\n",
    "            typo_tokens.append((token, \"Typo\", \"#faa\"))\n",
    "            typo_tokens.append((Word(token).correct(), \"Correction\", \"#afa\"))\n",
    "            \n",
    "typo_tokens"
   ]
  },
  {
   "cell_type": "code",
   "execution_count": 166,
   "metadata": {},
   "outputs": [],
   "source": [
    "typo_tokens = []\n",
    "for token in res:\n",
    "    typo_tokens.append(token)\n",
    "    if type(token) == tuple:\n",
    "        try:\n",
    "            int(token[0][0])\n",
    "            continue\n",
    "        except:\n",
    "            if Word(token[0]) != Word(token[0]).correct() :\n",
    "                typo_tokens.append((\"\", \"Typo\", \"#faa\"))\n",
    "                typo_tokens.append((Word(token[0]).correct(), \"Correction\", \"#afa\"))\n",
    "    else:\n",
    "        try:\n",
    "            int(token[1])\n",
    "            continue\n",
    "        except:                   \n",
    "            if Word(token) != Word(token).correct() :\n",
    "                typo_tokens.append((\"\", \"Typo\", \"#faa\"))\n",
    "                typo_tokens.append((Word(token).correct(), \"Correction\", \"#afa\"))"
   ]
  },
  {
   "cell_type": "code",
   "execution_count": 167,
   "metadata": {},
   "outputs": [
    {
     "data": {
      "text/plain": [
       "['Lead',\n",
       " ('', 'Typo', '#faa'),\n",
       " ('Head', 'Correction', '#afa'),\n",
       " 'Softwarre',\n",
       " ('', 'Typo', '#faa'),\n",
       " ('Software', 'Correction', '#afa'),\n",
       " 'Enginier',\n",
       " ('', 'Typo', '#faa'),\n",
       " ('Engineer', 'Correction', '#afa'),\n",
       " 'OysterTech',\n",
       " 'Inc.',\n",
       " ('', 'Typo', '#faa'),\n",
       " ('Once', 'Correction', '#afa'),\n",
       " 'June',\n",
       " '2016',\n",
       " '–',\n",
       " 'Present',\n",
       " 'Led',\n",
       " ('', 'Typo', '#faa'),\n",
       " ('Red', 'Correction', '#afa'),\n",
       " 'team',\n",
       " 'of',\n",
       " '5',\n",
       " 'junier',\n",
       " ('', 'Typo', '#faa'),\n",
       " ('juniper', 'Correction', '#afa'),\n",
       " 'software',\n",
       " 'engineers',\n",
       " 'undertaking',\n",
       " 'the',\n",
       " 'software',\n",
       " 'develepment',\n",
       " ('', 'Typo', '#faa'),\n",
       " ('development', 'Correction', '#afa'),\n",
       " 'life',\n",
       " 'cycle',\n",
       " 'for',\n",
       " '9',\n",
       " 'bespoke',\n",
       " ('', 'Typo', '#faa'),\n",
       " ('spoke', 'Correction', '#afa'),\n",
       " 'client',\n",
       " 'projects',\n",
       " '.',\n",
       " 'Engineered',\n",
       " 'modern',\n",
       " 'cloud',\n",
       " 'infrastructure',\n",
       " 'to',\n",
       " 'store',\n",
       " 'millions',\n",
       " 'of',\n",
       " 'client',\n",
       " 'data',\n",
       " 'points',\n",
       " 'with',\n",
       " 'full',\n",
       " 'consideration',\n",
       " 'for',\n",
       " 'modern',\n",
       " 'infosec',\n",
       " '.',\n",
       " 'Spearheaded',\n",
       " 'implementation',\n",
       " 'of',\n",
       " 'watertight',\n",
       " 'Principle',\n",
       " 'of',\n",
       " 'Least',\n",
       " 'Authority',\n",
       " 'across',\n",
       " '100',\n",
       " '%',\n",
       " 'of',\n",
       " 'software',\n",
       " 'engineering',\n",
       " 'and',\n",
       " 'associated',\n",
       " 'team',\n",
       " 'members',\n",
       " '.',\n",
       " 'Slashed',\n",
       " ('', 'Typo', '#faa'),\n",
       " ('Flashed', 'Correction', '#afa'),\n",
       " 'security',\n",
       " 'breaches',\n",
       " 'by',\n",
       " 'an',\n",
       " 'average',\n",
       " 'of',\n",
       " '81',\n",
       " '%',\n",
       " 'for',\n",
       " 'all',\n",
       " 'clients',\n",
       " '.',\n",
       " 'Built',\n",
       " 'innovative',\n",
       " 'user',\n",
       " 'account',\n",
       " 'control',\n",
       " '(',\n",
       " 'UAC',\n",
       " ')',\n",
       " 'features',\n",
       " 'into',\n",
       " 'new',\n",
       " 'products',\n",
       " 'to',\n",
       " 'exceed',\n",
       " 'industry',\n",
       " 'standards',\n",
       " 'and',\n",
       " 'achieve',\n",
       " '100',\n",
       " '%',\n",
       " 'compliance',\n",
       " 'with',\n",
       " 'best',\n",
       " 'practices',\n",
       " '.']"
      ]
     },
     "execution_count": 167,
     "metadata": {},
     "output_type": "execute_result"
    }
   ],
   "source": [
    "typo_tokens"
   ]
  },
  {
   "cell_type": "code",
   "execution_count": 141,
   "metadata": {},
   "outputs": [
    {
     "data": {
      "text/plain": [
       "'g'"
      ]
     },
     "execution_count": 141,
     "metadata": {},
     "output_type": "execute_result"
    }
   ],
   "source": [
    "typo_tokens[0][0]"
   ]
  },
  {
   "cell_type": "code",
   "execution_count": 29,
   "metadata": {},
   "outputs": [
    {
     "data": {
      "text/plain": [
       "[]"
      ]
     },
     "execution_count": 29,
     "metadata": {},
     "output_type": "execute_result"
    }
   ],
   "source": [
    "[t.pos_ for t in doc[7].rights] "
   ]
  },
  {
   "cell_type": "code",
   "execution_count": 194,
   "metadata": {},
   "outputs": [],
   "source": [
    "#nlp = spacy.load('en_core_web_trf')\n",
    "nlp = spacy.load('en_core_web_lg')\n",
    "doc = nlp(text)"
   ]
  },
  {
   "cell_type": "code",
   "execution_count": 195,
   "metadata": {},
   "outputs": [
    {
     "data": {
      "text/plain": [
       "github.io • Increased revenue by 6.3%, gross profit by 4.2%,and operating income by 146%, and achieved a 30% ratio of new customers (3x growth), by entering new markets and improving customer service and training. achieved first place in competition."
      ]
     },
     "execution_count": 195,
     "metadata": {},
     "output_type": "execute_result"
    }
   ],
   "source": [
    "doc"
   ]
  },
  {
   "cell_type": "code",
   "execution_count": 71,
   "metadata": {},
   "outputs": [
    {
     "name": "stdout",
     "output_type": "stream",
     "text": [
      "[]\n"
     ]
    }
   ],
   "source": [
    "print([token.text for token in doc[6].rights]) "
   ]
  },
  {
   "cell_type": "code",
   "execution_count": 76,
   "metadata": {},
   "outputs": [
    {
     "data": {
      "text/plain": [
       "16"
      ]
     },
     "execution_count": 76,
     "metadata": {},
     "output_type": "execute_result"
    }
   ],
   "source": [
    "len ([st.text for st in doc.sents][1])"
   ]
  },
  {
   "cell_type": "code",
   "execution_count": 75,
   "metadata": {},
   "outputs": [
    {
     "data": {
      "text/plain": [
       "'Sales Engineer – Test & Measurement dept.'"
      ]
     },
     "execution_count": 75,
     "metadata": {},
     "output_type": "execute_result"
    }
   ],
   "source": [
    "[st.text for st in doc.sents][2]"
   ]
  },
  {
   "cell_type": "code",
   "execution_count": 187,
   "metadata": {},
   "outputs": [],
   "source": [
    "tokens = []\n",
    "prep = [\"from\",\"to\",\"after\",\"before\",\"in\"]\n",
    "nlist = [\"competition\", \"test\", \"contest\", \"challenage\", \"race\"]\n",
    "rlist = [\"result\",\"high\",\"low\",\"top\",\"prize\",\"medal\",\"badge\"]\n",
    "verbs = ['hold','cut','save','leverage','process','increase','decrease','reduce','maintain','slash','raise','boost','decline','add','implement','lead','accelerate','achieve','advance','deduct','enhance','expand','deliver','expedit','further','gain','generat','improve','lift','maximize','outpace','reconcile','reduce','save','stimulate','sustaine','yield','centralize','clarify','convert','customize','digitize','integrate','merge','modernize','modify','overhaul','redesign','refine','refocus','rehabilitate','remodel','reorganize','replace','restructure','revamp','revitalize','simplify','standardize','streamline','strengthen','transform','update','upgrad','sell','calculate','evaluate','forecast','measure','track','quantify','earn','exceed','outperform','operate','win']\n",
    "\n"
   ]
  },
  {
   "cell_type": "code",
   "execution_count": 188,
   "metadata": {},
   "outputs": [
    {
     "name": "stdout",
     "output_type": "stream",
     "text": [
      "result\n",
      "high\n",
      "result\n"
     ]
    }
   ],
   "source": [
    "for sent in doc.sents:\n",
    "    star = 0\n",
    "    flag = 0\n",
    "    for token in sent:\n",
    "        if (token.pos_ == \"VERB\" and token.lemma_ in verbs) & (star == 0):\n",
    "            star = 1\n",
    "            tokens.append((token.text, \"Action\", \"#8ef\"))\n",
    "        elif (token.pos_ == \"NUM\" and token.ent_type_ != \"DATE\") & (star == 1):\n",
    "            tokens.append((token.text, \"Result\", \"#fda\"))\n",
    "            star = 0\n",
    "            flag = 1\n",
    "        elif token.lemma_ in nlist:\n",
    "            tokens.append((token.text, \"Task\", \"#afa\"))\n",
    "            star = 1\n",
    "        elif (token.lemma_ in rlist):\n",
    "            print(token.lemma_)\n",
    "            tokens.append((token.text, \"Result\", \"#fda\"))\n",
    "            star = 0\n",
    "            flag = 1\n",
    "        elif (token.pos_ == \"PUNCT\" and token == sent[-1]) & (star == 1 and flag == 0):\n",
    "            tokens.append((token.text, \"Consider adding results in this sentence\", \"#faa\"))\n",
    "        else:\n",
    "            tokens.append(\" \" + token.text + \" \")\n",
    "            continue\n"
   ]
  },
  {
   "cell_type": "code",
   "execution_count": 105,
   "metadata": {},
   "outputs": [
    {
     "data": {
      "text/plain": [
       "42"
      ]
     },
     "execution_count": 105,
     "metadata": {},
     "output_type": "execute_result"
    }
   ],
   "source": [
    "len(doc)"
   ]
  },
  {
   "cell_type": "code",
   "execution_count": 169,
   "metadata": {},
   "outputs": [],
   "source": [
    "import re"
   ]
  },
  {
   "cell_type": "code",
   "execution_count": 178,
   "metadata": {},
   "outputs": [
    {
     "data": {
      "text/plain": [
       "[('Beverage', 1.0)]"
      ]
     },
     "execution_count": 178,
     "metadata": {},
     "output_type": "execute_result"
    }
   ],
   "source": [
    "x= 'Leverage'\n",
    "word = Word(re.sub(r'[^A-Za-z0-9]+', '', x))\n",
    "result = word.spellcheck()\n",
    "result"
   ]
  },
  {
   "cell_type": "code",
   "execution_count": 172,
   "metadata": {},
   "outputs": [
    {
     "data": {
      "text/plain": [
       "'practice'"
      ]
     },
     "execution_count": 172,
     "metadata": {},
     "output_type": "execute_result"
    }
   ],
   "source": [
    "word.correct()"
   ]
  },
  {
   "cell_type": "code",
   "execution_count": 2,
   "metadata": {},
   "outputs": [
    {
     "data": {
      "text/plain": [
       "[2, 3, 4, 1, 5]"
      ]
     },
     "execution_count": 2,
     "metadata": {},
     "output_type": "execute_result"
    }
   ],
   "source": [
    "s=[2,3,4,1,5]\n",
    "s[:5]"
   ]
  },
  {
   "cell_type": "code",
   "execution_count": 2,
   "metadata": {},
   "outputs": [],
   "source": [
    "text_input=\"You must have a tertiary qualification in Statistics, Machine Learning, Computer Science, Operation Research or other related quantitative disciplines. Knowledge of cognitive psychology would be an advantage. You should preferably have 1 to 2 years’ work experience in a DS/analytics role and in the application of advanced DS techniques such as text analytics, data mining, clustering, machine learning, modeling and simulation. You should also have hands-on expertise in the use of at least one programming language (e.g. Python, R, Matlab, Java). Possession of good communication and interpersonal skills, and being curious, creative, organised and detail-oriented, are essential. Having knowledge of big data processing framework and tools (e.g. SQL, Spark, Hadoop, MapReduce), application development, web programming or visualisation tools (e.g. Qlik, Tableau) is advantageous.\""
   ]
  },
  {
   "cell_type": "code",
   "execution_count": 5,
   "metadata": {},
   "outputs": [
    {
     "name": "stderr",
     "output_type": "stream",
     "text": [
      "/Users/zhangzhexu/opt/anaconda3/lib/python3.9/site-packages/spacy/util.py:877: UserWarning: [W095] Model 'en_core_web_sm' (3.0.0) was trained with spaCy v3.0 and may not be 100% compatible with the current version (3.4.3). If you see errors or degraded performance, download a newer compatible model or retrain your custom model with the current spaCy version. For more details and available updates, run: python -m spacy validate\n",
      "  warnings.warn(warn_msg)\n"
     ]
    }
   ],
   "source": [
    "nlp = spacy.load(\"./models/en/\")\n",
    "# Add entity ruler to pipe\n",
    "if \"entity_ruler\" not in nlp.pipe_names:\n",
    "    skill_path = \"skills.jsonl\"\n",
    "    ruler = nlp.add_pipe(\"entity_ruler\")\n",
    "    ruler.from_disk(skill_path)\n",
    "\n",
    "doc = nlp(text_input)\n",
    "skills=[]\n",
    "for ent in doc.ents:\n",
    "        if ent.label_==\"SKILL\":\n",
    "            print(\"x\")\n",
    "            skills.append(ent.text)\n",
    "\n",
    "\n",
    "unique_skills = list(set(skills))"
   ]
  },
  {
   "cell_type": "code",
   "execution_count": 6,
   "metadata": {},
   "outputs": [
    {
     "name": "stdout",
     "output_type": "stream",
     "text": [
      "tertiary ORDINAL\n",
      "Statistics ORG\n",
      "Machine Learning ORG\n",
      "Computer Science SKILL|computer-science\n",
      "Operation Research ORG\n",
      "1 to 2 years DATE\n",
      "analytics SKILL|analytics\n",
      "analytics SKILL|analytics\n",
      "data mining SKILL|data-mining\n",
      "machine learning SKILL|machine-learning\n",
      "simulation SKILL|simulation\n",
      "at least one CARDINAL\n",
      "programming language SKILL|programming-language\n",
      "Python SKILL|python\n",
      "R SKILL|r\n",
      "Matlab PERSON\n",
      "Java PERSON\n",
      "big data SKILL|big-data\n",
      "framework SKILL|framework\n",
      "SQL ORG\n",
      "Spark GPE\n",
      "Hadoop ORG\n",
      "MapReduce ORG\n",
      "Tableau GPE\n"
     ]
    }
   ],
   "source": [
    "for ent in doc.ents: \n",
    "            print(ent.text, ent.label_)"
   ]
  },
  {
   "cell_type": "code",
   "execution_count": 4,
   "metadata": {},
   "outputs": [
    {
     "data": {
      "text/plain": [
       "[]"
      ]
     },
     "execution_count": 4,
     "metadata": {},
     "output_type": "execute_result"
    }
   ],
   "source": [
    "unique_skills"
   ]
  },
  {
   "cell_type": "code",
   "execution_count": 2,
   "metadata": {},
   "outputs": [],
   "source": [
    "import re"
   ]
  },
  {
   "cell_type": "code",
   "execution_count": 6,
   "metadata": {},
   "outputs": [
    {
     "name": "stdout",
     "output_type": "stream",
     "text": [
      "natural-language-processing\n"
     ]
    }
   ],
   "source": [
    "s = \"SKILL|natural-language-processing\"\n",
    "print(re.findall(r'(?<=\\|)\\S*', s)[0])"
   ]
  },
  {
   "cell_type": "code",
   "execution_count": 56,
   "metadata": {},
   "outputs": [
    {
     "data": {
      "text/plain": [
       "2"
      ]
     },
     "execution_count": 56,
     "metadata": {},
     "output_type": "execute_result"
    }
   ],
   "source": [
    "from dateutil.relativedelta import relativedelta\n",
    "from dateutil.parser import parse\n",
    "from datetime import datetime\n",
    "\n",
    "def parse_time(s):\n",
    "    try:\n",
    "        ret = parse(s)\n",
    "    except ValueError:\n",
    "        ret = datetime.utcfromtimestamp(s)\n",
    "    return ret\n",
    "a='Sep.2019'\n",
    "b=\"03-04-2022\"\n",
    "\n",
    "end_date, start_date = parse_time(b), parse_time(a)\n",
    "\n",
    "difference_in_years = relativedelta(end_date, start_date).years\n",
    "difference_in_years"
   ]
  },
  {
   "cell_type": "code",
   "execution_count": 70,
   "metadata": {},
   "outputs": [
    {
     "data": {
      "text/plain": [
       "2"
      ]
     },
     "execution_count": 70,
     "metadata": {},
     "output_type": "execute_result"
    }
   ],
   "source": [
    "0 + relativedelta(end_date, start_date).years"
   ]
  },
  {
   "cell_type": "code",
   "execution_count": 71,
   "metadata": {},
   "outputs": [
    {
     "data": {
      "text/plain": [
       "-2"
      ]
     },
     "execution_count": 71,
     "metadata": {},
     "output_type": "execute_result"
    }
   ],
   "source": [
    "relativedelta( start_date,end_date).years"
   ]
  },
  {
   "cell_type": "code",
   "execution_count": 61,
   "metadata": {},
   "outputs": [
    {
     "data": {
      "text/plain": [
       "datetime.datetime(1999, 1, 30, 0, 0)"
      ]
     },
     "execution_count": 61,
     "metadata": {},
     "output_type": "execute_result"
    }
   ],
   "source": [
    "parse(\"99\")"
   ]
  },
  {
   "cell_type": "code",
   "execution_count": 35,
   "metadata": {},
   "outputs": [
    {
     "data": {
      "text/plain": [
       "(datetime.datetime(2022, 3, 4, 0, 0), datetime.datetime(2019, 9, 30, 0, 0))"
      ]
     },
     "execution_count": 35,
     "metadata": {},
     "output_type": "execute_result"
    }
   ],
   "source": [
    "end_date, start_date"
   ]
  },
  {
   "cell_type": "code",
   "execution_count": 47,
   "metadata": {},
   "outputs": [
    {
     "data": {
      "text/plain": [
       "'2022-03-04'"
      ]
     },
     "execution_count": 47,
     "metadata": {},
     "output_type": "execute_result"
    }
   ],
   "source": [
    "str(end_date)[:10]"
   ]
  },
  {
   "cell_type": "code",
   "execution_count": 71,
   "metadata": {},
   "outputs": [],
   "source": [
    "nlp = spacy.load(\"en_core_web_sm\")"
   ]
  },
  {
   "cell_type": "code",
   "execution_count": 25,
   "metadata": {},
   "outputs": [],
   "source": [
    "text =\"Sep-2012. 12/20 - 12/22. Business Analyst (Sep 2021 – Now) Created Power BI dashboard to reflect project status and KPI . github.io • Increased revenue by 6.3%, gross profit by 4.2%,and operating income by 146%, and achieved a 30% ratio of new customers (3x growth), by entering new markets and improving customer service and training. achieved first place in competition.\""
   ]
  },
  {
   "cell_type": "code",
   "execution_count": 73,
   "metadata": {},
   "outputs": [
    {
     "name": "stdout",
     "output_type": "stream",
     "text": [
      "EVENTS event NOUN ORG NNS ROOT XXXX True False\n",
      "& & CCONJ ORG CC cc & False False\n",
      "PUBLIC PUBLIC PROPN ORG NNP compound XXXX True False\n",
      "RELATIONS RELATIONS PROPN ORG NNP conj XXXX True False\n",
      "LEADER LEADER PROPN  NNP compound XXXX True False\n",
      "Summary Summary PROPN  NNP npadvmod Xxxxx True False\n",
      "I I PRON  PRP nsubj X True True\n",
      "am be AUX  VBP ROOT xx True True\n",
      "an an DET  DT det xx True True\n",
      "Marketing marketing NOUN  NN compound Xxxxx True False\n",
      "2022/03/04 2022/03/04 NUM  CD attr dddd/dd/dd False False\n"
     ]
    }
   ],
   "source": [
    "doc = nlp(text1)\n",
    "\n",
    "for token in doc:\n",
    "    print(token.text, token.lemma_, token.pos_, token.ent_type_, token.tag_, token.dep_,\n",
    "            token.shape_, token.is_alpha, token.is_stop)"
   ]
  },
  {
   "cell_type": "code",
   "execution_count": 28,
   "metadata": {},
   "outputs": [
    {
     "ename": "ValueError",
     "evalue": "[E002] Can't find factory for 'dt_entity_ruler' for language English (en). This usually happens when spaCy calls `nlp.create_pipe` with a custom component name that's not registered on the current language class. If you're using a Transformer, make sure to install 'spacy-transformers'. If you're using a custom component, make sure you've added the decorator `@Language.component` (for function components) or `@Language.factory` (for class components).\n\nAvailable factories: attribute_ruler, tok2vec, merge_noun_chunks, merge_entities, merge_subtokens, token_splitter, doc_cleaner, parser, beam_parser, lemmatizer, trainable_lemmatizer, entity_linker, ner, beam_ner, entity_ruler, tagger, morphologizer, senter, sentencizer, textcat, spancat, future_entity_ruler, span_ruler, textcat_multilabel, en.lemmatizer",
     "output_type": "error",
     "traceback": [
      "\u001b[0;31m---------------------------------------------------------------------------\u001b[0m",
      "\u001b[0;31mValueError\u001b[0m                                Traceback (most recent call last)",
      "\u001b[1;32m/Users/zhangzhexu/cvanalyzer/test.ipynb Cell 65\u001b[0m in \u001b[0;36m<cell line: 2>\u001b[0;34m()\u001b[0m\n\u001b[1;32m      <a href='vscode-notebook-cell:/Users/zhangzhexu/cvanalyzer/test.ipynb#Y120sZmlsZQ%3D%3D?line=0'>1</a>\u001b[0m \u001b[39m#Create the Ruler and Add it\u001b[39;00m\n\u001b[0;32m----> <a href='vscode-notebook-cell:/Users/zhangzhexu/cvanalyzer/test.ipynb#Y120sZmlsZQ%3D%3D?line=1'>2</a>\u001b[0m ruler \u001b[39m=\u001b[39m nlp\u001b[39m.\u001b[39;49madd_pipe(\u001b[39m\"\u001b[39;49m\u001b[39mdt_entity_ruler\u001b[39;49m\u001b[39m\"\u001b[39;49m)\n\u001b[1;32m      <a href='vscode-notebook-cell:/Users/zhangzhexu/cvanalyzer/test.ipynb#Y120sZmlsZQ%3D%3D?line=3'>4</a>\u001b[0m \u001b[39m#List of Entities and Patterns (source: https://spacy.io/usage/rule-based-matching)\u001b[39;00m\n\u001b[1;32m      <a href='vscode-notebook-cell:/Users/zhangzhexu/cvanalyzer/test.ipynb#Y120sZmlsZQ%3D%3D?line=4'>5</a>\u001b[0m patterns \u001b[39m=\u001b[39m [\n\u001b[1;32m      <a href='vscode-notebook-cell:/Users/zhangzhexu/cvanalyzer/test.ipynb#Y120sZmlsZQ%3D%3D?line=5'>6</a>\u001b[0m                 [{\u001b[39m\"\u001b[39m\u001b[39mlabel\u001b[39m\u001b[39m\"\u001b[39m: \u001b[39m\"\u001b[39m\u001b[39mDate1\u001b[39m\u001b[39m\"\u001b[39m, \u001b[39m\"\u001b[39m\u001b[39mpattern\u001b[39m\u001b[39m\"\u001b[39m: [{\u001b[39m\"\u001b[39m\u001b[39mTEXT\u001b[39m\u001b[39m\"\u001b[39m: {\u001b[39m\"\u001b[39m\u001b[39mREGEX\u001b[39m\u001b[39m\"\u001b[39m: \u001b[39m\"\u001b[39m\u001b[39m(((\u001b[39m\u001b[39m\\\u001b[39m\u001b[39md)\u001b[39m\u001b[39m{\u001b[39m\u001b[39m1,4}( (January|February|March|April|May|June|July|August|September|October|November|December)))|(((January|February|March|April|May|June|July|August|September|October|November|December) )(\u001b[39m\u001b[39m\\\u001b[39m\u001b[39md)\u001b[39m\u001b[39m{\u001b[39m\u001b[39m1,4}))|(((\u001b[39m\u001b[39m\\\u001b[39m\u001b[39md)\u001b[39m\u001b[39m{\u001b[39m\u001b[39m1,4}( (Jan|Feb|Mar|Apr|May|Jun|Jul|Aug|Sep|Oct|Nov|Dec)))|(((Jan|Feb|Mar|Apr|May|Jun|Jul|Aug|Sep|Oct|Nov|Dec) )(\u001b[39m\u001b[39m\\\u001b[39m\u001b[39md)\u001b[39m\u001b[39m{\u001b[39m\u001b[39m1,4}))\u001b[39m\u001b[39m\"\u001b[39m}}\n\u001b[1;32m      <a href='vscode-notebook-cell:/Users/zhangzhexu/cvanalyzer/test.ipynb#Y120sZmlsZQ%3D%3D?line=6'>7</a>\u001b[0m                                                         ]}],\n\u001b[1;32m      <a href='vscode-notebook-cell:/Users/zhangzhexu/cvanalyzer/test.ipynb#Y120sZmlsZQ%3D%3D?line=7'>8</a>\u001b[0m                 [{\u001b[39m\"\u001b[39m\u001b[39mlabel\u001b[39m\u001b[39m\"\u001b[39m: \u001b[39m\"\u001b[39m\u001b[39mDate2\u001b[39m\u001b[39m\"\u001b[39m, \u001b[39m\"\u001b[39m\u001b[39mpattern\u001b[39m\u001b[39m\"\u001b[39m: [{\u001b[39m\"\u001b[39m\u001b[39mTEXT\u001b[39m\u001b[39m\"\u001b[39m: {\u001b[39m\"\u001b[39m\u001b[39mREGEX\u001b[39m\u001b[39m\"\u001b[39m: \u001b[39m\"\u001b[39m\u001b[39m^(?:(?:1[6-9]|[2-9]\u001b[39m\u001b[39m\\\u001b[39m\u001b[39md)?\u001b[39m\u001b[39m\\\u001b[39m\u001b[39md\u001b[39m\u001b[39m{2}\u001b[39;00m\u001b[39m)(?:(?:(\u001b[39m\u001b[39m\\\u001b[39m\u001b[39m/|-|\u001b[39m\u001b[39m\\\u001b[39m\u001b[39m.)(?:0?[13578]|1[02])\u001b[39m\u001b[39m\\1\u001b[39;00m\u001b[39m(?:31))|(?:(\u001b[39m\u001b[39m\\\u001b[39m\u001b[39m/|-|\u001b[39m\u001b[39m\\\u001b[39m\u001b[39m.)(?:0?[13-9]|1[0-2])\u001b[39m\u001b[39m\\2\u001b[39;00m\u001b[39m(?:29|30)))$|^(?:(?:(?:1[6-9]|[2-9]\u001b[39m\u001b[39m\\\u001b[39m\u001b[39md)?(?:0[48]|[2468][048]|[13579][26])|(?:(?:16|[2468][048]|[3579][26])00)))(\u001b[39m\u001b[39m\\\u001b[39m\u001b[39m/|-|\u001b[39m\u001b[39m\\\u001b[39m\u001b[39m.)0?2\u001b[39m\u001b[39m\\3\u001b[39;00m\u001b[39m(?:29)$|^(?:(?:1[6-9]|[2-9]\u001b[39m\u001b[39m\\\u001b[39m\u001b[39md)?\u001b[39m\u001b[39m\\\u001b[39m\u001b[39md\u001b[39m\u001b[39m{2}\u001b[39;00m\u001b[39m)(\u001b[39m\u001b[39m\\\u001b[39m\u001b[39m/|-|\u001b[39m\u001b[39m\\\u001b[39m\u001b[39m.)(?:(?:0?[1-9])|(?:1[0-2]))\u001b[39m\u001b[39m\\4\u001b[39;00m\u001b[39m(?:0?[1-9]|1\u001b[39m\u001b[39m\\\u001b[39m\u001b[39md|2[0-8])$\u001b[39m\u001b[39m\"\u001b[39m}}\n\u001b[1;32m      <a href='vscode-notebook-cell:/Users/zhangzhexu/cvanalyzer/test.ipynb#Y120sZmlsZQ%3D%3D?line=8'>9</a>\u001b[0m                                                         ]}]\n\u001b[1;32m     <a href='vscode-notebook-cell:/Users/zhangzhexu/cvanalyzer/test.ipynb#Y120sZmlsZQ%3D%3D?line=9'>10</a>\u001b[0m             ]\n",
      "File \u001b[0;32m~/opt/anaconda3/lib/python3.9/site-packages/spacy/language.py:801\u001b[0m, in \u001b[0;36mLanguage.add_pipe\u001b[0;34m(self, factory_name, name, before, after, first, last, source, config, raw_config, validate)\u001b[0m\n\u001b[1;32m    793\u001b[0m     \u001b[39mif\u001b[39;00m \u001b[39mnot\u001b[39;00m \u001b[39mself\u001b[39m\u001b[39m.\u001b[39mhas_factory(factory_name):\n\u001b[1;32m    794\u001b[0m         err \u001b[39m=\u001b[39m Errors\u001b[39m.\u001b[39mE002\u001b[39m.\u001b[39mformat(\n\u001b[1;32m    795\u001b[0m             name\u001b[39m=\u001b[39mfactory_name,\n\u001b[1;32m    796\u001b[0m             opts\u001b[39m=\u001b[39m\u001b[39m\"\u001b[39m\u001b[39m, \u001b[39m\u001b[39m\"\u001b[39m\u001b[39m.\u001b[39mjoin(\u001b[39mself\u001b[39m\u001b[39m.\u001b[39mfactory_names),\n\u001b[0;32m   (...)\u001b[0m\n\u001b[1;32m    799\u001b[0m             lang_code\u001b[39m=\u001b[39m\u001b[39mself\u001b[39m\u001b[39m.\u001b[39mlang,\n\u001b[1;32m    800\u001b[0m         )\n\u001b[0;32m--> 801\u001b[0m     pipe_component \u001b[39m=\u001b[39m \u001b[39mself\u001b[39;49m\u001b[39m.\u001b[39;49mcreate_pipe(\n\u001b[1;32m    802\u001b[0m         factory_name,\n\u001b[1;32m    803\u001b[0m         name\u001b[39m=\u001b[39;49mname,\n\u001b[1;32m    804\u001b[0m         config\u001b[39m=\u001b[39;49mconfig,\n\u001b[1;32m    805\u001b[0m         raw_config\u001b[39m=\u001b[39;49mraw_config,\n\u001b[1;32m    806\u001b[0m         validate\u001b[39m=\u001b[39;49mvalidate,\n\u001b[1;32m    807\u001b[0m     )\n\u001b[1;32m    808\u001b[0m pipe_index \u001b[39m=\u001b[39m \u001b[39mself\u001b[39m\u001b[39m.\u001b[39m_get_pipe_index(before, after, first, last)\n\u001b[1;32m    809\u001b[0m \u001b[39mself\u001b[39m\u001b[39m.\u001b[39m_pipe_meta[name] \u001b[39m=\u001b[39m \u001b[39mself\u001b[39m\u001b[39m.\u001b[39mget_factory_meta(factory_name)\n",
      "File \u001b[0;32m~/opt/anaconda3/lib/python3.9/site-packages/spacy/language.py:661\u001b[0m, in \u001b[0;36mLanguage.create_pipe\u001b[0;34m(self, factory_name, name, config, raw_config, validate)\u001b[0m\n\u001b[1;32m    653\u001b[0m \u001b[39mif\u001b[39;00m \u001b[39mnot\u001b[39;00m \u001b[39mself\u001b[39m\u001b[39m.\u001b[39mhas_factory(factory_name):\n\u001b[1;32m    654\u001b[0m     err \u001b[39m=\u001b[39m Errors\u001b[39m.\u001b[39mE002\u001b[39m.\u001b[39mformat(\n\u001b[1;32m    655\u001b[0m         name\u001b[39m=\u001b[39mfactory_name,\n\u001b[1;32m    656\u001b[0m         opts\u001b[39m=\u001b[39m\u001b[39m\"\u001b[39m\u001b[39m, \u001b[39m\u001b[39m\"\u001b[39m\u001b[39m.\u001b[39mjoin(\u001b[39mself\u001b[39m\u001b[39m.\u001b[39mfactory_names),\n\u001b[0;32m   (...)\u001b[0m\n\u001b[1;32m    659\u001b[0m         lang_code\u001b[39m=\u001b[39m\u001b[39mself\u001b[39m\u001b[39m.\u001b[39mlang,\n\u001b[1;32m    660\u001b[0m     )\n\u001b[0;32m--> 661\u001b[0m     \u001b[39mraise\u001b[39;00m \u001b[39mValueError\u001b[39;00m(err)\n\u001b[1;32m    662\u001b[0m pipe_meta \u001b[39m=\u001b[39m \u001b[39mself\u001b[39m\u001b[39m.\u001b[39mget_factory_meta(factory_name)\n\u001b[1;32m    663\u001b[0m \u001b[39m# This is unideal, but the alternative would mean you always need to\u001b[39;00m\n\u001b[1;32m    664\u001b[0m \u001b[39m# specify the full config settings, which is not really viable.\u001b[39;00m\n",
      "\u001b[0;31mValueError\u001b[0m: [E002] Can't find factory for 'dt_entity_ruler' for language English (en). This usually happens when spaCy calls `nlp.create_pipe` with a custom component name that's not registered on the current language class. If you're using a Transformer, make sure to install 'spacy-transformers'. If you're using a custom component, make sure you've added the decorator `@Language.component` (for function components) or `@Language.factory` (for class components).\n\nAvailable factories: attribute_ruler, tok2vec, merge_noun_chunks, merge_entities, merge_subtokens, token_splitter, doc_cleaner, parser, beam_parser, lemmatizer, trainable_lemmatizer, entity_linker, ner, beam_ner, entity_ruler, tagger, morphologizer, senter, sentencizer, textcat, spancat, future_entity_ruler, span_ruler, textcat_multilabel, en.lemmatizer"
     ]
    }
   ],
   "source": [
    "#Create the Ruler and Add it\n",
    "ruler = nlp.add_pipe(\"entity_ruler\")\n",
    "\n",
    "#List of Entities and Patterns (source: https://spacy.io/usage/rule-based-matching)\n",
    "patterns = [\n",
    "                [{\"label\": \"Date1\", \"pattern\": [{\"TEXT\": {\"REGEX\": \"(((\\d){1,4}( (January|February|March|April|May|June|July|August|September|October|November|December)))|(((January|February|March|April|May|June|July|August|September|October|November|December) )(\\d){1,4}))|(((\\d){1,4}( (Jan|Feb|Mar|Apr|May|Jun|Jul|Aug|Sep|Oct|Nov|Dec)))|(((Jan|Feb|Mar|Apr|May|Jun|Jul|Aug|Sep|Oct|Nov|Dec) )(\\d){1,4}))\"}}\n",
    "                                                        ]}],\n",
    "                [{\"label\": \"Date2\", \"pattern\": [{\"TEXT\": {\"REGEX\": \"^(?:(?:1[6-9]|[2-9]\\d)?\\d{2})(?:(?:(\\/|-|\\.)(?:0?[13578]|1[02])\\1(?:31))|(?:(\\/|-|\\.)(?:0?[13-9]|1[0-2])\\2(?:29|30)))$|^(?:(?:(?:1[6-9]|[2-9]\\d)?(?:0[48]|[2468][048]|[13579][26])|(?:(?:16|[2468][048]|[3579][26])00)))(\\/|-|\\.)0?2\\3(?:29)$|^(?:(?:1[6-9]|[2-9]\\d)?\\d{2})(\\/|-|\\.)(?:(?:0?[1-9])|(?:1[0-2]))\\4(?:0?[1-9]|1\\d|2[0-8])$\"}}\n",
    "                                                        ]}]\n",
    "            ]\n",
    "#add patterns to ruler\n",
    "ruler.add_patterns(patterns)\n",
    "\n",
    "#create the doc\n",
    "doc = nlp(text)\n",
    "\n",
    "#extract entities\n",
    "for ent in doc.ents:\n",
    "    print (ent.text, ent.label_)"
   ]
  },
  {
   "cell_type": "code",
   "execution_count": 17,
   "metadata": {},
   "outputs": [
    {
     "data": {
      "text/plain": [
       "{'label': 'DATE|V3',\n",
       " 'pattern': [{'TEXT': {'REGEX': '(\\\\d){0,4}(\\\\/|-|\\\\.)?(January|February|March|April|May|June|July|August|September|October|November|December|Jan|Feb|Mar|Apr|May|Jun|Jul|Aug|Sep|Oct|Nov|Dec|01|02|03|04|05|06|07|08|09|1|2|3|4|5|6|7|8|9|10|11|12)?(\\\\/|-|\\\\.)?(\\\\d){0,4}'}}]}"
      ]
     },
     "execution_count": 17,
     "metadata": {},
     "output_type": "execute_result"
    }
   ],
   "source": [
    "{\"label\": \"DATE|V3\", \"pattern\": [{\"TEXT\": {\"REGEX\": \"(\\d){0,4}(\\/|-|\\.)?(January|February|March|April|May|June|July|August|September|October|November|December|Jan|Feb|Mar|Apr|May|Jun|Jul|Aug|Sep|Oct|Nov|Dec|01|02|03|04|05|06|07|08|09|1|2|3|4|5|6|7|8|9|10|11|12)?(\\/|-|\\.)?(\\d){0,4}\"}}]}"
   ]
  },
  {
   "cell_type": "code",
   "execution_count": 17,
   "metadata": {},
   "outputs": [],
   "source": [
    "import re"
   ]
  },
  {
   "cell_type": "code",
   "execution_count": 63,
   "metadata": {},
   "outputs": [
    {
     "data": {
      "text/plain": [
       "[]"
      ]
     },
     "execution_count": 63,
     "metadata": {},
     "output_type": "execute_result"
    }
   ],
   "source": [
    "re.findall(\"^(?:(?:31(\\/|-|\\.)(?:0?[13578]|1[02]|(?:Jan|Mar|May|Jul|Aug|Oct|Dec)))\\1|(?:(?:29|30)(\\/|-|\\.)(?:0?[1,3-9]|1[0-2]|(?:Jan|Mar|Apr|May|Jun|Jul|Aug|Sep|Oct|Nov|Dec))\\2))(?:(?:1[6-9]|[2-9]\\d)?\\d{2})$|^(?:29(\\/|-|\\.)(?:0?2|(?:Feb))\\3(?:(?:(?:1[6-9]|[2-9]\\d)?(?:0[48]|[2468][048]|[13579][26])|(?:(?:16|[2468][048]|[3579][26])00))))$|^(?:0?[1-9]|1\\d|2[0-8])(\\/|-|\\.)(?:(?:0?[1-9]|(?:Jan|Feb|Mar|Apr|May|Jun|Jul|Aug|Sep))|(?:1[0-2]|(?:Oct|Nov|Dec)))\\4(?:(?:1[6-9]|[2-9]\\d)?\\d{2})$\",doc.text)"
   ]
  },
  {
   "cell_type": "code",
   "execution_count": 7,
   "metadata": {},
   "outputs": [
    {
     "data": {
      "text/plain": [
       "'Zhexu ( Steven ) Zhang Email address : e0134151@u.nus.edu Github : https://github.com/StevenZhangzhexu Contact number : +65 8918 1369  SUMMARY  A data scientist enthusiast with about 2 years of experience in business intelligence , data analytics and project management in finance sectors . A self - motivated and geeky individual whose desire to learn is endless .  SELECTED PROJECTS  Utilized time series analysis in python with Vector ARIMA , SARIMA & GARCH models to predict dengue cases in Singapore .  Leveraged time series analysis in R to predict FOREX trend and S&P 500 stock price trend and then used it as an indicator for algorithmic trading strategy .  Subreddit classification model in python applying ensemble methods ( XGBoosting and Stacking ) over Random Forest and Logistic Regression based on Web scrapped data via API and transformedACTION by Tfidf Vectorizer ( NLP ) .CONSIDER ADDING RESULTS IN THIS SENTENCE  House price prediction linear regression model based on Kaggle dataset ( pipeline , regularization and hyper - parameters tuning with randomized search )  EXPERIENCE  DBS Singapore  Business Analyst ( Sep.2021 – Now )  Conducting UAT testing via SQL queries for multiple projects and using JIRA to log issue tickets and then collaborate with tech to resolve issues .  Contributing robust SQL code for risk mart tables reference integrity checks .  Ad - hoc data analytics like Impact analysis or amount reconciliation for system migration projects using python ( pandas ) , SQL and Excel pivot table and functions .  UpdatingACTION configuration for products like risk product code according to project scope and requirements .CONSIDER ADDING RESULTS IN THIS SENTENCE  Maybank Singapore  Business Analyst ( Sep.2019 – Aug.2021 )  Liaised with business users to fathom definition and formula of data fields to author user requirements documents and develop the Functional Specifications of program changes to handover to IT department .  Leveraged SAS and SQL to implementACTION data mapping , data modeling and UAT Testing .CONSIDER ADDING RESULTS IN THIS SENTENCE  Created Power BI dashboard to reflect project status and KPI .  Scripted in Power BI DAX to transformACTION and cleanse operational raw data and to reduce data discrepancy .CONSIDER ADDING RESULTS IN THIS SENTENCE  PSA Singapore  Data Analyst Intern ( May.2019 – Aug.2019 )  Scripted in QlikView to realize data cleaning , data mapping and data transformation .  Prepared the configuration for the ingestion ETL framework to extract , load and manipulate high - volume data from various data sources into QlikView .  EDUCATION  National University of Singapore Singapore  B.Sc . in Applied Mathematics ( Aug 2016 – Aug 2019 )  General Assembly  Data Science Bootcamp ( Aug 2022 – Mar 2023 , part - time ) Singapore  CERTIFICATE  Deep Learning Specialization  5 Coursera Course Certificates ( Neural Networks , CNN , RNN , CV , NLP )  SKILLS & INTERESTS  Familiar with statistics and Machine Learning concepts .  Proficient in Python and SQL ; Intermediate level in R , HTML , CSS , JavaScript , shell(zsh )  Passion in applying Machine Learning to financial area . ( like algorithmic trading )  Bilingual in English and Mandarin .'"
      ]
     },
     "execution_count": 7,
     "metadata": {},
     "output_type": "execute_result"
    }
   ],
   "source": [
    "text"
   ]
  },
  {
   "cell_type": "code",
   "execution_count": 42,
   "metadata": {},
   "outputs": [
    {
     "data": {
      "text/plain": [
       "spacy.tokens.token.Token"
      ]
     },
     "execution_count": 42,
     "metadata": {},
     "output_type": "execute_result"
    }
   ],
   "source": [
    "type(doc[2])"
   ]
  },
  {
   "cell_type": "code",
   "execution_count": 5,
   "metadata": {},
   "outputs": [],
   "source": [
    "from dateutil.relativedelta import relativedelta\n",
    "from dateutil.parser import parse\n",
    "from datetime import datetime,date"
   ]
  },
  {
   "cell_type": "code",
   "execution_count": 8,
   "metadata": {},
   "outputs": [],
   "source": [
    "doc=nlp(text)"
   ]
  },
  {
   "cell_type": "code",
   "execution_count": 9,
   "metadata": {},
   "outputs": [
    {
     "data": {
      "text/plain": [
       "Zhexu ( Steven ) Zhang Email address : e0134151@u.nus.edu Github : https://github.com/StevenZhangzhexu Contact number : +65 8918 1369  SUMMARY  A data scientist enthusiast with about 2 years of experience in business intelligence , data analytics and project management in finance sectors . A self - motivated and geeky individual whose desire to learn is endless .  SELECTED PROJECTS  Utilized time series analysis in python with Vector ARIMA , SARIMA & GARCH models to predict dengue cases in Singapore .  Leveraged time series analysis in R to predict FOREX trend and S&P 500 stock price trend and then used it as an indicator for algorithmic trading strategy .  Subreddit classification model in python applying ensemble methods ( XGBoosting and Stacking ) over Random Forest and Logistic Regression based on Web scrapped data via API and transformedACTION by Tfidf Vectorizer ( NLP ) .CONSIDER ADDING RESULTS IN THIS SENTENCE  House price prediction linear regression model based on Kaggle dataset ( pipeline , regularization and hyper - parameters tuning with randomized search )  EXPERIENCE  DBS Singapore  Business Analyst ( Sep.2021 – Now )  Conducting UAT testing via SQL queries for multiple projects and using JIRA to log issue tickets and then collaborate with tech to resolve issues .  Contributing robust SQL code for risk mart tables reference integrity checks .  Ad - hoc data analytics like Impact analysis or amount reconciliation for system migration projects using python ( pandas ) , SQL and Excel pivot table and functions .  UpdatingACTION configuration for products like risk product code according to project scope and requirements .CONSIDER ADDING RESULTS IN THIS SENTENCE  Maybank Singapore  Business Analyst ( Sep.2019 – Aug.2021 )  Liaised with business users to fathom definition and formula of data fields to author user requirements documents and develop the Functional Specifications of program changes to handover to IT department .  Leveraged SAS and SQL to implementACTION data mapping , data modeling and UAT Testing .CONSIDER ADDING RESULTS IN THIS SENTENCE  Created Power BI dashboard to reflect project status and KPI .  Scripted in Power BI DAX to transformACTION and cleanse operational raw data and to reduce data discrepancy .CONSIDER ADDING RESULTS IN THIS SENTENCE  PSA Singapore  Data Analyst Intern ( May.2019 – Aug.2019 )  Scripted in QlikView to realize data cleaning , data mapping and data transformation .  Prepared the configuration for the ingestion ETL framework to extract , load and manipulate high - volume data from various data sources into QlikView .  EDUCATION  National University of Singapore Singapore  B.Sc . in Applied Mathematics ( Aug 2016 – Aug 2019 )  General Assembly  Data Science Bootcamp ( Aug 2022 – Mar 2023 , part - time ) Singapore  CERTIFICATE  Deep Learning Specialization  5 Coursera Course Certificates ( Neural Networks , CNN , RNN , CV , NLP )  SKILLS & INTERESTS  Familiar with statistics and Machine Learning concepts .  Proficient in Python and SQL ; Intermediate level in R , HTML , CSS , JavaScript , shell(zsh )  Passion in applying Machine Learning to financial area . ( like algorithmic trading )  Bilingual in English and Mandarin ."
      ]
     },
     "execution_count": 9,
     "metadata": {},
     "output_type": "execute_result"
    }
   ],
   "source": [
    "doc"
   ]
  },
  {
   "cell_type": "code",
   "execution_count": 15,
   "metadata": {},
   "outputs": [
    {
     "data": {
      "text/plain": [
       "2021"
      ]
     },
     "execution_count": 15,
     "metadata": {},
     "output_type": "execute_result"
    }
   ],
   "source": [
    "ret = str(parse(doc[186].text))\n",
    "year = int(ret[:4])\n",
    "year"
   ]
  },
  {
   "cell_type": "code",
   "execution_count": 16,
   "metadata": {},
   "outputs": [
    {
     "ename": "NameError",
     "evalue": "name 're' is not defined",
     "output_type": "error",
     "traceback": [
      "\u001b[0;31m---------------------------------------------------------------------------\u001b[0m",
      "\u001b[0;31mNameError\u001b[0m                                 Traceback (most recent call last)",
      "\u001b[1;32m/Users/zhangzhexu/cvanalyzer/test.ipynb Cell 79\u001b[0m in \u001b[0;36m<cell line: 1>\u001b[0;34m()\u001b[0m\n\u001b[0;32m----> <a href='vscode-notebook-cell:/Users/zhangzhexu/cvanalyzer/test.ipynb#Y152sZmlsZQ%3D%3D?line=0'>1</a>\u001b[0m re\u001b[39m.\u001b[39msplit(\u001b[39m'\u001b[39m\u001b[39m\\\u001b[39m\u001b[39m.|\u001b[39m\u001b[39m\\\u001b[39m\u001b[39m-|\u001b[39m\u001b[39m\\\u001b[39m\u001b[39m/\u001b[39m\u001b[39m'\u001b[39m, doc[\u001b[39m186\u001b[39m]\u001b[39m.\u001b[39mtext)\n",
      "\u001b[0;31mNameError\u001b[0m: name 're' is not defined"
     ]
    }
   ],
   "source": [
    "re.split('\\.|\\-|\\/', doc[186].text)"
   ]
  },
  {
   "cell_type": "code",
   "execution_count": 36,
   "metadata": {},
   "outputs": [
    {
     "name": "stdout",
     "output_type": "stream",
     "text": [
      "2021/09/30\n",
      "2023/01/30\n",
      "2019/09/30\n",
      "2021/08/30\n",
      "2019/05/30\n",
      "2019/08/30\n"
     ]
    },
    {
     "data": {
      "text/plain": [
       "'Zhexu ( Steven ) Zhang Email address : e0134151@u.nus.edu Github : https://github.com/StevenZhangzhexu Contact number : +65    SUMMARY    A data scientist enthusiast with about and half years of experience in business intelligence , months data analytics and three years of project management in finance sectors . A self - motivated and geeky individual whose desire to learn is endless .    SELECTED PROJECTS    Utilized time series analysis in python with Vector ARIMA , SARIMA & GARCH models to predict dengue cases in Singapore .    Leveraged time series analysis in R to predict FOREX trend and S&P stock price trend and then used it as an indicator for algorithmic trading strategy .    Subreddit classification model in python applying ensemble methods ( XGBoosting and Stacking ) over Random Forest and Logistic Regression based on Web scrapped data via API and transformedACTION by Tfidf Vectorizer ( NLP ) .CONSIDER ADDING RESULTS IN THIS SENTENCE    House price prediction linear regression model based on Kaggle dataset ( pipeline , regularization and hyper - parameters tuning with randomized search )    EXPERIENCE    DBS Singapore    Business Analyst ( 2021/09/30 – 2023/01/30 )    Conducting UAT testing via SQL queries for multiple projects and using JIRA to log issue tickets and then collaborate with tech to resolve issues .    Contributing robust SQL code for risk mart tables reference integrity checks .    Ad - hoc data analytics like Impact analysis or amount reconciliation for system migration projects using python ( pandas ) , SQL and Excel pivot table and functions .    UpdatingACTION configuration for products like risk product code according to project scope and requirements .CONSIDER ADDING RESULTS IN THIS SENTENCE    Maybank Singapore    Business Analyst ( 2019/09/30 – 2021/08/30 )    Liaised with business users to fathom definition and formula of data fields to author user requirements documents and develop the Functional Specifications of program changes to handover to IT department .    Leveraged SAS and SQL to implementACTION data mapping , data modeling and UAT Testing .CONSIDER ADDING RESULTS IN THIS SENTENCE    Created Power BI dashboard to reflect project status and KPI .    Scripted in Power BI DAX to transformACTION and cleanse operational raw data and to reduce data discrepancy .CONSIDER ADDING RESULTS IN THIS SENTENCE    PSA Singapore    Data Analyst Intern ( 2019/05/30 – 2019/08/30 )    Scripted in QlikView to realize data cleaning , data mapping and data transformation .    Prepared the configuration for the ingestion ETL framework to extract , load and manipulate high - volume data from various data sources into QlikView .    EDUCATION    National University of Singapore Singapore    B.Sc . in Applied Mathematics ( – )    General Assembly    Data Science Bootcamp ( – , part - time ) Singapore    CERTIFICATE    Deep Learning Specialization    Coursera Course Certificates ( Neural Networks , CNN , RNN , CV , NLP )    SKILLS & INTERESTS    Familiar with statistics and Machine Learning concepts .    Proficient in Python and SQL ; Intermediate level in R , HTML , CSS , JavaScript , shell(zsh )    Passion in applying Machine Learning to financial area . ( like algorithmic trading )    Bilingual in English and Mandarin . '"
      ]
     },
     "execution_count": 36,
     "metadata": {},
     "output_type": "execute_result"
    }
   ],
   "source": [
    "def parse_time(doc):\n",
    "    res=\"\"\n",
    "    for i in range(len(doc)):\n",
    "        if doc[i].lemma_ in ['now', 'today','present'] and doc[i-1].lemma_ in ['to','till','–']:\n",
    "            ret = str(date.today())\n",
    "            print(ret[:4] +\"/\"+ ret[5:7]+\"/\"+ ret[8:10])\n",
    "            res = res + ret[:4] +\"/\"+ ret[5:7]+\"/\"+ ret[8:10] +\" \"\n",
    "            continue\n",
    "        try:\n",
    "            ret = str(parse(doc[i].text))\n",
    "            year = int(ret[:4])\n",
    "            if year < 1950 or year > 2023 or len(re.split('\\.|\\-|\\/', doc[i].text))<2:\n",
    "                #res = res + doc[i].text  + \" \"\n",
    "                continue\n",
    "            print(ret[:4] +\"/\"+ ret[5:7]+\"/\"+ ret[8:10])\n",
    "            res = res + ret[:4] +\"/\"+ ret[5:7]+\"/\"+ ret[8:10] +\" \"\n",
    "        except:\n",
    "            res = res + doc[i].text  + \" \"\n",
    "        \n",
    "    return res\n",
    "\n",
    "\n",
    "parse_time(doc)"
   ]
  },
  {
   "cell_type": "code",
   "execution_count": null,
   "metadata": {},
   "outputs": [],
   "source": [
    "new_dict = {}\n",
    "for key, value in old_dict.items():\n",
    "   if value in new_dict:\n",
    "       new_dict[value].append(key)\n",
    "   else:\n",
    "       new_dict[value]=[key]"
   ]
  },
  {
   "cell_type": "code",
   "execution_count": 7,
   "metadata": {},
   "outputs": [
    {
     "name": "stdout",
     "output_type": "stream",
     "text": [
      "2021/09/30\n",
      "2023/01/30\n",
      "2019/09/30\n",
      "2021/08/30\n",
      "2019/05/30\n",
      "2019/08/30\n"
     ]
    }
   ],
   "source": [
    "doc1 = nlp(parse_time(doc))"
   ]
  },
  {
   "cell_type": "code",
   "execution_count": 8,
   "metadata": {},
   "outputs": [
    {
     "name": "stdout",
     "output_type": "stream",
     "text": [
      "Zhexu ORG Zhexu PROPN ORG NNP nmod Xxxxx True False False\n",
      "(  ( PUNCT  -LRB- punct ( False False False\n",
      "Steven PERSON Steven PROPN PERSON NNP appos Xxxxx True False False\n",
      ")  ) PUNCT  -RRB- punct ) False False False\n",
      "Zhang  Zhang PROPN  NNP compound Xxxxx True False False\n",
      "Email  Email PROPN  NNP compound Xxxxx True False False\n",
      "address  address NOUN  NN ROOT xxxx True False False\n",
      ":  : PUNCT  : punct : False False False\n",
      "e0134151@u.nus.edu  e0134151@u.nus.edu PROPN  NNP appos xdddd@x.xxx.xxx False False False\n",
      "Github SKILL|github Github PROPN SKILL|github NNP dobj Xxxxx True False False\n",
      ":  : PUNCT  : punct : False False False\n",
      "https://github.com/StevenZhangzhexu  https://github.com/stevenzhangzhexu ADJ  JJ amod xxxx://xxxx.xxx/XxxxxXxxxx False False False\n",
      "Contact  Contact PROPN  NNP compound Xxxxx True False False\n",
      "number  number NOUN  NN appos xxxx True False False\n",
      ":  : PUNCT  : punct : False False False\n",
      "+65  +65 NOUN  NN appos +dd False False True\n",
      "8918  8918 NUM  CD npadvmod dddd False False True\n",
      "1369 DATE 1369 NUM DATE CD nummod dddd False False True\n",
      "       SPACE  _SP punct    False False False\n",
      "SUMMARY  SUMMARY PROPN  NNP appos XXXX True False False\n",
      "       SPACE  _SP punct    False False False\n",
      "A  a DET  DT det X True True False\n",
      "data  data NOUN  NN compound xxxx True False False\n",
      "scientist  scientist NOUN  NN compound xxxx True False False\n",
      "enthusiast  enthusiast NOUN  NN ROOT xxxx True False False\n",
      "with  with ADP  IN prep xxxx True True False\n",
      "about DATE about ADV DATE RB advmod xxxx True True False\n",
      "2 DATE 2 NUM DATE CD nummod d False False True\n",
      "years DATE year NOUN DATE NNS pobj xxxx True False False\n",
      "of  of ADP  IN prep xx True True False\n",
      "experience  experience NOUN  NN pobj xxxx True False False\n",
      "in  in ADP  IN prep xx True True False\n",
      "business SKILL|business-intelligence business NOUN SKILL|business-intelligence NN compound xxxx True False False\n",
      "intelligence SKILL|business-intelligence intelligence NOUN SKILL|business-intelligence NN pobj xxxx True False False\n",
      ",  , PUNCT  , punct , False False False\n",
      "data  datum NOUN  NNS compound xxxx True False False\n",
      "analytics SKILL|analytics analytic NOUN SKILL|analytics NNS conj xxxx True False False\n",
      "and  and CCONJ  CC cc xxx True True False\n",
      "project SKILL|project-management project NOUN SKILL|project-management NN compound xxxx True False False\n",
      "management SKILL|project-management management NOUN SKILL|project-management NN conj xxxx True False False\n",
      "in  in ADP  IN prep xx True True False\n",
      "finance SKILL|finance finance NOUN SKILL|finance NN compound xxxx True False False\n",
      "sectors  sector NOUN  NNS pobj xxxx True False False\n",
      ".  . PUNCT  . punct . False False False\n",
      "A  a DET  DT det X True True False\n",
      "self  self NOUN  NN npadvmod xxxx True False False\n",
      "-  - PUNCT  HYPH punct - False False False\n",
      "motivated  motivated ADJ  JJ amod xxxx True False False\n",
      "and  and CCONJ  CC cc xxx True True False\n",
      "geeky  geeky ADJ  JJ conj xxxx True False False\n",
      "individual  individual NOUN  NN ROOT xxxx True False False\n",
      "whose  whose DET  WP$ poss xxxx True True False\n",
      "desire  desire NOUN  NN nsubj xxxx True False False\n",
      "to  to PART  TO aux xx True True False\n",
      "learn  learn VERB  VB acl xxxx True False False\n",
      "is  be VERB  VBZ relcl xx True True False\n",
      "endless  endless ADJ  JJ acomp xxxx True False False\n",
      ".  . PUNCT  . punct . False False False\n",
      "       SPACE  _SP nmod    False False False\n",
      "SELECTED  select VERB  VBN amod XXXX True False False\n",
      "PROJECTS  project NOUN  NNS ROOT XXXX True False False\n",
      "       SPACE  _SP nmod    False False False\n",
      "Utilized  utilize VERB  VBN amod Xxxxx True False False\n",
      "time SKILL|time-series time NOUN SKILL|time-series NN compound xxxx True False False\n",
      "series SKILL|time-series series NOUN SKILL|time-series NN compound xxxx True False False\n",
      "analysis  analysis NOUN  NN appos xxxx True False False\n",
      "in  in ADP  IN prep xx True True False\n",
      "python SKILL|python python NOUN SKILL|python NN pobj xxxx True False False\n",
      "with  with ADP  IN prep xxxx True True False\n",
      "Vector ORG Vector PROPN ORG NNP compound Xxxxx True False False\n",
      "ARIMA ORG ARIMA PROPN ORG NNP pobj XXXX True False False\n",
      ",  , PUNCT  , punct , False False False\n",
      "SARIMA  SARIMA PROPN  NNP conj XXXX True False False\n",
      "&  & CCONJ  CC cc & False False False\n",
      "GARCH  GARCH PROPN  NNP conj XXXX True False False\n",
      "models  model NOUN  NNS conj xxxx True False False\n",
      "to  to PART  TO aux xx True True False\n",
      "predict  predict VERB  VB relcl xxxx True False False\n",
      "dengue  dengue NOUN  NN compound xxxx True False False\n",
      "cases  case NOUN  NNS dobj xxxx True False False\n",
      "in  in ADP  IN prep xx True True False\n",
      "Singapore GPE Singapore PROPN GPE NNP pobj Xxxxx True False False\n",
      ".  . PUNCT  . punct . False False False\n",
      "       SPACE  _SP poss    False False False\n",
      "Leveraged  leveraged ADJ  JJ amod Xxxxx True False False\n",
      "time SKILL|time-series time NOUN SKILL|time-series NN compound xxxx True False False\n",
      "series SKILL|time-series series NOUN SKILL|time-series NN compound xxxx True False False\n",
      "analysis  analysis NOUN  NN nsubj xxxx True False False\n",
      "in  in ADP  IN prep xx True True False\n",
      "R SKILL|r r NOUN SKILL|r NN pobj X True False False\n",
      "to  to PART  TO aux xx True True False\n",
      "predict  predict VERB  VB ROOT xxxx True False False\n",
      "FOREX ORG forex ADJ ORG JJ amod XXXX True False False\n",
      "trend  trend NOUN  NN dobj xxxx True False False\n",
      "and  and CCONJ  CC cc xxx True True False\n",
      "S&P  S&P PROPN  NNP nmod X&X False False False\n",
      "500  500 NUM  CD nummod ddd False False True\n",
      "stock  stock NOUN  NN compound xxxx True False False\n",
      "price  price NOUN  NN compound xxxx True False False\n",
      "trend  trend NOUN  NN conj xxxx True False False\n",
      "and  and CCONJ  CC cc xxx True True False\n",
      "then  then ADV  RB advmod xxxx True True False\n",
      "used  use VERB  VBD conj xxxx True True False\n",
      "it  it PRON  PRP dobj xx True True False\n",
      "as  as ADP  IN prep xx True True False\n",
      "an  an DET  DT det xx True True False\n",
      "indicator  indicator NOUN  NN pobj xxxx True False False\n",
      "for  for ADP  IN prep xxx True True False\n",
      "algorithmic  algorithmic ADJ  JJ amod xxxx True False False\n",
      "trading  trading NOUN  NN compound xxxx True False False\n",
      "strategy  strategy NOUN  NN pobj xxxx True False False\n",
      ".  . PUNCT  . punct . False False False\n",
      "       SPACE  _SP nummod    False False False\n",
      "Subreddit  subreddit NOUN  NN compound Xxxxx True False False\n",
      "classification  classification NOUN  NN compound xxxx True False False\n",
      "model  model NOUN  NN ROOT xxxx True False False\n",
      "in  in ADP  IN prep xx True True False\n",
      "python SKILL|python python NOUN SKILL|python NN npadvmod xxxx True False False\n",
      "applying  apply VERB  VBG amod xxxx True False False\n",
      "ensemble  ensemble ADJ  JJ amod xxxx True False False\n",
      "methods  method NOUN  NNS pobj xxxx True False False\n",
      "(  ( PUNCT  -LRB- punct ( False False False\n",
      "XGBoosting  XGBoosting PROPN  NNP appos XXXxxxx True False False\n",
      "and  and CCONJ  CC cc xxx True True False\n",
      "Stacking  Stacking PROPN  NNP conj Xxxxx True False False\n",
      ")  ) PUNCT  -RRB- punct ) False False False\n",
      "over  over ADP  IN prep xxxx True True False\n",
      "Random SKILL|random-forest Random PROPN SKILL|random-forest NNP compound Xxxxx True False False\n",
      "Forest SKILL|random-forest Forest PROPN SKILL|random-forest NNP pobj Xxxxx True False False\n",
      "and  and CCONJ  CC cc xxx True True False\n",
      "Logistic SKILL|logistic-regression Logistic PROPN SKILL|logistic-regression NNP compound Xxxxx True False False\n",
      "Regression SKILL|logistic-regression Regression PROPN SKILL|logistic-regression NNP conj Xxxxx True False False\n",
      "based  base VERB  VBN prep xxxx True False False\n",
      "on  on ADP  IN prep xx True True False\n",
      "Web  web NOUN  NN npadvmod Xxx True False False\n",
      "scrapped  scrap VERB  VBN amod xxxx True False False\n",
      "data  datum NOUN  NNS pobj xxxx True False False\n",
      "via  via ADP  IN prep xxx True True False\n",
      "API SKILL|api API PROPN SKILL|api NNP pobj XXX True False False\n",
      "and  and CCONJ  CC cc xxx True True False\n",
      "transformedACTION  transformedACTION PROPN  NNP conj xxxxXXXX True False False\n",
      "by  by ADP  IN prep xx True True False\n",
      "Tfidf PERSON Tfidf PROPN PERSON NNP compound Xxxxx True False False\n",
      "Vectorizer PERSON Vectorizer PROPN PERSON NNP pobj Xxxxx True False False\n",
      "(  ( PUNCT  -LRB- punct ( False False False\n",
      "NLP SKILL|natural-language-processing NLP PROPN SKILL|natural-language-processing NNP appos XXX True False False\n",
      ")  ) PUNCT  -RRB- punct ) False False False\n",
      ".CONSIDER  .CONSIDER PUNCT  . punct .XXXX False False False\n",
      "ADDING  add VERB  VBG ROOT XXXX True False False\n",
      "RESULTS  RESULTS PROPN  NNP dobj XXXX True False False\n",
      "IN  in ADP  IN prep XX True True False\n",
      "THIS  this DET  DT det XXXX True True False\n",
      "SENTENCE  SENTENCE PROPN  NNP compound XXXX True False False\n",
      "       SPACE  _SP meta    False False False\n",
      "House ORG House PROPN ORG NNP compound Xxxxx True False False\n",
      "price  price NOUN  NN compound xxxx True False False\n",
      "prediction  prediction NOUN  NN compound xxxx True False False\n",
      "linear SKILL|linear-regression linear ADJ SKILL|linear-regression JJ amod xxxx True False False\n",
      "regression SKILL|linear-regression regression NOUN SKILL|linear-regression NN compound xxxx True False False\n",
      "model  model NOUN  NN pobj xxxx True False False\n",
      "based  base VERB  VBN acl xxxx True False False\n",
      "on  on ADP  IN prep xx True True False\n",
      "Kaggle PERSON Kaggle PROPN PERSON NNP compound Xxxxx True False False\n",
      "dataset  dataset NOUN  NN pobj xxxx True False False\n",
      "(  ( PUNCT  -LRB- punct ( False False False\n",
      "pipeline  pipeline NOUN  NN appos xxxx True False False\n",
      ",  , PUNCT  , punct , False False False\n",
      "regularization  regularization NOUN  NN conj xxxx True False False\n",
      "and  and CCONJ  CC cc xxx True True False\n",
      "hyper  hyper NOUN  NN conj xxxx True False False\n",
      "-  - NOUN  NNS conj - False False False\n",
      "parameters  parameter NOUN  NNS conj xxxx True False False\n",
      "tuning  tune VERB  VBG acl xxxx True False False\n",
      "with  with ADP  IN prep xxxx True True False\n",
      "randomized  randomized ADJ  JJ amod xxxx True False False\n",
      "search  search NOUN  NN pobj xxxx True False False\n",
      ")  ) PUNCT  -RRB- punct ) False False False\n",
      "       SPACE  _SP compound    False False False\n",
      "EXPERIENCE  experience NOUN  NN appos XXXX True False False\n",
      "       SPACE  _SP aux    False False False\n",
      "DBS  DBS PROPN  NNP compound XXX True False False\n",
      "Singapore  Singapore PROPN  NNP appos Xxxxx True False False\n",
      "       SPACE  _SP dobj    False False False\n",
      "Business SKILL|business Business PROPN SKILL|business NNP compound Xxxxx True False False\n",
      "Analyst  Analyst PROPN  NNP dobj Xxxxx True False False\n",
      "(  ( PUNCT  -LRB- punct ( False False False\n",
      "2021/09/30 DATE|V2 2021/09/30 PROPN DATE|V2 NNP appos dddd/dd/dd False False False\n",
      "–  – PUNCT  : punct – False False False\n",
      "2023/01/30 DATE|V2 2023/01/30 NUM DATE|V2 CD appos dddd/dd/dd False False False\n",
      ")  ) PUNCT  -RRB- punct ) False False False\n",
      "       SPACE  _SP ROOT    False False False\n",
      "Conducting  conduct VERB  VBG ROOT Xxxxx True False False\n",
      "UAT  UAT PROPN  NNP compound XXX True False False\n",
      "testing SKILL|testing testing NOUN SKILL|testing NN dobj xxxx True False False\n",
      "via  via ADP  IN prep xxx True True False\n",
      "SQL SKILL|sql SQL PROPN SKILL|sql NNP compound XXX True False False\n",
      "queries  query NOUN  NNS pobj xxxx True False False\n",
      "for  for ADP  IN prep xxx True True False\n",
      "multiple  multiple ADJ  JJ amod xxxx True False False\n",
      "projects  project NOUN  NNS pobj xxxx True False False\n",
      "and  and CCONJ  CC cc xxx True True False\n",
      "using  use VERB  VBG advcl xxxx True True False\n",
      "JIRA SKILL|jira JIRA PROPN SKILL|jira NNP dobj XXXX True False False\n",
      "to  to PART  TO aux xx True True False\n",
      "log  log VERB  VB xcomp xxx True False False\n",
      "issue  issue NOUN  NN compound xxxx True False False\n",
      "tickets  ticket NOUN  NNS dobj xxxx True False False\n",
      "and  and CCONJ  CC cc xxx True True False\n",
      "then  then ADV  RB advmod xxxx True True False\n",
      "collaborate  collaborate VERB  VB conj xxxx True False False\n",
      "with  with ADP  IN prep xxxx True True False\n",
      "tech  tech NOUN  NN pobj xxxx True False False\n",
      "to  to PART  TO aux xx True True False\n",
      "resolve  resolve VERB  VB advcl xxxx True False False\n",
      "issues  issue NOUN  NNS dobj xxxx True False False\n",
      ".  . PUNCT  . punct . False False False\n",
      "       SPACE  _SP dep    False False False\n",
      "Contributing  contribute VERB  VBG csubj Xxxxx True False False\n",
      "robust  robust ADJ  JJ amod xxxx True False False\n",
      "SQL SKILL|sql SQL PROPN SKILL|sql NNP compound XXX True False False\n",
      "code  code NOUN  NN dobj xxxx True False False\n",
      "for  for ADP  IN prep xxx True True False\n",
      "risk  risk NOUN  NN compound xxxx True False False\n",
      "mart  mart NOUN  NN pobj xxxx True False False\n",
      "tables  table VERB  VBZ ROOT xxxx True False False\n",
      "reference  reference NOUN  NN compound xxxx True False False\n",
      "integrity  integrity NOUN  NN compound xxxx True False False\n",
      "checks  check NOUN  NNS dobj xxxx True False False\n",
      ".  . PUNCT  . punct . False False False\n",
      "       SPACE  _SP nmod    False False False\n",
      "Ad  ad NOUN  NN npadvmod Xx True False False\n",
      "-  - PUNCT  HYPH punct - False False False\n",
      "hoc  hoc VERB  VBN amod xxx True False False\n",
      "data  data NOUN  NN compound xxxx True False False\n",
      "analytics SKILL|analytics analytic NOUN SKILL|analytics NNS ROOT xxxx True False False\n",
      "like  like ADP  IN prep xxxx True False False\n",
      "Impact  impact NOUN  NN compound Xxxxx True False False\n",
      "analysis  analysis NOUN  NN pobj xxxx True False False\n",
      "or  or CCONJ  CC cc xx True True False\n",
      "amount  amount NOUN  NN compound xxxx True True False\n",
      "reconciliation  reconciliation NOUN  NN conj xxxx True False False\n",
      "for  for ADP  IN prep xxx True True False\n",
      "system  system NOUN  NN compound xxxx True False False\n",
      "migration  migration NOUN  NN compound xxxx True False False\n",
      "projects  project NOUN  NNS pobj xxxx True False False\n",
      "using  use VERB  VBG acl xxxx True True False\n",
      "python SKILL|python python NOUN SKILL|python NN dobj xxxx True False False\n",
      "(  ( PUNCT  -LRB- punct ( False False False\n",
      "pandas SKILL|pandas panda NOUN SKILL|pandas NNS appos xxxx True False False\n",
      ")  ) PUNCT  -RRB- punct ) False False False\n",
      ",  , PUNCT  , punct , False False False\n",
      "SQL SKILL|sql SQL PROPN SKILL|sql NNP conj XXX True False False\n",
      "and  and CCONJ  CC cc xxx True True False\n",
      "Excel PRODUCT Excel PROPN PRODUCT NNP compound Xxxxx True False False\n",
      "pivot  pivot NOUN  NN compound xxxx True False False\n",
      "table  table NOUN  NN conj xxxx True False False\n",
      "and  and CCONJ  CC cc xxx True True False\n",
      "functions  function NOUN  NNS conj xxxx True False False\n",
      ".  . PUNCT  . punct . False False False\n",
      "       SPACE  _SP poss    False False False\n",
      "UpdatingACTION  updatingaction NUM  CD nummod XxxxxXXXX True False False\n",
      "configuration  configuration NOUN  NN ROOT xxxx True False False\n",
      "for  for ADP  IN prep xxx True True False\n",
      "products  product NOUN  NNS pobj xxxx True False False\n",
      "like  like ADP  IN prep xxxx True False False\n",
      "risk  risk NOUN  NN compound xxxx True False False\n",
      "product  product NOUN  NN compound xxxx True False False\n",
      "code  code NOUN  NN pobj xxxx True False False\n",
      "according  accord VERB  VBG prep xxxx True False False\n",
      "to  to ADP  IN prep xx True True False\n",
      "project  project NOUN  NN compound xxxx True False False\n",
      "scope  scope NOUN  NN pobj xxxx True False False\n",
      "and  and CCONJ  CC cc xxx True True False\n",
      "requirements  requirement NOUN  NNS conj xxxx True False False\n",
      ".CONSIDER  .CONSIDER PUNCT  . punct .XXXX False False False\n",
      "ADDING  add VERB  VBG ROOT XXXX True False False\n",
      "RESULTS  RESULTS PROPN  NNP dobj XXXX True False False\n",
      "IN  in ADP  IN prep XX True True False\n",
      "THIS  this DET  DT det XXXX True True False\n",
      "SENTENCE  SENTENCE PROPN  NNP compound XXXX True False False\n",
      "       SPACE  _SP pobj    False False False\n",
      "Maybank ORG Maybank PROPN ORG NNP compound Xxxxx True False False\n",
      "Singapore ORG Singapore PROPN ORG NNP dep Xxxxx True False False\n",
      "       SPACE  _SP compound    False False False\n",
      "Business SKILL|business Business PROPN SKILL|business NNP compound Xxxxx True False False\n",
      "Analyst  Analyst PROPN  NNP nsubj Xxxxx True False False\n",
      "(  ( PUNCT  -LRB- punct ( False False False\n",
      "2019/09/30 DATE|V2 2019/09/30 NUM DATE|V2 CD dep dddd/dd/dd False False False\n",
      "–  – PUNCT  : punct – False False False\n",
      "2021/08/30 DATE|V2 2021/08/30 NUM DATE|V2 CD appos dddd/dd/dd False False False\n",
      ")  ) PUNCT  -RRB- punct ) False False False\n",
      "       SPACE  _SP appos    False False False\n",
      "Liaised  liaise VERB  VBN acl Xxxxx True False False\n",
      "with  with ADP  IN prep xxxx True True False\n",
      "business SKILL|business business NOUN SKILL|business NN compound xxxx True False False\n",
      "users  user NOUN  NNS pobj xxxx True False False\n",
      "to  to PART  TO aux xx True True False\n",
      "fathom  fathom VERB  VB advcl xxxx True False False\n",
      "definition  definition NOUN  NN dobj xxxx True False False\n",
      "and  and CCONJ  CC cc xxx True True False\n",
      "formula  formula NOUN  NN conj xxxx True False False\n",
      "of  of ADP  IN prep xx True True False\n",
      "data  datum NOUN  NNS compound xxxx True False False\n",
      "fields  field NOUN  NNS pobj xxxx True False False\n",
      "to  to PART  TO aux xx True True False\n",
      "author  author VERB  VB advcl xxxx True False False\n",
      "user  user NOUN  NN dobj xxxx True False False\n",
      "requirements  requirement VERB  VBZ ROOT xxxx True False False\n",
      "documents  document NOUN  NNS dobj xxxx True False False\n",
      "and  and CCONJ  CC cc xxx True True False\n",
      "develop  develop VERB  VB conj xxxx True False False\n",
      "the ORG the DET ORG DT det xxx True True False\n",
      "Functional ORG Functional PROPN ORG NNP compound Xxxxx True False False\n",
      "Specifications ORG Specifications PROPN ORG NNPS dobj Xxxxx True False False\n",
      "of  of ADP  IN prep xx True True False\n",
      "program  program NOUN  NN compound xxxx True False False\n",
      "changes  change NOUN  NNS pobj xxxx True False False\n",
      "to  to PART  TO aux xx True True False\n",
      "handover SKILL|handover handover VERB SKILL|handover VB advcl xxxx True False False\n",
      "to  to ADP  IN prep xx True True False\n",
      "IT  it NOUN  NN compound XX True True False\n",
      "department  department NOUN  NN pobj xxxx True False False\n",
      ".  . PUNCT  . punct . False False False\n",
      "       SPACE  _SP compound    False False False\n",
      "Leveraged  Leveraged PROPN  NNP compound Xxxxx True False False\n",
      "SAS SKILL|sas SAS PROPN SKILL|sas NNP ROOT XXX True False False\n",
      "and  and CCONJ  CC cc xxx True True False\n",
      "SQL SKILL|sql SQL PROPN SKILL|sql NNP conj XXX True False False\n",
      "to  to ADP  IN prep xx True True False\n",
      "implementACTION  implementACTION PROPN  NNP compound xxxxXXXX True False False\n",
      "data  datum NOUN  NNS compound xxxx True False False\n",
      "mapping  mapping NOUN  NN pobj xxxx True False False\n",
      ",  , PUNCT  , punct , False False False\n",
      "data SKILL|data-modeling data NOUN SKILL|data-modeling NN compound xxxx True False False\n",
      "modeling SKILL|data-modeling modeling NOUN SKILL|data-modeling NN conj xxxx True False False\n",
      "and  and CCONJ  CC cc xxx True True False\n",
      "UAT ORG UAT PROPN ORG NNP compound XXX True False False\n",
      "Testing SKILL|testing Testing PROPN SKILL|testing NNP conj Xxxxx True False False\n",
      ".CONSIDER  .CONSIDER PUNCT  . punct .XXXX False False False\n",
      "ADDING  add VERB  VBG ROOT XXXX True False False\n",
      "RESULTS  RESULTS PROPN  NNP dobj XXXX True False False\n",
      "IN  in ADP  IN prep XX True True False\n",
      "THIS  this DET  DT det XXXX True True False\n",
      "SENTENCE  SENTENCE PROPN  NNP compound XXXX True False False\n",
      "       SPACE  _SP pobj    False False False\n",
      "Created  Created PROPN  NNP compound Xxxxx True False False\n",
      "Power SKILL|power-bi Power PROPN SKILL|power-bi NNP compound Xxxxx True False False\n",
      "BI SKILL|power-bi BI PROPN SKILL|power-bi NNP compound XX True False False\n",
      "dashboard  dashboard NOUN  NN pobj xxxx True False False\n",
      "to  to PART  TO aux xx True True False\n",
      "reflect  reflect VERB  VB advcl xxxx True False False\n",
      "project  project NOUN  NN compound xxxx True False False\n",
      "status  status NOUN  NN dobj xxxx True False False\n",
      "and  and CCONJ  CC cc xxx True True False\n",
      "KPI ORG KPI PROPN ORG NNP conj XXX True False False\n",
      ".  . PUNCT  . punct . False False False\n",
      "       SPACE  _SP dobj    False False False\n",
      "Scripted  script VERB  VBN ROOT Xxxxx True False False\n",
      "in  in ADP  IN prep xx True True False\n",
      "Power SKILL|power-bi Power PROPN SKILL|power-bi NNP compound Xxxxx True False False\n",
      "BI SKILL|power-bi BI PROPN SKILL|power-bi NNP compound XX True False False\n",
      "DAX  DAX PROPN  NNP pobj XXX True False False\n",
      "to  to ADP  IN prep xx True True False\n",
      "transformACTION  transformaction NUM  CD pobj xxxxXXXX True False False\n",
      "and  and CCONJ  CC cc xxx True True False\n",
      "cleanse  cleanse VERB  VB conj xxxx True False False\n",
      "operational  operational ADJ  JJ amod xxxx True False False\n",
      "raw  raw ADJ  JJ amod xxx True False False\n",
      "data  datum NOUN  NNS dobj xxxx True False False\n",
      "and  and CCONJ  CC cc xxx True True False\n",
      "to  to PART  TO aux xx True True False\n",
      "reduce  reduce VERB  VB conj xxxx True False False\n",
      "data  data NOUN  NN compound xxxx True False False\n",
      "discrepancy  discrepancy NOUN  NN dobj xxxx True False False\n",
      ".CONSIDER  .CONSIDER PUNCT  . punct .XXXX False False False\n",
      "ADDING  add VERB  VBG ROOT XXXX True False False\n",
      "RESULTS  RESULTS PROPN  NNP dobj XXXX True False False\n",
      "IN  in ADP  IN prep XX True True False\n",
      "THIS  this DET  DT det XXXX True True False\n",
      "SENTENCE  sentence NOUN  NN compound XXXX True False False\n",
      "       SPACE  _SP pobj    False False False\n",
      "PSA ORG PSA PROPN ORG NNP compound XXX True False False\n",
      "Singapore ORG Singapore PROPN ORG NNP appos Xxxxx True False False\n",
      "       SPACE  _SP nummod    False False False\n",
      "Data ORG Data PROPN ORG NNP compound Xxxx True False False\n",
      "Analyst ORG Analyst PROPN ORG NNP compound Xxxxx True False False\n",
      "Intern ORG Intern PROPN ORG NNP dobj Xxxxx True False False\n",
      "(  ( PUNCT  -LRB- punct ( False False False\n",
      "2019/05/30 DATE|V2 2019/05/30 NUM DATE|V2 CD dep dddd/dd/dd False False False\n",
      "–  – PUNCT  : punct – False False False\n",
      "2019/08/30 DATE|V2 2019/08/30 NUM DATE|V2 CD appos dddd/dd/dd False False False\n",
      ")  ) PUNCT  -RRB- punct ) False False False\n",
      "       SPACE  _SP dobj    False False False\n",
      "Scripted  script VERB  VBN ROOT Xxxxx True False False\n",
      "in  in ADP  IN prep xx True True False\n",
      "QlikView SKILL|qlik-view QlikView PROPN SKILL|qlik-view NNP pobj XxxxXxxx True False False\n",
      "to  to PART  TO aux xx True True False\n",
      "realize  realize VERB  VB advcl xxxx True False False\n",
      "data  datum NOUN  NNS compound xxxx True False False\n",
      "cleaning  cleaning NOUN  NN dobj xxxx True False False\n",
      ",  , PUNCT  , punct , False False False\n",
      "data  datum NOUN  NNS nmod xxxx True False False\n",
      "mapping  mapping NOUN  NN nmod xxxx True False False\n",
      "and  and CCONJ  CC cc xxx True True False\n",
      "data  datum NOUN  NNS conj xxxx True False False\n",
      "transformation  transformation NOUN  NN conj xxxx True False False\n",
      ".  . PUNCT  . punct . False False False\n",
      "       SPACE  _SP nsubj    False False False\n",
      "Prepared  prepare VERB  VBD ROOT Xxxxx True False False\n",
      "the  the DET  DT det xxx True True False\n",
      "configuration  configuration NOUN  NN dobj xxxx True False False\n",
      "for  for ADP  IN prep xxx True True False\n",
      "the  the DET  DT det xxx True True False\n",
      "ingestion  ingestion NOUN  NN compound xxxx True False False\n",
      "ETL SKILL|etl etl NOUN SKILL|etl NN compound XXX True False False\n",
      "framework SKILL|framework framework NOUN SKILL|framework NN pobj xxxx True False False\n",
      "to  to PART  TO aux xx True True False\n",
      "extract  extract VERB  VB relcl xxxx True False False\n",
      ",  , PUNCT  , punct , False False False\n",
      "load  load NOUN  NN conj xxxx True False False\n",
      "and  and CCONJ  CC cc xxx True True False\n",
      "manipulate  manipulate VERB  VB conj xxxx True False False\n",
      "high  high ADJ  JJ amod xxxx True False False\n",
      "-  - PUNCT  HYPH punct - False False False\n",
      "volume  volume NOUN  NN compound xxxx True False False\n",
      "data  datum NOUN  NNS dobj xxxx True False False\n",
      "from  from ADP  IN prep xxxx True True False\n",
      "various  various ADJ  JJ amod xxxx True True False\n",
      "data  data NOUN  NN compound xxxx True False False\n",
      "sources  source NOUN  NNS pobj xxxx True False False\n",
      "into  into ADP  IN prep xxxx True True False\n",
      "QlikView SKILL|qlik-view QlikView PROPN SKILL|qlik-view NNP pobj XxxxXxxx True False False\n",
      ".  . PUNCT  . punct . False False False\n",
      "       SPACE  _SP nmod    False False False\n",
      "EDUCATION  education NOUN  NN appos XXXX True False False\n",
      "       SPACE  _SP appos    False False False\n",
      "National  National PROPN  NNP nmod Xxxxx True False False\n",
      "University DEGREE|BS-LEVEL University PROPN DEGREE|BS-LEVEL NNP nmod Xxxxx True False False\n",
      "of  of ADP  IN prep xx True True False\n",
      "Singapore  Singapore PROPN  NNP pobj Xxxxx True False False\n",
      "Singapore  Singapore PROPN  NNP appos Xxxxx True False False\n",
      "       SPACE  _SP compound    False False False\n",
      "B.Sc DEGREE|BS-LEVEL B.Sc PROPN DEGREE|BS-LEVEL NNP ROOT X.Xx False False False\n",
      ".  . PUNCT  . punct . False False False\n",
      "in  in ADP  IN prep xx True True False\n",
      "Applied  Applied PROPN  NNP compound Xxxxx True False False\n",
      "Mathematics  Mathematics PROPN  NNP pobj Xxxxx True False False\n",
      "(  ( PUNCT  -LRB- punct ( False False False\n",
      "Aug DATE|V1 Aug PROPN DATE|V1 NNP npadvmod Xxx True False False\n",
      "2016 DATE|V1 2016 NUM DATE|V1 CD nummod dddd False False True\n",
      "–  – PUNCT  : punct – False False False\n",
      "Aug DATE|V1 Aug PROPN DATE|V1 NNP appos Xxx True False False\n",
      "2019 DATE|V1 2019 NUM DATE|V1 CD nummod dddd False False True\n",
      ")  ) PUNCT  -RRB- punct ) False False False\n",
      "       SPACE  _SP compound    False False False\n",
      "General ORG General PROPN ORG NNP compound Xxxxx True False False\n",
      "Assembly ORG Assembly PROPN ORG NNP compound Xxxxx True False False\n",
      "       SPACE  _SP compound    False False False\n",
      "Data SKILL|data-science Data PROPN SKILL|data-science NNP compound Xxxx True False False\n",
      "Science SKILL|data-science Science PROPN SKILL|data-science NNP compound Xxxxx True False False\n",
      "Bootcamp  Bootcamp PROPN  NNP appos Xxxxx True False False\n",
      "(  ( PUNCT  -LRB- punct ( False False False\n",
      "Aug DATE|V1 Aug PROPN DATE|V1 NNP appos Xxx True False False\n",
      "2022 DATE|V1 2022 NUM DATE|V1 CD nummod dddd False False True\n",
      "–  – PUNCT  : punct – False False False\n",
      "Mar DATE|V1 Mar PROPN DATE|V1 NNP appos Xxx True False False\n",
      "2023 DATE|V1 2023 NUM DATE|V1 CD nummod dddd False False True\n",
      ",  , PUNCT  , punct , False False False\n",
      "part  part NOUN  NN amod xxxx True True False\n",
      "-  - PUNCT  HYPH punct - False False False\n",
      "time  time NOUN  NN appos xxxx True False False\n",
      ")  ) PUNCT  -RRB- punct ) False False False\n",
      "Singapore  Singapore PROPN  NNP nsubj Xxxxx True False False\n",
      "       SPACE  _SP compound    False False False\n",
      "CERTIFICATE  certificate NOUN  NN appos XXXX True False False\n",
      "       SPACE  _SP dep    False False False\n",
      "Deep SKILL|deep-learning Deep PROPN SKILL|deep-learning NNP compound Xxxx True False False\n",
      "Learning SKILL|deep-learning Learning PROPN SKILL|deep-learning NNP compound Xxxxx True False False\n",
      "Specialization  Specialization PROPN  NNP appos Xxxxx True False False\n",
      "       SPACE  _SP nmod    False False False\n",
      "5  5 NUM  CD nummod d False False True\n",
      "Coursera  Coursera PROPN  NNP compound Xxxxx True False False\n",
      "Course  course NOUN  NN compound Xxxxx True False False\n",
      "Certificates  Certificates PROPN  NNPS nsubj Xxxxx True False False\n",
      "(  ( PUNCT  -LRB- punct ( False False False\n",
      "Neural  Neural PROPN  NNP compound Xxxxx True False False\n",
      "Networks  Networks PROPN  NNP appos Xxxxx True False False\n",
      ",  , PUNCT  , punct , False False False\n",
      "CNN ORG CNN PROPN ORG NNP npadvmod XXX True False False\n",
      ",  , PUNCT  , punct , False False False\n",
      "RNN ORG RNN PROPN ORG NNP appos XXX True False False\n",
      ",  , PUNCT  , punct , False False False\n",
      "CV ORG CV PROPN ORG NNP nmod XX True False False\n",
      ",  , PUNCT  , punct , False False False\n",
      "NLP SKILL|natural-language-processing NLP PROPN SKILL|natural-language-processing NNP appos XXX True False False\n",
      ")  ) PUNCT  -RRB- punct ) False False False\n",
      "       SPACE  _SP compound    False False False\n",
      "SKILLS ORG SKILLS PROPN ORG NNP appos XXXX True False False\n",
      "& ORG & CCONJ ORG CC cc & False False False\n",
      "INTERESTS ORG INTERESTS PROPN ORG NNP conj XXXX True False False\n",
      "       SPACE  _SP ROOT    False False False\n",
      "Familiar  Familiar PROPN  NNP ROOT Xxxxx True False False\n",
      "with  with ADP  IN prep xxxx True True False\n",
      "statistics  statistic NOUN  NNS nmod xxxx True False False\n",
      "and  and CCONJ  CC cc xxx True True False\n",
      "Machine SKILL|machine-learning Machine PROPN SKILL|machine-learning NNP compound Xxxxx True False False\n",
      "Learning SKILL|machine-learning Learning PROPN SKILL|machine-learning NNP conj Xxxxx True False False\n",
      "concepts  concept NOUN  NNS pobj xxxx True False False\n",
      ".  . PUNCT  . punct . False False False\n",
      "       SPACE  _SP ROOT    False False False\n",
      "Proficient  Proficient PROPN  NNP amod Xxxxx True False False\n",
      "in  in ADP  IN prep xx True True False\n",
      "Python SKILL|python Python PROPN SKILL|python NNP pobj Xxxxx True False False\n",
      "and  and CCONJ  CC cc xxx True True False\n",
      "SQL SKILL|sql SQL PROPN SKILL|sql NNP conj XXX True False False\n",
      ";  ; PUNCT  : punct ; False False False\n",
      "Intermediate  Intermediate PROPN  NNP amod Xxxxx True False False\n",
      "level  level NOUN  NN conj xxxx True False False\n",
      "in  in ADP  IN prep xx True True False\n",
      "R SKILL|r R PROPN SKILL|r NNP pobj X True False False\n",
      ",  , PUNCT  , punct , False False False\n",
      "HTML SKILL|html HTML PROPN SKILL|html NNP conj XXXX True False False\n",
      ",  , PUNCT  , punct , False False False\n",
      "CSS SKILL|css CSS PROPN SKILL|css NNP conj XXX True False False\n",
      ",  , PUNCT  , punct , False False False\n",
      "JavaScript SKILL|javascript JavaScript PROPN SKILL|javascript NNP conj XxxxXxxxx True False False\n",
      ",  , PUNCT  , punct , False False False\n",
      "shell(zsh PERSON shell(zsh PROPN PERSON NNP npadvmod xxxx(xxx False False False\n",
      ")  ) PUNCT  -RRB- punct ) False False False\n",
      "       SPACE  _SP compound    False False False\n",
      "Passion  passion NOUN  NN ROOT Xxxxx True False False\n",
      "in  in ADP  IN prep xx True True False\n",
      "applying  apply VERB  VBG pcomp xxxx True False False\n",
      "Machine SKILL|machine-learning Machine PROPN SKILL|machine-learning NNP compound Xxxxx True False False\n",
      "Learning SKILL|machine-learning Learning PROPN SKILL|machine-learning NNP dobj Xxxxx True False False\n",
      "to  to ADP  IN prep xx True True False\n",
      "financial  financial ADJ  JJ amod xxxx True False False\n",
      "area  area NOUN  NN pobj xxxx True False False\n",
      ".  . PUNCT  . punct . False False False\n",
      "(  ( PUNCT  -LRB- punct ( False False False\n",
      "like  like ADP  IN ROOT xxxx True False False\n",
      "algorithmic  algorithmic ADJ  JJ amod xxxx True False False\n",
      "trading  trading NOUN  NN pobj xxxx True False False\n",
      ")  ) PUNCT  -RRB- punct ) False False False\n",
      "       SPACE  _SP nmod    False False False\n",
      "Bilingual GPE Bilingual PROPN GPE NNP pobj Xxxxx True False False\n",
      "in  in ADP  IN prep xx True True False\n",
      "English LANGUAGE English PROPN LANGUAGE NNP pobj Xxxxx True False False\n",
      "and  and CCONJ  CC cc xxx True True False\n",
      "Mandarin LANGUAGE Mandarin PROPN LANGUAGE NNP conj Xxxxx True False False\n",
      ".  . PUNCT  . punct . False False False\n"
     ]
    }
   ],
   "source": [
    "for token in doc1:\n",
    "    print(token.text, token.ent_type_, token.lemma_, token.pos_, token.ent_type_, token.tag_, token.dep_,\n",
    "            token.shape_, token.is_alpha, token.is_stop,token.like_num)"
   ]
  },
  {
   "cell_type": "code",
   "execution_count": 11,
   "metadata": {},
   "outputs": [
    {
     "name": "stdout",
     "output_type": "stream",
     "text": [
      "1369\n",
      "about 2 years\n",
      "2021/09/30\n",
      "2023/01/30\n",
      "2019/09/30\n",
      "2021/08/30\n",
      "2019/05/30\n",
      "2019/08/30\n",
      "Aug 2016\n",
      "Aug 2019\n",
      "Aug 2022\n",
      "Mar 2023\n"
     ]
    }
   ],
   "source": [
    "for ent in doc1.ents:\n",
    "    if \"DATE\" in ent.label_:\n",
    "        print(ent.text)"
   ]
  },
  {
   "cell_type": "code",
   "execution_count": 32,
   "metadata": {},
   "outputs": [
    {
     "data": {
      "text/plain": [
       "Steven"
      ]
     },
     "execution_count": 32,
     "metadata": {},
     "output_type": "execute_result"
    }
   ],
   "source": [
    "doc1.ents[1]"
   ]
  },
  {
   "cell_type": "code",
   "execution_count": 24,
   "metadata": {},
   "outputs": [
    {
     "data": {
      "text/plain": [
       "datetime.datetime(2023, 1, 5, 0, 0)"
      ]
     },
     "execution_count": 24,
     "metadata": {},
     "output_type": "execute_result"
    }
   ],
   "source": [
    "parse('5')"
   ]
  },
  {
   "cell_type": "code",
   "execution_count": 22,
   "metadata": {},
   "outputs": [
    {
     "data": {
      "text/plain": [
       "'Zhexu Steven Github 1369 about 2 years business intelligence analytics project management finance time series python Vector ARIMA Singapore time series R FOREX python Random Forest Logistic Regression API Tfidf Vectorizer NLP House linear regression Kaggle Business Analyst 2021/09/30 2023/01/30 testing SQL JIRA SQL analytics python pandas SQL Excel Maybank Singapore Business Analyst 2019/09/30 2021/08/30 business the Functional Specifications handover Leveraged SAS SQL data modeling UAT Testing Created Power BI KPI Power BI PSA Singapore Data Analyst Intern 2019/05/30 2019/08/30 QlikView ETL framework QlikView National University of Singapore Singapore B.Sc Applied Mathematics ( Aug 2016 2019 General Assembly Data Science Aug 2022 Mar 2023 Deep Learning Specialization CNN RNN CV NLP SKILLS & INTERESTS Machine Learning Python SQL R HTML CSS JavaScript shell(zsh Machine Learning Bilingual English Mandarin '"
      ]
     },
     "execution_count": 22,
     "metadata": {},
     "output_type": "execute_result"
    }
   ],
   "source": [
    "s=''\n",
    "for ent in doc1.ents:\n",
    "    s = s+ ent.text +' '\n",
    "\n",
    "s"
   ]
  },
  {
   "cell_type": "code",
   "execution_count": 31,
   "metadata": {},
   "outputs": [
    {
     "data": {
      "text/plain": [
       "True"
      ]
     },
     "execution_count": 31,
     "metadata": {},
     "output_type": "execute_result"
    }
   ],
   "source": [
    "a = set([1,2,2,4])\n",
    "b = {2,3}\n",
    "2 in a&b"
   ]
  },
  {
   "cell_type": "code",
   "execution_count": 44,
   "metadata": {},
   "outputs": [
    {
     "data": {
      "text/plain": [
       "25"
      ]
     },
     "execution_count": 44,
     "metadata": {},
     "output_type": "execute_result"
    }
   ],
   "source": [
    "int(re.sub('[^0-9]', '', '2+ years 5 months '))"
   ]
  },
  {
   "cell_type": "code",
   "execution_count": 54,
   "metadata": {},
   "outputs": [
    {
     "data": {
      "text/plain": [
       "2"
      ]
     },
     "execution_count": 54,
     "metadata": {},
     "output_type": "execute_result"
    }
   ],
   "source": [
    "int(re.findall('\\d+','2 years 5 months ')[0])"
   ]
  },
  {
   "cell_type": "code",
   "execution_count": 73,
   "metadata": {},
   "outputs": [],
   "source": [
    "import pandas as pd"
   ]
  },
  {
   "cell_type": "code",
   "execution_count": 72,
   "metadata": {},
   "outputs": [],
   "source": [
    "d= {'api': 0, 'regression': 0, 'sas': 0, 'finance': 0, 'mysql': 0, 'neo4j': 0, 'big-data': 0, 'etl': 0, 'monitoring': 1, 'tensorflow': 1, 'visualization': 0, 'sqlite': 0, 'tableau': 0, 'algorithm': 1, 'bash': 0, 'variables': 0, 'smoothing': 0, 'r': 0, 'hadoop': 1, 'storm': 0, 'python': 1, 'opencv': 1, 'd3.js': 0, 'sql': 0, 'mobile': 0, 'data-analysis': 0, 'engineering': 0, 'data-science': 0, 'git': 0, 'google': 0, 'business': 0, 'design': 0}"
   ]
  },
  {
   "cell_type": "code",
   "execution_count": 90,
   "metadata": {},
   "outputs": [
    {
     "data": {
      "text/plain": [
       "<matplotlib.axes._subplots.AxesSubplot at 0x7fb0e103db50>"
      ]
     },
     "execution_count": 90,
     "metadata": {},
     "output_type": "execute_result"
    },
    {
     "data": {
      "image/png": "[encoded data removed]",
      "text/plain": [
       "<Figure size 432x288 with 1 Axes>"
      ]
     },
     "metadata": {
      "needs_background": "light"
     },
     "output_type": "display_data"
    }
   ],
   "source": [
    "d1.plot.bar(y='YoE', x ='Skills')"
   ]
  },
  {
   "cell_type": "code",
   "execution_count": 91,
   "metadata": {},
   "outputs": [
    {
     "data": {
      "text/plain": [
       "<matplotlib.axes._subplots.AxesSubplot at 0x7fb0e11cac10>"
      ]
     },
     "execution_count": 91,
     "metadata": {},
     "output_type": "execute_result"
    },
    {
     "data": {
      "image/png": "[encoded data removed]",
      "text/plain": [
       "<Figure size 432x288 with 1 Axes>"
      ]
     },
     "metadata": {
      "needs_background": "light"
     },
     "output_type": "display_data"
    }
   ],
   "source": [
    "p= {'api': 0, 'regression': 0, 'sas': 0, 'finance': 0, 'mysql': 0, 'neo4j': 0, 'big-data': 0, 'etl': 0, 'monitoring': 0, 'tensorflow': 0, 'visualization': 0, 'sqlite': 0, 'tableau': 0, 'algorithm': 0, 'bash': 0, 'variables': 0, 'smoothing': 0, 'r': 0, 'hadoop': 0, 'storm': 0, 'python': 0, 'opencv': 0, 'd3.js': 0, 'sql': 0, 'mobile': 0, 'data-analysis': 0, 'engineering': 0, 'data-science': 0, 'git': 0, 'google': 0, 'business': 0, 'design': 0}\n",
    "d2 = pd.DataFrame(p.items(), columns=['Skills','YoE'])\n",
    "d2.plot.bar(y='YoE', x ='Skills')"
   ]
  },
  {
   "cell_type": "code",
   "execution_count": 95,
   "metadata": {},
   "outputs": [],
   "source": [
    "import matplotlib.pyplot as plt"
   ]
  },
  {
   "cell_type": "code",
   "execution_count": 97,
   "metadata": {},
   "outputs": [
    {
     "data": {
      "text/plain": [
       "<matplotlib.axes._subplots.AxesSubplot at 0x7fb0f3dfc700>"
      ]
     },
     "execution_count": 97,
     "metadata": {},
     "output_type": "execute_result"
    },
    {
     "data": {
      "image/png": "[encoded data removed]",
      "text/plain": [
       "<Figure size 432x288 with 1 Axes>"
      ]
     },
     "metadata": {
      "needs_background": "light"
     },
     "output_type": "display_data"
    }
   ],
   "source": [
    "fig, ax = plt.subplots()\n",
    "d1.plot.bar(y='YoE', x ='Skills',ax=ax)\n",
    "d2.plot.bar(y='YoE', x ='Skills',ax=ax)"
   ]
  },
  {
   "cell_type": "code",
   "execution_count": 87,
   "metadata": {},
   "outputs": [
    {
     "data": {
      "text/html": [
       "<div>\n",
       "<style scoped>\n",
       "    .dataframe tbody tr th:only-of-type {\n",
       "        vertical-align: middle;\n",
       "    }\n",
       "\n",
       "    .dataframe tbody tr th {\n",
       "        vertical-align: top;\n",
       "    }\n",
       "\n",
       "    .dataframe thead th {\n",
       "        text-align: right;\n",
       "    }\n",
       "</style>\n",
       "<table border=\"1\" class=\"dataframe\">\n",
       "  <thead>\n",
       "    <tr style=\"text-align: right;\">\n",
       "      <th></th>\n",
       "      <th>Skills</th>\n",
       "      <th>YoE</th>\n",
       "    </tr>\n",
       "  </thead>\n",
       "  <tbody>\n",
       "    <tr>\n",
       "      <th>0</th>\n",
       "      <td>api</td>\n",
       "      <td>0</td>\n",
       "    </tr>\n",
       "    <tr>\n",
       "      <th>1</th>\n",
       "      <td>regression</td>\n",
       "      <td>0</td>\n",
       "    </tr>\n",
       "    <tr>\n",
       "      <th>2</th>\n",
       "      <td>sas</td>\n",
       "      <td>0</td>\n",
       "    </tr>\n",
       "    <tr>\n",
       "      <th>3</th>\n",
       "      <td>finance</td>\n",
       "      <td>0</td>\n",
       "    </tr>\n",
       "    <tr>\n",
       "      <th>4</th>\n",
       "      <td>mysql</td>\n",
       "      <td>0</td>\n",
       "    </tr>\n",
       "    <tr>\n",
       "      <th>5</th>\n",
       "      <td>neo4j</td>\n",
       "      <td>0</td>\n",
       "    </tr>\n",
       "    <tr>\n",
       "      <th>6</th>\n",
       "      <td>big-data</td>\n",
       "      <td>0</td>\n",
       "    </tr>\n",
       "    <tr>\n",
       "      <th>7</th>\n",
       "      <td>etl</td>\n",
       "      <td>0</td>\n",
       "    </tr>\n",
       "    <tr>\n",
       "      <th>8</th>\n",
       "      <td>monitoring</td>\n",
       "      <td>1</td>\n",
       "    </tr>\n",
       "    <tr>\n",
       "      <th>9</th>\n",
       "      <td>tensorflow</td>\n",
       "      <td>1</td>\n",
       "    </tr>\n",
       "    <tr>\n",
       "      <th>10</th>\n",
       "      <td>visualization</td>\n",
       "      <td>0</td>\n",
       "    </tr>\n",
       "    <tr>\n",
       "      <th>11</th>\n",
       "      <td>sqlite</td>\n",
       "      <td>0</td>\n",
       "    </tr>\n",
       "    <tr>\n",
       "      <th>12</th>\n",
       "      <td>tableau</td>\n",
       "      <td>0</td>\n",
       "    </tr>\n",
       "    <tr>\n",
       "      <th>13</th>\n",
       "      <td>algorithm</td>\n",
       "      <td>1</td>\n",
       "    </tr>\n",
       "    <tr>\n",
       "      <th>14</th>\n",
       "      <td>bash</td>\n",
       "      <td>0</td>\n",
       "    </tr>\n",
       "    <tr>\n",
       "      <th>15</th>\n",
       "      <td>variables</td>\n",
       "      <td>0</td>\n",
       "    </tr>\n",
       "    <tr>\n",
       "      <th>16</th>\n",
       "      <td>smoothing</td>\n",
       "      <td>0</td>\n",
       "    </tr>\n",
       "    <tr>\n",
       "      <th>17</th>\n",
       "      <td>r</td>\n",
       "      <td>0</td>\n",
       "    </tr>\n",
       "    <tr>\n",
       "      <th>18</th>\n",
       "      <td>hadoop</td>\n",
       "      <td>1</td>\n",
       "    </tr>\n",
       "    <tr>\n",
       "      <th>19</th>\n",
       "      <td>storm</td>\n",
       "      <td>0</td>\n",
       "    </tr>\n",
       "    <tr>\n",
       "      <th>20</th>\n",
       "      <td>python</td>\n",
       "      <td>1</td>\n",
       "    </tr>\n",
       "    <tr>\n",
       "      <th>21</th>\n",
       "      <td>opencv</td>\n",
       "      <td>1</td>\n",
       "    </tr>\n",
       "    <tr>\n",
       "      <th>22</th>\n",
       "      <td>d3.js</td>\n",
       "      <td>0</td>\n",
       "    </tr>\n",
       "    <tr>\n",
       "      <th>23</th>\n",
       "      <td>sql</td>\n",
       "      <td>0</td>\n",
       "    </tr>\n",
       "    <tr>\n",
       "      <th>24</th>\n",
       "      <td>mobile</td>\n",
       "      <td>0</td>\n",
       "    </tr>\n",
       "    <tr>\n",
       "      <th>25</th>\n",
       "      <td>data-analysis</td>\n",
       "      <td>0</td>\n",
       "    </tr>\n",
       "    <tr>\n",
       "      <th>26</th>\n",
       "      <td>engineering</td>\n",
       "      <td>0</td>\n",
       "    </tr>\n",
       "    <tr>\n",
       "      <th>27</th>\n",
       "      <td>data-science</td>\n",
       "      <td>0</td>\n",
       "    </tr>\n",
       "    <tr>\n",
       "      <th>28</th>\n",
       "      <td>git</td>\n",
       "      <td>0</td>\n",
       "    </tr>\n",
       "    <tr>\n",
       "      <th>29</th>\n",
       "      <td>google</td>\n",
       "      <td>0</td>\n",
       "    </tr>\n",
       "    <tr>\n",
       "      <th>30</th>\n",
       "      <td>business</td>\n",
       "      <td>0</td>\n",
       "    </tr>\n",
       "    <tr>\n",
       "      <th>31</th>\n",
       "      <td>design</td>\n",
       "      <td>0</td>\n",
       "    </tr>\n",
       "  </tbody>\n",
       "</table>\n",
       "</div>"
      ],
      "text/plain": [
       "           Skills  YoE\n",
       "0             api    0\n",
       "1      regression    0\n",
       "2             sas    0\n",
       "3         finance    0\n",
       "4           mysql    0\n",
       "5           neo4j    0\n",
       "6        big-data    0\n",
       "7             etl    0\n",
       "8      monitoring    1\n",
       "9      tensorflow    1\n",
       "10  visualization    0\n",
       "11         sqlite    0\n",
       "12        tableau    0\n",
       "13      algorithm    1\n",
       "14           bash    0\n",
       "15      variables    0\n",
       "16      smoothing    0\n",
       "17              r    0\n",
       "18         hadoop    1\n",
       "19          storm    0\n",
       "20         python    1\n",
       "21         opencv    1\n",
       "22          d3.js    0\n",
       "23            sql    0\n",
       "24         mobile    0\n",
       "25  data-analysis    0\n",
       "26    engineering    0\n",
       "27   data-science    0\n",
       "28            git    0\n",
       "29         google    0\n",
       "30       business    0\n",
       "31         design    0"
      ]
     },
     "execution_count": 87,
     "metadata": {},
     "output_type": "execute_result"
    }
   ],
   "source": [
    "d1"
   ]
  },
  {
   "cell_type": "code",
   "execution_count": 103,
   "metadata": {},
   "outputs": [
    {
     "data": {
      "text/html": [
       "<div>\n",
       "<style scoped>\n",
       "    .dataframe tbody tr th:only-of-type {\n",
       "        vertical-align: middle;\n",
       "    }\n",
       "\n",
       "    .dataframe tbody tr th {\n",
       "        vertical-align: top;\n",
       "    }\n",
       "\n",
       "    .dataframe thead th {\n",
       "        text-align: right;\n",
       "    }\n",
       "</style>\n",
       "<table border=\"1\" class=\"dataframe\">\n",
       "  <thead>\n",
       "    <tr style=\"text-align: right;\">\n",
       "      <th></th>\n",
       "      <th>YoE</th>\n",
       "      <th>YoE</th>\n",
       "    </tr>\n",
       "    <tr>\n",
       "      <th>Skills</th>\n",
       "      <th></th>\n",
       "      <th></th>\n",
       "    </tr>\n",
       "  </thead>\n",
       "  <tbody>\n",
       "    <tr>\n",
       "      <th>api</th>\n",
       "      <td>0</td>\n",
       "      <td>0</td>\n",
       "    </tr>\n",
       "    <tr>\n",
       "      <th>regression</th>\n",
       "      <td>0</td>\n",
       "      <td>0</td>\n",
       "    </tr>\n",
       "    <tr>\n",
       "      <th>sas</th>\n",
       "      <td>0</td>\n",
       "      <td>0</td>\n",
       "    </tr>\n",
       "    <tr>\n",
       "      <th>finance</th>\n",
       "      <td>0</td>\n",
       "      <td>0</td>\n",
       "    </tr>\n",
       "    <tr>\n",
       "      <th>mysql</th>\n",
       "      <td>0</td>\n",
       "      <td>0</td>\n",
       "    </tr>\n",
       "    <tr>\n",
       "      <th>neo4j</th>\n",
       "      <td>0</td>\n",
       "      <td>0</td>\n",
       "    </tr>\n",
       "    <tr>\n",
       "      <th>big-data</th>\n",
       "      <td>0</td>\n",
       "      <td>0</td>\n",
       "    </tr>\n",
       "    <tr>\n",
       "      <th>etl</th>\n",
       "      <td>0</td>\n",
       "      <td>0</td>\n",
       "    </tr>\n",
       "    <tr>\n",
       "      <th>monitoring</th>\n",
       "      <td>1</td>\n",
       "      <td>0</td>\n",
       "    </tr>\n",
       "    <tr>\n",
       "      <th>tensorflow</th>\n",
       "      <td>1</td>\n",
       "      <td>0</td>\n",
       "    </tr>\n",
       "    <tr>\n",
       "      <th>visualization</th>\n",
       "      <td>0</td>\n",
       "      <td>0</td>\n",
       "    </tr>\n",
       "    <tr>\n",
       "      <th>sqlite</th>\n",
       "      <td>0</td>\n",
       "      <td>0</td>\n",
       "    </tr>\n",
       "    <tr>\n",
       "      <th>tableau</th>\n",
       "      <td>0</td>\n",
       "      <td>0</td>\n",
       "    </tr>\n",
       "    <tr>\n",
       "      <th>algorithm</th>\n",
       "      <td>1</td>\n",
       "      <td>0</td>\n",
       "    </tr>\n",
       "    <tr>\n",
       "      <th>bash</th>\n",
       "      <td>0</td>\n",
       "      <td>0</td>\n",
       "    </tr>\n",
       "    <tr>\n",
       "      <th>variables</th>\n",
       "      <td>0</td>\n",
       "      <td>0</td>\n",
       "    </tr>\n",
       "    <tr>\n",
       "      <th>smoothing</th>\n",
       "      <td>0</td>\n",
       "      <td>0</td>\n",
       "    </tr>\n",
       "    <tr>\n",
       "      <th>r</th>\n",
       "      <td>0</td>\n",
       "      <td>0</td>\n",
       "    </tr>\n",
       "    <tr>\n",
       "      <th>hadoop</th>\n",
       "      <td>1</td>\n",
       "      <td>0</td>\n",
       "    </tr>\n",
       "    <tr>\n",
       "      <th>storm</th>\n",
       "      <td>0</td>\n",
       "      <td>0</td>\n",
       "    </tr>\n",
       "    <tr>\n",
       "      <th>python</th>\n",
       "      <td>1</td>\n",
       "      <td>0</td>\n",
       "    </tr>\n",
       "    <tr>\n",
       "      <th>opencv</th>\n",
       "      <td>1</td>\n",
       "      <td>0</td>\n",
       "    </tr>\n",
       "    <tr>\n",
       "      <th>d3.js</th>\n",
       "      <td>0</td>\n",
       "      <td>0</td>\n",
       "    </tr>\n",
       "    <tr>\n",
       "      <th>sql</th>\n",
       "      <td>0</td>\n",
       "      <td>0</td>\n",
       "    </tr>\n",
       "    <tr>\n",
       "      <th>mobile</th>\n",
       "      <td>0</td>\n",
       "      <td>0</td>\n",
       "    </tr>\n",
       "    <tr>\n",
       "      <th>data-analysis</th>\n",
       "      <td>0</td>\n",
       "      <td>0</td>\n",
       "    </tr>\n",
       "    <tr>\n",
       "      <th>engineering</th>\n",
       "      <td>0</td>\n",
       "      <td>0</td>\n",
       "    </tr>\n",
       "    <tr>\n",
       "      <th>data-science</th>\n",
       "      <td>0</td>\n",
       "      <td>0</td>\n",
       "    </tr>\n",
       "    <tr>\n",
       "      <th>git</th>\n",
       "      <td>0</td>\n",
       "      <td>0</td>\n",
       "    </tr>\n",
       "    <tr>\n",
       "      <th>google</th>\n",
       "      <td>0</td>\n",
       "      <td>0</td>\n",
       "    </tr>\n",
       "    <tr>\n",
       "      <th>business</th>\n",
       "      <td>0</td>\n",
       "      <td>0</td>\n",
       "    </tr>\n",
       "    <tr>\n",
       "      <th>design</th>\n",
       "      <td>0</td>\n",
       "      <td>0</td>\n",
       "    </tr>\n",
       "  </tbody>\n",
       "</table>\n",
       "</div>"
      ],
      "text/plain": [
       "               YoE  YoE\n",
       "Skills                 \n",
       "api              0    0\n",
       "regression       0    0\n",
       "sas              0    0\n",
       "finance          0    0\n",
       "mysql            0    0\n",
       "neo4j            0    0\n",
       "big-data         0    0\n",
       "etl              0    0\n",
       "monitoring       1    0\n",
       "tensorflow       1    0\n",
       "visualization    0    0\n",
       "sqlite           0    0\n",
       "tableau          0    0\n",
       "algorithm        1    0\n",
       "bash             0    0\n",
       "variables        0    0\n",
       "smoothing        0    0\n",
       "r                0    0\n",
       "hadoop           1    0\n",
       "storm            0    0\n",
       "python           1    0\n",
       "opencv           1    0\n",
       "d3.js            0    0\n",
       "sql              0    0\n",
       "mobile           0    0\n",
       "data-analysis    0    0\n",
       "engineering      0    0\n",
       "data-science     0    0\n",
       "git              0    0\n",
       "google           0    0\n",
       "business         0    0\n",
       "design           0    0"
      ]
     },
     "execution_count": 103,
     "metadata": {},
     "output_type": "execute_result"
    }
   ],
   "source": [
    "df = pd.concat([d1.set_index('Skills'), d2.set_index('Skills')], axis=1, join=\"inner\")\n",
    "df"
   ]
  },
  {
   "cell_type": "code",
   "execution_count": 104,
   "metadata": {},
   "outputs": [
    {
     "data": {
      "text/plain": [
       "<matplotlib.axes._subplots.AxesSubplot at 0x7fb151812640>"
      ]
     },
     "execution_count": 104,
     "metadata": {},
     "output_type": "execute_result"
    },
    {
     "data": {
      "image/png": "[encoded data removed]",
      "text/plain": [
       "<Figure size 432x288 with 1 Axes>"
      ]
     },
     "metadata": {
      "needs_background": "light"
     },
     "output_type": "display_data"
    }
   ],
   "source": [
    "df.plot.barh()"
   ]
  },
  {
   "cell_type": "code",
   "execution_count": 82,
   "metadata": {},
   "outputs": [
    {
     "name": "stdout",
     "output_type": "stream",
     "text": [
      "0\n",
      "1\n"
     ]
    }
   ],
   "source": [
    "for col in d1.columns:\n",
    "    print(col)"
   ]
  },
  {
   "cell_type": "code",
   "execution_count": 105,
   "metadata": {},
   "outputs": [
    {
     "data": {
      "text/plain": [
       "'howmuchforthemaplesyrup2099Thatsridiculous'"
      ]
     },
     "execution_count": 105,
     "metadata": {},
     "output_type": "execute_result"
    }
   ],
   "source": [
    "string2 = 'how much for the maple syrup? $20.99? That s ridiculous!!!'\n",
    "re.sub('[^A-Za-z0-9]+', '', string2)"
   ]
  },
  {
   "cell_type": "code",
   "execution_count": 106,
   "metadata": {},
   "outputs": [
    {
     "data": {
      "text/plain": [
       "'howmuchforthemaplesyrup2099Thatsridiculous'"
      ]
     },
     "execution_count": 106,
     "metadata": {},
     "output_type": "execute_result"
    }
   ],
   "source": [
    "re.sub('\\W+','', string2)"
   ]
  },
  {
   "cell_type": "code",
   "execution_count": 109,
   "metadata": {},
   "outputs": [
    {
     "data": {
      "text/plain": [
       "'howmuchforthemaplesyrup2099Thatsridiculous'"
      ]
     },
     "execution_count": 109,
     "metadata": {},
     "output_type": "execute_result"
    }
   ],
   "source": [
    "''.join(e for e in string2 if e.isalnum())"
   ]
  },
  {
   "cell_type": "code",
   "execution_count": 110,
   "metadata": {},
   "outputs": [
    {
     "data": {
      "text/plain": [
       "['how much for the maple syrup 20 99 That s ridiculous ']"
      ]
     },
     "execution_count": 110,
     "metadata": {},
     "output_type": "execute_result"
    }
   ],
   "source": [
    "[re.sub(r\"[^a-zA-Z0-9]+\", ' ', k) for k in string2.split(\"\\n\")]"
   ]
  },
  {
   "cell_type": "code",
   "execution_count": 2,
   "metadata": {},
   "outputs": [],
   "source": [
    "import pandas as pd"
   ]
  },
  {
   "cell_type": "code",
   "execution_count": 10,
   "metadata": {},
   "outputs": [
    {
     "data": {
      "text/html": [
       "<div>\n",
       "<style scoped>\n",
       "    .dataframe tbody tr th:only-of-type {\n",
       "        vertical-align: middle;\n",
       "    }\n",
       "\n",
       "    .dataframe tbody tr th {\n",
       "        vertical-align: top;\n",
       "    }\n",
       "\n",
       "    .dataframe thead th {\n",
       "        text-align: right;\n",
       "    }\n",
       "</style>\n",
       "<table border=\"1\" class=\"dataframe\">\n",
       "  <thead>\n",
       "    <tr style=\"text-align: right;\">\n",
       "      <th></th>\n",
       "      <th>title</th>\n",
       "      <th>company</th>\n",
       "      <th>location</th>\n",
       "      <th>salary_emp</th>\n",
       "      <th>salary_est</th>\n",
       "      <th>description</th>\n",
       "    </tr>\n",
       "  </thead>\n",
       "  <tbody>\n",
       "    <tr>\n",
       "      <th>0</th>\n",
       "      <td>2</td>\n",
       "      <td>3</td>\n",
       "      <td>2</td>\n",
       "      <td>2</td>\n",
       "      <td>2</td>\n",
       "      <td>2</td>\n",
       "    </tr>\n",
       "    <tr>\n",
       "      <th>1</th>\n",
       "      <td>3</td>\n",
       "      <td>5</td>\n",
       "      <td>3</td>\n",
       "      <td>3</td>\n",
       "      <td>3</td>\n",
       "      <td>3</td>\n",
       "    </tr>\n",
       "  </tbody>\n",
       "</table>\n",
       "</div>"
      ],
      "text/plain": [
       "   title  company  location  salary_emp  salary_est  description\n",
       "0      2        3         2           2           2            2\n",
       "1      3        5         3           3           3            3"
      ]
     },
     "execution_count": 10,
     "metadata": {},
     "output_type": "execute_result"
    }
   ],
   "source": [
    "data = {\n",
    "    'title': [2,3],\n",
    "    'company': [3,5],\n",
    "    'location': [2,3],\n",
    "    'salary_emp': [2,3],\n",
    "    'salary_est': [2,3],\n",
    "    'description': [2,3]\n",
    "}\n",
    "\n",
    "x = pd.DataFrame(data)\n",
    "x"
   ]
  },
  {
   "cell_type": "code",
   "execution_count": 11,
   "metadata": {},
   "outputs": [],
   "source": [
    "data = {\n",
    "    'title': [],\n",
    "    'company': [],\n",
    "    'location': [],\n",
    "    'salary_emp': [],\n",
    "    'salary_est': [],\n",
    "    'description': []\n",
    "}"
   ]
  },
  {
   "cell_type": "code",
   "execution_count": 13,
   "metadata": {},
   "outputs": [
    {
     "data": {
      "text/plain": [
       "'Data%20Scientist'"
      ]
     },
     "execution_count": 13,
     "metadata": {},
     "output_type": "execute_result"
    }
   ],
   "source": [
    "job_title = 'Data Scientist'\n",
    "job_title = job_title.replace(' ', '%20')\n",
    "job_title"
   ]
  },
  {
   "cell_type": "code",
   "execution_count": 3,
   "metadata": {},
   "outputs": [],
   "source": [
    "from bs4 import BeautifulSoup\n",
    "import pandas as pd\n",
    "import requests"
   ]
  },
  {
   "cell_type": "code",
   "execution_count": 5,
   "metadata": {},
   "outputs": [],
   "source": [
    "job_title = 'Data Scientist'\n",
    "job_title = job_title.replace(' ', '%20')\n",
    "loc = ''\n",
    "country_code = 'sg'\n",
    "num_pages = 8\n",
    "\n",
    "headers = {\n",
    "    'user-agent': 'Mozilla/5.0 (Windows NT 10.0; Win64; x64) AppleWebKit/537.36 (KHTML, like Gecko) Chrome/72.0.3626.121 Safari/537.36',\n",
    "    'accept': 'text/html,application/xhtml+xml,application/xml;q=0.9,image/webp,image/apng,*/*;q=0.8',\n",
    "    'referer': 'https://play.google.com/store/apps',\n",
    "    'accept-language': 'en-US,en;q=0.9,',\n",
    "    'cookie': 'prov=6bb44cc9-dfe4-1b95-a65d-5250b3b4c9fb; _ga=GA1.2.1363624981.1550767314; __qca=P0-1074700243-1550767314392; notice-ctt=4%3B1550784035760; _gid=GA1.2.1415061800.1552935051; acct=t=4CnQ70qSwPMzOe6jigQlAR28TSW%2fMxzx&s=32zlYt1%2b3TBwWVaCHxH%2bl5aDhLjmq4Xr',\n",
    "}\n",
    "\n",
    "URL = f'https://{country_code}.indeed.com/jobs?q={job_title}&l={loc}&start={0}'\n",
    "res = requests.get(URL,headers).content"
   ]
  },
  {
   "cell_type": "code",
   "execution_count": 18,
   "metadata": {},
   "outputs": [],
   "source": [
    "headers = {\n",
    "    'User-Agent': 'Mozilla/5.0 (X11; Ubuntu; Linux x86_64; rv:105.0) Gecko/20100101 Firefox/105.0',\n",
    "    'Accept': 'text/html,application/xhtml+xml,application/xml;q=0.9,image/avif,image/webp,*/*;q=0.8',\n",
    "    'Accept-Language': 'en-US,en;q=0.5',\n",
    "    # 'Accept-Encoding': 'gzip, deflate, br',\n",
    "    'Connection': 'keep-alive',\n",
    "    'Upgrade-Insecure-Requests': '1',\n",
    "    'Sec-Fetch-Dest': 'document',\n",
    "    'Sec-Fetch-Mode': 'navigate',\n",
    "    'Sec-Fetch-Site': 'none',\n",
    "    'Sec-Fetch-User': '?1',\n",
    "    'Pragma': 'no-cache',\n",
    "    'Cache-Control': 'no-cache',\n",
    "}"
   ]
  },
  {
   "cell_type": "code",
   "execution_count": 8,
   "metadata": {},
   "outputs": [
    {
     "data": {
      "text/plain": [
       "<Response [403]>"
      ]
     },
     "execution_count": 8,
     "metadata": {},
     "output_type": "execute_result"
    }
   ],
   "source": [
    "URL = f'https://{country_code}.indeed.com/jobs?q={job_title}&l={loc}&start={0}'\n",
    "s = HTMLSession()\n",
    "res = s.get(URL)\n",
    "res\n",
    "# headers = {\n",
    "#     \"User-Agent\": \"Mozilla/5.0 (Windows NT 10.0; Win64; x64) AppleWebKit/537.36 (KHTML, like Gecko) Chrome/62.0.3202.94 Safari/537.36\",\n",
    "#     \"Accept-Encoding\": \"gzip, deflate, br\",\n",
    "#     \"Accept\": \"text/html,application/xhtml+xml,application/xml;q=0.9,image/webp,image/apng,*/*;q=0.8\",\n",
    "#     \"Connection\": \"keep-alive\",\n",
    "#     \"Accept-Language\": \"en-US,en;q=0.9,lt;q=0.8,et;q=0.7,de;q=0.6\",\n",
    "# }"
   ]
  },
  {
   "cell_type": "code",
   "execution_count": 14,
   "metadata": {},
   "outputs": [],
   "source": [
    "from selenium import webdriver"
   ]
  },
  {
   "cell_type": "code",
   "execution_count": 15,
   "metadata": {},
   "outputs": [
    {
     "data": {
      "text/plain": [
       "[]"
      ]
     },
     "execution_count": 15,
     "metadata": {},
     "output_type": "execute_result"
    }
   ],
   "source": [
    "\n",
    "driver = webdriver.Chrome()\n",
    "driver.get(URL)\n",
    "html = driver.page_source\n",
    "soup = BeautifulSoup(html, \"html.parser\")\n"
   ]
  },
  {
   "cell_type": "code",
   "execution_count": 18,
   "metadata": {},
   "outputs": [
    {
     "data": {
      "text/plain": [
       "['/pagead/clk?mo=r&ad=-6NYlbfkN0Adkj6z9PX5rd-1m12nzK_B6D4VjQGLpPuzUSV8YUmxKtSp99Izr6E6NRb6n83TkDWgsiviX3uwrKqLQLGtNeojmxzN3y1cU3YbXQpgu3YdwKKiwDYeSvgQL2LympsADIkYKDUS5FnPjs6L-OvOim4UwthVBsu4Pk2MKuoTixGZEpR4YRackVSfbVanytxq66gy1Qac95_jtacoRuSqpPPB4eDq6ajPmMwNR0qmCTw1t9so2zT9IWCsTHogkbIHDv5LQ-bt2wLloBqNXKNxxBr5tK_IJfRWOvAc-2ao3u5TM721qraVKnZdq_r6v41S56H47EgadRGAnTCXD3UcOG13rWJiHawnyzSVJayWTfRyWbvl6t8EJApySU0czVq_pDKZnVyfMhaGMab9umNi1S37_O0DuMw2EFEn9ooUfN6v4O0oRB5bFYy0I-fWsGCX7pulsiz7_ujfKchiqe9ODs6qO-EuO1h66nQDxRRpgwHaOK58xR7v-RYSpRA9Ye32LnV91x0BZ2QNoKvpIhwtptc4snwas2ee0CSesVmJ3QVBUhzH344jAXZ3NEcoxcdCF-LDeprnghri4fvkYjzOPE7bh2EKL9pOlYjs9QSvKTKgGQkksIWwd2yFr4A76R9OJXc=&xkcb=SoCB-_M3TySF16g1-b0LbzkdCdPP&p=0&fvj=0&vjs=3',\n",
       " '/pagead/clk?mo=r&ad=-6NYlbfkN0Adkj6z9PX5rd-1m12nzK_B6D4VjQGLpPuzUSV8YUmxKtSp99Izr6E6NRb6n83TkDV8IlOVBjXlRCYkK8KNJc3uoiQWHTSzs3QPNNut9U3yXtKvI5IhjI-mGoNWFtoYzR2BU6X1fKJ7ViXH1QZgvkxwuH8PL_ZjQ4fbaZWfyTIngKX2ozw8qf4Oprn4RDuRWm68QVhSQVAAHyKM_MlGihUPLC9wPQNpsAQWsNfUSuC-rT3V6U2tdBVjntyiqdWFodaf7Fdqij9aLDL9HYxArb1Y2fjJswzA4PuKdwuR0m9wdWkJgSff76QdcJVHtdu-HgDTuLi2jg6x5GvmtDH70EavMEWc9IWqFQyj_9VqQ-q6wWTmBwp4sSQ8c7GsjglyxpHZbYMG6z0QGWLU1_L1NX6zUl3c4ijHhOapp2x0V7TfrX8U_OIThqjbJZgOB1igCmKZ81xzsGsM5OoZtV-_2RA5GtPkpg3ganbdh0rZq9CNxxZTh3_JOsjRap-73fShxhTJXj8-P4XHBsy2bnsA5nKJtdgGc0ACCCZ54fKkBCg2wQxgws25K33jPE6TSFJSdhC6u-MRutiriHrPHXa1gbhmy05M5N3l5pr2qHUGn15RhqAXonsAAEBH-H-jTQWsVKi5-KK-4Ss-ZEg2K1Tob9aN&xkcb=SoA1-_M3TySF16g1-b0KbzkdCdPP&p=1&fvj=0&vjs=3',\n",
       " '/pagead/clk?mo=r&ad=-6NYlbfkN0Bj-xBWVmzs7UIwFa-9Zm6MwNuQFkwLehssDYDaWnvIcUfx181RfopWPI4JxJUJrzDqdBYNA1FCXQDbCT1Vo7aYcdl1aPYwmEvxTcVzkbLKz5lAn2MCqJtTMj0kqyrsZ_eP_9vgwsACFQz0gLNomFEKZBP_2IuP9lSqIm0qLvdrmr8yl5DWQXGCBFUlzlysb35A96RrxRybPyCBkyDt1VQWm5eD3pOqhnN2VKrAvpDjzAR_DZKCnBP-YtMQ9Ay0osvKSUz8VLO5IiSZYyPFQv57JO5dwU5ktKLgYibnSBU3tT93u1uorBSEtBS_K2KCfOyXPFEwhrSVQTxbN7sewvPWZFbNmI0CXp41xR-r-6rKqMkcFVF2orU8Sh5gGLRwBTsJGDufD43HBWkWH26QfL5LGYWPON8X8NkBqsi5S8sXDOomysG7AD8Y21J0HPb3B0fR3CWUcMS1xR5Cui4Pzpv3QFAtFDEt6xLhSiYSNwhzGhxU2RjgmWuGo2zDfmtXpK-A_hoT8J-IvbSlKlfjN0w7bzm3SWl7xLaSBV3RJoAfpydbqhegQ9lrqLdR6Z8xGxsPOpAc1MC8ZRY9FvHi-mPec_73eVaUopqfrBto2OSmOnbLxQ9Gh18xiH6hDprnpscPNPEzxO5Sd6B4np77jUz-K2sRqxXO2fp3pdhUitZaLDmmXl6Xzox8Bjm9K4MtbYqBs2rGKdrPeWv9sj1dKwaa95S87hRQzRJDhuhDY0JaFhix8MqUwDhnWZU2OYl6oTv7NUKGcC0eCw==&xkcb=SoDH-_M3TySF1lA1-b0LbzkdCdPP&p=2&fvj=0&vjs=3',\n",
       " '/pagead/clk?mo=r&ad=-6NYlbfkN0DDngqMaf0VkHGuTUEdQzD8rifzbXva63y-SEiSuTkhE3dEFs_S1W9noipRsuVZxhAdlH1dFP39Kc7ZzDfve-24yfGQ9CeSJX61EcQs7v_L6tS4z5-a62biqT1xoV-CLWY087WKZV7w7MfZPOcY3TZV9A2G-rsspkzcHuVovGkzTapqhxqI-snX1LMy5FR9CkRPcFsIN6C_yHjGNgplUzQj80cmc7YtS_oAdNRwIeMOu6PAYcZ_Z5GAThjIkC5bGj-DzzbISZDui4IHluBnQwZRFF-41Gb8SV-AthZXe6XHduUpwlbfTANoFMHx-7jq-ToQFimgo9w9-gFvRLntQutmibNqBg6fQCZ6k7bOm0YXi5Lys6giBz7hkyo2boPInY80P8Og7S1gr3gOJ5KVdarLSEewpkBKpIzyT-RtMEC91tR0-fT-aq9w9s_pbzI1ok_vlOsT-sC_AYLNzrcUAeseurxcYtpcoNccWhtUHCkqmwWr51Y0odW7kd9OkWPrgwS8lDNvq-MYS1BqvrxLmUYPK9PPWIoopiERprv1nIVDr-sTzFZAsUev7wf128Gz1ssjJGLvcwTjek_Vbszk8CtZFkjknH5umFbXdyMWFEV818k5-GIZh6h0z1rozoMPl_zX8aFkKIbhjw8uUeWWDpjV8k2EeVxp0Gy9o9__0LiccJ6eN02pEfRClr99QfuA6GpPtygbs9_aNniwEsyoTSLFN7GG7urR3JO6zDLyAzMjnLn1ygIpFEgMjGyRCZPl9s68e7XC9e_wQlVtU_LVmc3UNJgyRfOvpm2aJ1l-iLct5azKoyTBwOMJI6YWo_gCZ96hixJIBLSJyzwcCgyOUaWfAROwC5OeOY0=&xkcb=SoBz-_M3TySF1lA1-b0KbzkdCdPP&p=3&fvj=0&vjs=3',\n",
       " '/pagead/clk?mo=r&ad=-6NYlbfkN0Bj-xBWVmzs7UIwFa-9Zm6MwNuQFkwLehssDYDaWnvIcUfx181RfopWw1zmy3PN3-uUCdrcPKf6z1WinucjtECld9e6N1PGe0_D9WJldZvxZxMaVp4guveOryKLjcH15HYMgqe898OsCe1vTR-iwkQ8-MFDhm_lgGMl4Q-gJp5yWFPwHpw2LzE2LIhVWUminAPoy7kyFQgZsIdhkPehMWBQsIpYvEqE13yWiZ8H7wR0ffmbD8ry2SVyoZps0ImC02UbIXrcvBJQmt9wRsBb5VRyU8W8OqBkdjHX-5E1joh-1ub2hcsweNi7MbP57ya0FO4OYP9qpoxer4J517w5PQV_8ntW0N78Sxzu5yc5SoQA1dTyC5YKbbtbhn9oF4KioVFuTbFICJkj7g0vyG7KBt9hbQNrRB4fhNw2u1iJ7DjGvoKqU8Ss2ANx9zHJa8_DoJp_PgUKxGn2ZO_GFwItczCIriewqSBkVo83bulxjoZSDJmMpeqK0bupWND7FuKLg0TXRc3VCrPLolLNfuSZd2h9ja5ELB0BijYS3uSWx_GUEV8il4CBcmgA4UjLDqwMnF6NJ1MaOSqDkJcCgBNpH9opPdLMPjmm3CAU3cDjXuwtdIn8mLpfEUAlnynhF7PIDFdLHQ-RZXREpXJsFbjTJfonB1v6Ryw6SITR-9LhhdzvU37_hAQTX825ugpIDg-TlND55jyg0qkv50JgBbr1sL7fOBytYXqcig5GfgBVX6VnmDSrr15mWwMl2c93-Pl08UQRLh3uyJcI1CKNBUiuixij&xkcb=SoDu-_M3TySF1lA1-b0JbzkdCdPP&p=4&fvj=0&vjs=3',\n",
       " '/pagead/clk?mo=r&ad=-6NYlbfkN0B--xwTx5z5GtX4kwB4PKln9ei78TGhUZ0jXbBonS0qzEhzYeEaBt0GkTPTcdrr5MkViylg6_B2AnwbMjcXTKQgTonlhA23UNbk9tEy_G_Yw9uj30gGgu9AhnicsJOjQvZIcQJ2xrf_20ssMh6oJAvmt0D-qhjAUTBhhIGDPOpaO22ZFqAjT4RfibyfBxZZxvIbDNy575RmbQiY31xygFjeEeNFHTrKQ5QU5DoXiyLBYsd56S5AY3e_IVAyzAOFwcg4Gvhk7BZRx8nvvG7-7Dkqof2cvAwMvUnomh7xEp8VNEo2Z_Yh8iOAyixuEEdcbFJOALHcnUt3PX_onm9UE1Fr8e5oSI8tnzb51QCMqXU-cHKJ4Ockm592jBjFKx3drtNzfhr-TCpbwcQhwBUH-UESx0xWsu2qwRcSuvB-t9xMj7dqXurEPDAItTrol6NNfpd45fzkTiC27ipy80kP_pCCC_pvSpf8P9g7EJXewn7PeaUr_kzZ9I6_F9qgOOvjvmLiUhAMf55ZKyJwNNJd_H2YSK4VBj5wkmIWHzQTJ6nVfw==&xkcb=SoBa-_M3TySF1lA1-b0IbzkdCdPP&p=5&fvj=0&vjs=3',\n",
       " '/pagead/clk?mo=r&ad=-6NYlbfkN0DDngqMaf0VkHGuTUEdQzD8rifzbXva63y-SEiSuTkhE3dEFs_S1W9noipRsuVZxhBQ0z3GNfDlsuewHVIIzuD2Uy8iIutcYkEO83utP9LdyaJ-741KzDz3CWT11crgGNEx5ARiA_LGUv8JWN6JjmlkG-KT6luyul5Xf47wdZQQ9JmUKzM8bhZLoYgPIVEZeP2GsKIMqkVjyc8HBWUy-FWDBJDKuPRzf7xpnPBDhfLAz_C-MecYGoDzsz6eH21rR4vvZR6e7bMqH_XzQ-dkqlpouEsaatjElqNOEvjDt3lgQKHeu68F1yw4UR6Db1P7rTMl_HGq27u-KIiHnZ-V15pHYV_Fy7OaYihGKWeviTcKZcm3Pyh0z4DEA7rvHhNIRaNf4UL5aeYpbhfpi9YeSNrfN75D_AX25r_VA3cqqBZidVe-NZxpi5FUNZ1VSu8aWked1aBKEE1r_RS5laZfU1iyfLLvq53YpZG4bjlgO_amBoxIqzK0hv7Bm_8O0CJ92ihRSVF7rC0f7VjBJhdzIWqjD2NYcWpg5wUuowqeYpoQjdI46_WUcxehVhV0rlAFWqQsH_O5gTUSQKqXHDYlgXhq4UAmv-dyyiofJgglOhkTiVicOI4MGsQilf8ieJVBZjdDjQAeM3AhorfAXLYJHnwPR8R2zVvQzmAvbDrRmy0UVmsS4G7FblryPSIkroEdnf9zyk_3jE6iBiMzvQbmDX2Ulzq7PsA9sqAbAIko8vH2MxiFDJo5ZwTJNTCaXkoWRq8mOLfRry9tcMtejyhVM3quQFoPe6R7wQee4rmNQTmXk6ijPlhQnSV8-UfBylzJn2TjMsb_spSM2fWD_KT3TjZoheH9OIUOW3S8Ap-bwrb9gkkJnFDFi6NBHggFOsoxnko=&xkcb=SoDU-_M3TySF1lA1-b0PbzkdCdPP&p=6&fvj=0&vjs=3',\n",
       " '/pagead/clk?mo=r&ad=-6NYlbfkN0DDngqMaf0VkHGuTUEdQzD8rifzbXva63y-SEiSuTkhE3dEFs_S1W9noipRsuVZxhAYRIW58N0F2jbDB3vPxefHX5wIlQ-SZ7ngcBY28Wqh1-t23U-CWzy5-l_G9Damm2uwdepIxjseQaR2rv-hv0pn7xwIvO99CmeNH7VFONfo-aB1MVUjn_gZ1_S4H1fqf5m9VQgO47Ve_8BooVuORUSdFT-Uy1anChsGnijKwl1pW6XerVuxDnqGCV1X315nhG48L3H6MH07eGSPUFzzwfI2JnvjLDx6lJDekBTQAt8X9YDkqsjnce0-5-Xvlv0f6z83kQNymqz7H8kYCTTuQbWuCiamDqkZouN7U9W6pKJgbk4-fIAjBgZjcuN-p08wkExFfH2e6yp1dFdoAZGVfwINAdooXbMzJFLgNF3yzvNa8UX-PNqxDofD6puRtlzFPw9TbwGpBYFBWS67HfKu6_Cr5hCnArxnRgmTvs6fGZuj7P9KsiKuTFk7OXQmyGVZhFA7yyyNZWa3TJH_961bAJh6kaW-06hgMSRpdeGwh6cghzdjEDWJlFr8wwOSHRoBOg8lCatuvYWekWbu8YL2umCFlq3qTKwSZF7mYU0NrbzGnmp2KiUSCgQmjs_OG6gmwPvUKv_nDjrOxYXlh_ShFQbCPMep9u4-l9tEnS5tgAx8F1mKiIlrCVIZgVCnYTQJ6K4-dypZoM4Sado5fdh1a8nSZqEiVC9HfICEzeZP-LxaYDPcPFMc5v4Oc1l-lc0kcv2eObHv7JdJOHlIIRNG3N7gw7E6rdtAriPzE7sc6kULucFmAYYz6QcXN9e0PmP0p0ldb5Ppq4TEV5s3FlItehi1DlWbChGBt-F_CqnDfof39w==&xkcb=SoCC-_M3TySF1lg1-b0LbzkdCdPP&p=7&fvj=0&vjs=3',\n",
       " '/pagead/clk?mo=r&ad=-6NYlbfkN0DDngqMaf0VkHGuTUEdQzD8rifzbXva63y-SEiSuTkhE3dEFs_S1W9noipRsuVZxhAYRIW58N0F2iVRU1SuGR9gftx_6xt7oep5lUsRsSPDHDTnvGcTYbnA12u0BdftClYsMLDIYVecQYTpW7hY-Ze5QD-zw3nJLvr1n_ZBG62xeBiskRkuZo-bpMZkjKG8RQmazaHugE_bZ-84LUSB2NvCFygb6rSBBk7DiEQg2WcvDMO0hyBAwB5OOyR7BzR41x51_KR4V9DvlkngXxLRtuVV-xyeWyB-HEhURVoTtNbLMt0anOEbJHB59GDhzrDDx6UKTg1fpSgslFzIWO2CM36xsMwZxFSExzoL_AUtsoPDzBnjfkuPLhd2XZy6SK9bq9gX-1_iT7iHbwLD4M43mCpjegNH_-yi9DPpt-H1VfGeBcJfZ890Qu8kkGaMieA8WU1YvHXe_80nmJVDexMDa3Yl8XcBgX4BwApuAYFatzfkdPFOK5JTazUYXlCHYwerOlaFpEJwzApPW5EiwrbOS9R4_GEmzohQ84nB41TOCd4Vq_k8h1jpqfyVb9MNNmyjWfRuUdG_RYc3xCGMjFqRQTpA2mLaspimnhw4vHvLfLcYTggG8pd6F49h_osVgy4xHDQ528naZoRWWfTu8e8L97F48Myiz-JgNuf6ewLzSFYcJnezjHib2uOZHThdZWMHOHob_DmPluTTJzyI46jtdrcBdkbV1cxHbbelpRpGw8TJf__fVKz4utzIv2Z9qDIzIwAfgqgefAHguTfci5tgKo3_IiJYT2VCwRfmy6sYMLjFPMo7HYwAi6vGpE1Bmf9aU3ubRJNw_Q1RevgmEqMKNSVQxl0GUwEi5wQMnhaeLvd4_Um-RZqpeLW4&xkcb=SoA2-_M3TySF1lg1-b0KbzkdCdPP&p=8&fvj=0&vjs=3',\n",
       " '/pagead/clk?mo=r&ad=-6NYlbfkN0DDngqMaf0VkHGuTUEdQzD8rifzbXva63y-SEiSuTkhE3dEFs_S1W9noipRsuVZxhCBBIyHb11mTSxh1EmYe5BnFsfB3C4pO1rAr952j6WDx1PKyCKdXlGtuBj6hLWsGZwudzHzQ4llTYj6G4O93vVIitTDskI2zdPn_ewCDOSlccu3v0I2dPlYyLnKGXlKwPGnqYIrtXnDk49DORw2Y1UE9nF6eKIxf34l-MA3Wf-kpRu3fgUFo11XvC3gGxcf65dyfPXnep7OCWn07nn_OMRy_8946h0fiMwgJq7tJwQAzM5oq_LlMj3h3cB123qtYOcvcxnxDsBrAKW3DWLW_1VG8yDUlAgPtFXWTpX_RKo8w3LKVrDwl8QbLmqYkev4HGI3x14aQ5jSl8zJGNlXIWpZwnzuy5RNxsU9SnofzgtSjUuo1Jggs-WVet2SN2DM1q19IZ5NxotXI0CsG1iZcuaW51CMC4WCm_Q4pXMOaYVhVkPQcL44Hp3D7heZyi8MYHnSLQ0JkMJZm4UjXUg4zAFN-A4SoJpD5AQPqpk0FyNBEwWPLaqdqxgHbsoX7y3v7YCYD_8bsY9iGTqO2rXRccXk2VoFW2OjhDqNEn9r5WyzcO_ZhleMvQGZgB1lTeBqt6vYoe3VGT8QRpJPXY6N0k3ED4c4qngj_1cG1zgV-8L5dhpluY2cx447z05_CTvVXlz1NKSIVTc27jRleOy5FVun07-IM8yKLMvzdgXa3Y86jLX8eQ2KZ73MG70g9MPuciTVWcpbyuX9kyh2xPJKjS3SDm2w2m-iDOBM4tDxAWAUUoIY8KmdRivacyM5HWxlTPWe08wy8sUnV2sUvByyUG4T9PZ3KEZnUIQ=&xkcb=SoCr-_M3TySF1lg1-b0JbzkdCdPP&p=9&fvj=0&vjs=3',\n",
       " '/pagead/clk?mo=r&ad=-6NYlbfkN0DDngqMaf0VkHGuTUEdQzD8rifzbXva63y-SEiSuTkhE3dEFs_S1W9noipRsuVZxhDEa4J5A4vjxk1I2Y9uvoeZx78XwgywFnFvshkRqdOv7LLRDHJzWi6govJScj4NIngJu7wj1ZS5Cnh_c1LAiatr8qMezYUMKGSnOVIXZuYg0Mi8sJfYHuWHp07ILqeV0y_IlwIoYsb-zRSoiR0TFr-LZjB1deMKpKdnBSo6Hgslzp9j6Ef28bU_fZIq2UcrL4XRizTnKCO5jqPJ5uBVWT_UJCDyoNySXi6vWMXGfwsUg61f1tK47LYZH0KtXQxo1xfKUZHhEoT50QecbX86oOOP43WQBfIqDlxw9FCRQ8Ddxr61D64ur3uWE4c9YW8IRBuaP3_AevaibmeTATLiIAztLKNK_d-umGO7e_VUGn05vOApJu6qgxg-TkPWiie3sO9pd4uoqonl1w3QJ0X962TH5j95EH8dC52JR-qwYL2YXsP31i0H-ZbXQeAbpbidMYlXQu2G-zGODAFCKQyWSH1PJOoroAGg9zcGS6aKGCSmRdZ7wjuiedtwczXApsJDZck-MkNERQse5aSa1mJ6h6UEHSAsn2OEi8U9kHiWr-K2CtD-SsgMca2aD0yyXIlmrg-Ie8VLs0PQr1pklAFX59OQqdStSH7Q7ybYBtVzUjKn3aO1eGG-R0DjXJaTtc-tRGzrFBJKLsx4_W5ycXrII67BTrGQKFYqpRfXskZ90_ONIb5YGD6mYUHcQ-vp9FvhmuFaQoex8TV2QuYcit2Rwe5Z1vdj5_Q87mH2oil9lgbTNyleHo81AoHYVr-Zk7GcVkw_dOGT5CSqYjP479lbgX1hB0hf-zObJsQcUDNl-jxw-A==&xkcb=SoAf-_M3TySF1lg1-b0IbzkdCdPP&p=10&fvj=0&vjs=3',\n",
       " '/pagead/clk?mo=r&ad=-6NYlbfkN0DDngqMaf0VkHGuTUEdQzD8rifzbXva63y-SEiSuTkhE3dEFs_S1W9noipRsuVZxhCq_RfK3UZenOm0cvLFA49oGiIUmFUrXpa8VvbFv-g1aLKz0blgYf6MWoaXAKVPq8ailG-nwkE3Y5IhMiiO_n5XRL4LQ0U-qXjv_6D4JkutvBjqhSbz9PXfNVmCVk8Eb1HGqFysTCwKzwEUxIR0gf-UwbNdrGw42LjgWam6SwaKLdYp-cAEEnigMJ5Pgbmk1H2xQIhQWac8oPVcQRqdxxDQi_Q2YYHSfa0F8U6DjC2prpFPORtVXqrUFnDy4ugW7fpCnEgiC_AUnwQ4208ItxGtDTKagP5f0_Tj69gjLFTWNToghdn1woHWYmXZUivfr2qzYee5UUS-HKc31uH6eCmraA_wWJMM6DDTK41gLCA5Uy7xvyqElBe_p2ZapBfdxJwDA1NfXfHbc6LW8yXGG-GmxMHjMrv4uRvo06WvDyLf7ke1rayz8MZCbh-r1AJxRnIRTAbzv7I-FPyTbG1yYeq1lnheaOup2DvskY3gy5Fxy59NE9k2xItIPTro5sKg12P_6XcardXhAqW5J_NIKZxPZza4ZKkYYEin2rivWK5hEfiD4HG5JkIyBe1wRtASKkljxI_78xIJOvTiPBxIHGMAxerAuR8mTLZiUyLrmDKDzeluay_n7qNXy9OKGr7VtYC6zfuSqwK2P-jSnM1IiyASCy62StiUiN4eLgTZED_bVxeDGDFthui9oP3cMnh6MJ0n61sQGHfxMHZa6fgGmenQj2P515SDZsosbTBwSYr9ZPUYqaf0Igf6HTa6k2ErqonFdnBI-Y9qXWFGILDuEfQTdV_1T54wLS3y5wqJy12Hpg==&xkcb=SoCR-_M3TySF1lg1-b0PbzkdCdPP&p=11&fvj=0&vjs=3',\n",
       " '/pagead/clk?mo=r&ad=-6NYlbfkN0DDngqMaf0VkHGuTUEdQzD8rifzbXva63y-SEiSuTkhE3dEFs_S1W9noipRsuVZxhAYRIW58N0F2oHBOez1tTCEGGbwETkNVM5W554QiJU-f4VLrJHFMoz8eq2Nk1Mgep4x9m-6Z-Vh3NsuV2VMGQwteBaWEP4iGnZhxPWK_QGA4ZkvoFqArLMbJw2N6TkiadF5xWCg3cTNtI4U_rhJnxdJC0-V5aneL195LtjkKGHRPg_gYs9mbiwE8FpCg5g5oZx_yBJy1uSwFTqoEoGJWVpFeXRWwYqII4wVjDF2ESGlBRBd9G4PCnMUdN8zl_Bp2y04J_s2CjMriQgt92a8hYmT7xaaDUh_7sGlITxWOoM7N7cKNCvJOhUk0tyGQX121Dv9TNKH1lKAZk9dKPamCuTDpnKEKOPvGgy1n6qVA1d_roElyxt1N6-bHPOm7rFlpQ9qUkgY1jAryIICex5nGTQdmaYhRD-e6IUs2FhPjuIGaO5G-ZTYhtg5GAvoTIkjCfjeSo8HoqB4t9ErrhiWD8_LyUZ_OliVlgH41eg7wI-YBFNciB1PPG_8foufEqHN7OnIqVps5hMjFenoTCmC7MX2iBvcaXehLk1cSpmmy6Pf9fS_ueWiBzdiu3cvIBaLYA05VjOmmY8Q5-QcusD6v1F24BRcoq8lUnq5KXKD-onUIVJtHiKttOBiFIOt1VvLpbHRYgzdFIRuYWaD-rwV87fKrMkyzo7fmHpMqrUV96kcnVsiWJmwmj_6MJk3woGX4x1sNVdH7pt7NTRKH-xc6ESGd5CQ37t1Qi3kmD1WyZlbz5Oubv4iCjdMWfXgPHd98J7Gctqshvd1HJZBz1X_T25XEoTt83IWYB2GIdLfq8MBOA==&xkcb=SoAl-_M3TySF1lg1-b0ObzkdCdPP&p=12&fvj=0&vjs=3',\n",
       " '/pagead/clk?mo=r&ad=-6NYlbfkN0DDngqMaf0VkHGuTUEdQzD8rifzbXva63y-SEiSuTkhE3dEFs_S1W9noipRsuVZxhBsXLzLrYAIcXEKACj04Bw9ecwX7Jo12quW-NT3NWK57Iy0PBX-JtXHZlLwTme9pkZTqef-TV8n6Wdtz9qXRKnSsRyIOnZRIT77qTsdk73dPqpNVRn7o3FVKQBZ8m1vhu3lmFLb36789kljfS3D3ZqVGOl5HR51Fi5ivzymQh7YYS8Rg4FMHGDBn-XbHrJ2f265C4qIJMWgxiQuKPkipCWTW7xuhzYOZ0yO_WUVBVhzJ0m5x2qkmyc6QzKoLjeaHxIT4Eerd2kpb41NS9VFdVzimTuJrAMmwXzpY--cMk5GAo4Ftz8T6WH5yP6SMyLoUKGeuPZ_1H_3Kb0sqpVi7lcmWdGajGMo0mAoWlAw5uW8xJbFdwzgY1Z12Eac2wv35IKxvntVCWsmaJGXq3nRZIMDXDn-ump5jJiel-oHDs-LfLO_yxYdaiDZN4A5UirSwOBsFi_K9BIVFvTgYJYX1Z99PR50sa0EiBQGwm3ynlVh0hSzPZY7e7yO6n62T4IwXoYrHgfjruHQz7CRmkqrMQI4LJeiv55evjf8eXb4W54ZlbqbHUN3UP2AerwtAT4CkoBMmcSok1ZrIReuEitENDRY28SHpGmOAZ7aLuKvhJ6vwrG_vwPVS4t7dFdP_ZbWp7Ag62vyn2HeznO2nui3rH-6Ilk5tLMxetpKzhPUS7IMe4NRVVhANYDkYy7WTrLRhQZtc97_uOL5unblrmX0Iythd9ZmdGHVRRSIy_4cjYGh0HBILeJrJukQ1rfa92BYOJ4yMQwI5eCdUlU1dIR1_7D6r7djtIirLLzPyiPHxsAN0A==&xkcb=SoC4-_M3TySF1lg1-b0NbzkdCdPP&p=13&fvj=0&vjs=3',\n",
       " '/pagead/clk?mo=r&ad=-6NYlbfkN0DDngqMaf0VkHGuTUEdQzD8rifzbXva63y-SEiSuTkhE3dEFs_S1W9noipRsuVZxhBQVdlghsvb2WCi1ic6_x6HWC-ejyX7zgxN5_vDbmMQiHwnzTVxy9F_qQ0_IVZWK0F2zHWYFGqudI5HWVYCZaRkvHVtmdwp4ttinnPcnrw4pq1BnAWPIloM8v8J69kpfjYMeQaZrDSMMmRgD1FzXPY5aU8pAPdRCzc5v7xIHHI0KDfHsHL3lIma2vTu7XBQ0aTJ0XIbakuYHZDNIkw0acQXyoVzKt2dDG7GTIIzb0b9cQBbQCqeXUYpegquyBK8UEVUv-denuEpq6fogWmrJxiRe33gF_w4QdRBXS6TctcF7VzV2N5toDtPRZDctZ5-XbNLpsYFm6jJ7dTHDBWk4lMqMTrElYb5ekZ_6oCY623Hx_YTfRbepr5SG3z8kTndwk5gj7TgasS57K4qYm198UwOj3xbu3FJbD3mXZh_SIWE1Hd3h7aWnpe5ThbE3AMaWW_OIDC756Igq3BVJIoc6URqEQR0TxOs6U3ma65XLgKI0VL6s2kUOMUQWwtd1jW5Is8oXrqu0edL5s26gHKhdYTyY4aSwx7c4ZfEhwE5C9DuaLScd3aAVzDlHZxiR8JASICFv_GSAlKeqAS21e08oH9-1pYgwNnJnb-uarf3r0XeaKfP1er9ZciDfXQ06BUjx7FxH_wAwQIhSw0U7aLawkmFcwtn5Dltcozaz3CrsdiFLGKkh7FZ46eWiwY4BIvhgNG2yD5wrbZkf9fLopmA2V9iomIAhxziEgoD4nRvKITz_UggtDyxDTUzw5Hji_0rFe7Fh7fpYDSxOHIWn9DV03dVo-p6-j7al00=&xkcb=SoAM-_M3TySF1lg1-b0MbzkdCdPP&p=14&fvj=0&vjs=3']"
      ]
     },
     "execution_count": 18,
     "metadata": {},
     "output_type": "execute_result"
    }
   ],
   "source": [
    "job_urls = [a['href'] for a in soup.find_all(\n",
    "    'a', {\"class\": lambda x: x and 'JobTitle' in x})]\n",
    "\n",
    "job_urls"
   ]
  },
  {
   "cell_type": "code",
   "execution_count": 21,
   "metadata": {},
   "outputs": [
    {
     "data": {
      "text/plain": [
       "'https://{country_code}.indeed.com/pagead/clk?mo=r&ad=-6NYlbfkN0Adkj6z9PX5rd-1m12nzK_B6D4VjQGLpPuzUSV8YUmxKtSp99Izr6E6NRb6n83TkDWgsiviX3uwrKqLQLGtNeojmxzN3y1cU3YbXQpgu3YdwKKiwDYeSvgQL2LympsADIkYKDUS5FnPjs6L-OvOim4UwthVBsu4Pk2MKuoTixGZEpR4YRackVSfbVanytxq66gy1Qac95_jtacoRuSqpPPB4eDq6ajPmMwNR0qmCTw1t9so2zT9IWCsTHogkbIHDv5LQ-bt2wLloBqNXKNxxBr5tK_IJfRWOvAc-2ao3u5TM721qraVKnZdq_r6v41S56H47EgadRGAnTCXD3UcOG13rWJiHawnyzSVJayWTfRyWbvl6t8EJApySU0czVq_pDKZnVyfMhaGMab9umNi1S37_O0DuMw2EFEn9ooUfN6v4O0oRB5bFYy0I-fWsGCX7pulsiz7_ujfKchiqe9ODs6qO-EuO1h66nQDxRRpgwHaOK58xR7v-RYSpRA9Ye32LnV91x0BZ2QNoKvpIhwtptc4snwas2ee0CSesVmJ3QVBUhzH344jAXZ3NEcoxcdCF-LDeprnghri4fvkYjzOPE7bh2EKL9pOlYjs9QSvKTKgGQkksIWwd2yFr4A76R9OJXc=&xkcb=SoCB-_M3TySF16g1-b0LbzkdCdPP&p=0&fvj=0&vjs=3'"
      ]
     },
     "execution_count": 21,
     "metadata": {},
     "output_type": "execute_result"
    }
   ],
   "source": [
    "job_url"
   ]
  },
  {
   "cell_type": "code",
   "execution_count": 23,
   "metadata": {},
   "outputs": [
    {
     "data": {
      "text/plain": [
       "('Software Engineer (Artificial Intelligence Platforms)',\n",
       " 'GVT Government Technology Agency (GovTech)15 reviewsSingaporeRemote',\n",
       " 'Remote',\n",
       " '',\n",
       " '',\n",
       " 'The Government Technology Agency (GovTech) aims to transform the delivery of Government digital services by taking an \"outside-in\" view, putting citizens and businesses at the heart of everything we do. We also develop the Smart Nation infrastructure and applications, and facilitate collaboration with citizens and businesses to co-develop technologies.   Join us as we support Singapore’s vision of building a Smart Nation - a nation of possibilities empowered through info-communications technology and related engineering.  Who we are  GovTech\\'s Data Science and Artificial Intelligence (DSAI) division uses technology and data to help deliver high-quality digital services to citizens and businesses in Singapore. We build software products for government agencies to better understand and use their data to improve operations and decision making. What you will be working on:  As a software engineer, you will: Build prototypes to demonstrate technology opportunities Design system architectures Write production quality code, and Manage deployments to cloud and (occasionally) on-premise infrastructure Learn and share knowledge in a multi-disciplinary team. Additionally, more senior engineers will be expected to: Establish best practices Share your expertise and mentor other engineers Help with recruiting. You are not just here to write code, but also to figure out what we should be building and how we should build it. Your job will be to bring expertise and capability to the public sector. Sometimes this means coding new systems from scratch. Other times this means using the best solutions the community has to offer. We use cloud services, open source software, and commodity hardware as far as possible. Knowing what to build and what to reuse lets us avoid wasting time on solved problems and focus on delivering actual value. What it is like working here  We build products that serve a variety of agency users, who use them to solve highly meaningful problems pertinent to our society, from transportation, to education, to healthcare. The public sector is full of opportunities where even the simplest software can have a big impact on people’s lives. We are here to improve how we live as a society through what we can offer as a government. Rapid Prototyping - Instead of spending too much time debating ideas we prefer testing them. This identifies potential problems quickly, and more importantly, conveys what is possible to others easily. Reliable Productization - To scale an idea, a prototype or a Minimum Viable Product to a software product, we scrutinize and commit to its usability, reliability, scalability and maintainability. Ownership - In addition to technical responsibilities, this means having ideas on how things should be done and taking responsibility for seeing them through. Building something that you believe in is the best way to build something good. Continuous Learning - Working on new ideas often means not fully understanding what you are working on. Taking time to learn new architectures, frameworks, technologies, and even languages is not just encouraged but essential. What we are looking for:  We work mostly in Python, JavaScript and Scala. We are looking for proficiency in at least one language and the ability to learn. Strong passion in software engineering is what matters to us. We look for people who: Have a demonstrated ability to build software Can write code to solve abstract problems Can think critically on how to get the code correct and cover the edge cases Can talk and reason about code with other engineers Have a demonstrated ability in writing efficient code Adequate exposure to cloud or on-prem production environment, and experience in deployment would be an advantage Understanding of devops, CI/CD would be an advantage Have an interest in data science and machine learning Take the initiative to make things happen Want to work for the public good We are an equal opportunity employer and value diversity at our company as we believe that diversity is meaningful to innovation. Our employee benefits are based on a total rewards approach, offering a holistic and market-competitive suite of perks. This includes generous leave benefits to meet your work-life needs. We trust that you will get the job done wherever you are, and whatever works best for you – so work from home or take a break to exercise if you need to*. We also believe it’s important for you to keep honing your craft in the constantly-evolving tech landscape, so we provide and support a plethora of in-house and external learning and development opportunities all year round. Subject to the nature of your job role that might require you to be onsite during fixed hours  Who we are  GovTech\\'s Data Science and Artificial Intelligence (DSAI) division uses technology and data to help deliver high-quality digital services to citizens and businesses in Singapore. We build software products for government agencies to better understand and use their data to improve operations and decision making.   What you will be working on:  As a software engineer, you will:   Additionally, more senior engineers will be expected to:   You are not just here to write code, but also to figure out what we should be building and how we should build it.   Your job will be to bring expertise and capability to the public sector. Sometimes this means coding new systems from scratch. Other times this means using the best solutions the community has to offer. We use cloud services, open source software, and commodity hardware as far as possible. Knowing what to build and what to reuse lets us avoid wasting time on solved problems and focus on delivering actual value.   What it is like working here  We build products that serve a variety of agency users, who use them to solve highly meaningful problems pertinent to our society, from transportation, to education, to healthcare. The public sector is full of opportunities where even the simplest software can have a big impact on people’s lives. We are here to improve how we live as a society through what we can offer as a government.   What we are looking for:  We work mostly in Python, JavaScript and Scala. We are looking for proficiency in at least one language and the ability to learn. Strong passion in software engineering is what matters to us.  We look for people who:   We are an equal opportunity employer and value diversity at our company as we believe that diversity is meaningful to innovation. Our employee benefits are based on a total rewards approach, offering a holistic and market-competitive suite of perks. This includes generous leave benefits to meet your work-life needs. We trust that you will get the job done wherever you are, and whatever works best for you – so work from home or take a break to exercise if you need to*. We also believe it’s important for you to keep honing your craft in the constantly-evolving tech landscape, so we provide and support a plethora of in-house and external learning and development opportunities all year round.   ')"
      ]
     },
     "execution_count": 23,
     "metadata": {},
     "output_type": "execute_result"
    }
   ],
   "source": [
    "job_url = f'https://{country_code}.indeed.com'+job_urls[1]\n",
    "driver = webdriver.Chrome()\n",
    "driver.get(job_url)\n",
    "html = driver.page_source\n",
    "soup = BeautifulSoup(html, \"html.parser\")\n",
    "\n",
    "title = soup.find('h1').text\n",
    "job_info_main = soup.find(\n",
    "    'div', {\"class\": lambda x: x and x.startswith('jobsearch')})\n",
    "job_info = job_info_main.find(\n",
    "    'div', {\"class\": lambda x: x and x.startswith(\n",
    "        'jobsearch-CompanyInfoWithoutHeaderImage')}\n",
    ")\n",
    "company = job_info.find(\n",
    "    'div', {'class': lambda x: x and x.startswith('icl-u')}).text\n",
    "job = job_info.find_all(\n",
    "    'div', {'class': None})\n",
    "location = [i.text for i in job][-1]\n",
    "try:\n",
    "    salary_emp, salary_est = [li.text for li in job_info_main.find(\n",
    "        'ul', {'class': lambda x: x and x.startswith('css-1lyr5hv')}).find_all('li')]\n",
    "except AttributeError:\n",
    "    salary_emp, salary_est = '', ''\n",
    "\n",
    "job_description = job_info_main.find('div', {'id': 'jobDescriptionText'})\n",
    "description = [d.text.lstrip().replace('\\n',\"\").replace('\\t',\"\")\n",
    "                for d in job_description.find_all(['p', 'div'])]\n",
    "description = ' '.join(description)\n",
    "\n",
    "(title, company, location, salary_emp,\n",
    "        salary_est, description)"
   ]
  },
  {
   "cell_type": "code",
   "execution_count": 2,
   "metadata": {},
   "outputs": [],
   "source": [
    "job_title = 'Data Scientist'\n",
    "country='Singapore'\n",
    "num_pages = 3"
   ]
  },
  {
   "cell_type": "code",
   "execution_count": 3,
   "metadata": {},
   "outputs": [
    {
     "name": "stderr",
     "output_type": "stream",
     "text": [
      "0it [00:00, ?it/s]\n",
      "100%|██████████| 4/4 [01:11<00:00, 17.78s/it]\n",
      "100%|██████████| 8/8 [02:20<00:00, 17.62s/it]"
     ]
    },
    {
     "name": "stdout",
     "output_type": "stream",
     "text": [
      "                                                title  \\\n",
      "0                               Data Scientist (APAC)   \n",
      "1                                      Data Scientist   \n",
      "2                               Data Scientist, xData   \n",
      "3         Artificial Intelligence (AI) Data Scientist   \n",
      "4                                      Data Scientist   \n",
      "5           Intern | Machine Learning (Generative AI)   \n",
      "6                                      Data Scientist   \n",
      "7                         Internship - Data Scientist   \n",
      "8                                 Data Science Intern   \n",
      "9                                      Data Scientist   \n",
      "10                                     Data Scientist   \n",
      "11  DATA SCIENTIST / DATA ANALYTICS ENGINEER (PRED...   \n",
      "\n",
      "                                              company          location  \\\n",
      "0                              Beyond LimitsSingapore         Singapore   \n",
      "1                          BeLive TechnologySingapore         Singapore   \n",
      "2   Home Team Science and Technology Agency (HTX)S...         Singapore   \n",
      "3      Magicsoft Asia Systems Pte LtdSingapore 608526  Singapore 608526   \n",
      "4           Security & Intelligence DivisionSingapore         Singapore   \n",
      "5            Bosch Group6,706 reviewsSingapore 573943  Singapore 573943   \n",
      "6         Philip Securities Pte Ltd.65 reviewsRaffles           Raffles   \n",
      "7                                Cresco DataSingapore         Singapore   \n",
      "8                                   abillionSingapore         Singapore   \n",
      "9                                   abillionSingapore         Singapore   \n",
      "10  Singapore Shell Employees’ Union Co-operative ...         Singapore   \n",
      "11        Land Transport Authority80 reviewsSingapore         Singapore   \n",
      "\n",
      "   salary_est                                        description  \\\n",
      "0              Job Duties/Responsibilities Ingest, organize, ...   \n",
      "1               Full Time Job Engagement Perm Job Type SGD 48...   \n",
      "2              What the role is    undefined   What you will ...   \n",
      "3               Artificial Intelligence Data Scientist EXPECT...   \n",
      "4              What the role is    undefined   What you will ...   \n",
      "5              Company Description  Robert Bosch (South East ...   \n",
      "6              Responsibilities:Understand the business probl...   \n",
      "7              CrescoData is an exciting market leader in the...   \n",
      "8              Data      Internship          Singapore    Des...   \n",
      "9              Data      Permanent          Singapore    Desc...   \n",
      "10             Contract Role for 12 Month Working Location: B...   \n",
      "11             What the role is    undefined   What you will ...   \n",
      "\n",
      "                                                 link  \n",
      "0   https://sg.indeed.com/rc/clk?jk=64faeb21f3d6f2...  \n",
      "1   https://sg.indeed.com/rc/clk?jk=dc7d9442a2b9aa...  \n",
      "2   https://sg.indeed.com/rc/clk?jk=8200c687874d5f...  \n",
      "3   https://sg.indeed.com/rc/clk?jk=36d82696cb6b91...  \n",
      "4   https://sg.indeed.com/rc/clk?jk=5571a870670255...  \n",
      "5   https://sg.indeed.com/rc/clk?jk=74c08c32c53b6d...  \n",
      "6   https://sg.indeed.com/rc/clk?jk=5ea0d3b451a89f...  \n",
      "7   https://sg.indeed.com/rc/clk?jk=fd54bca13cdc62...  \n",
      "8   https://sg.indeed.com/rc/clk?jk=51c128286a4c23...  \n",
      "9   https://sg.indeed.com/rc/clk?jk=38b576f9efa4ca...  \n",
      "10  https://sg.indeed.com/company/Singapore-Shell-...  \n",
      "11  https://sg.indeed.com/rc/clk?jk=6697245aab3639...  \n"
     ]
    },
    {
     "name": "stderr",
     "output_type": "stream",
     "text": [
      "\n"
     ]
    },
    {
     "data": {
      "text/html": [
       "<div>\n",
       "<style scoped>\n",
       "    .dataframe tbody tr th:only-of-type {\n",
       "        vertical-align: middle;\n",
       "    }\n",
       "\n",
       "    .dataframe tbody tr th {\n",
       "        vertical-align: top;\n",
       "    }\n",
       "\n",
       "    .dataframe thead th {\n",
       "        text-align: right;\n",
       "    }\n",
       "</style>\n",
       "<table border=\"1\" class=\"dataframe\">\n",
       "  <thead>\n",
       "    <tr style=\"text-align: right;\">\n",
       "      <th></th>\n",
       "      <th>title</th>\n",
       "      <th>company</th>\n",
       "      <th>location</th>\n",
       "      <th>salary_est</th>\n",
       "      <th>description</th>\n",
       "      <th>link</th>\n",
       "    </tr>\n",
       "  </thead>\n",
       "  <tbody>\n",
       "    <tr>\n",
       "      <th>0</th>\n",
       "      <td>Data Scientist (APAC)</td>\n",
       "      <td>Beyond LimitsSingapore</td>\n",
       "      <td>Singapore</td>\n",
       "      <td></td>\n",
       "      <td>Job Duties/Responsibilities Ingest, organize, ...</td>\n",
       "      <td>https://sg.indeed.com/rc/clk?jk=64faeb21f3d6f2...</td>\n",
       "    </tr>\n",
       "    <tr>\n",
       "      <th>1</th>\n",
       "      <td>Data Scientist</td>\n",
       "      <td>BeLive TechnologySingapore</td>\n",
       "      <td>Singapore</td>\n",
       "      <td></td>\n",
       "      <td>Full Time Job Engagement Perm Job Type SGD 48...</td>\n",
       "      <td>https://sg.indeed.com/rc/clk?jk=dc7d9442a2b9aa...</td>\n",
       "    </tr>\n",
       "    <tr>\n",
       "      <th>2</th>\n",
       "      <td>Data Scientist, xData</td>\n",
       "      <td>Home Team Science and Technology Agency (HTX)S...</td>\n",
       "      <td>Singapore</td>\n",
       "      <td></td>\n",
       "      <td>What the role is    undefined   What you will ...</td>\n",
       "      <td>https://sg.indeed.com/rc/clk?jk=8200c687874d5f...</td>\n",
       "    </tr>\n",
       "    <tr>\n",
       "      <th>3</th>\n",
       "      <td>Artificial Intelligence (AI) Data Scientist</td>\n",
       "      <td>Magicsoft Asia Systems Pte LtdSingapore 608526</td>\n",
       "      <td>Singapore 608526</td>\n",
       "      <td></td>\n",
       "      <td>Artificial Intelligence Data Scientist EXPECT...</td>\n",
       "      <td>https://sg.indeed.com/rc/clk?jk=36d82696cb6b91...</td>\n",
       "    </tr>\n",
       "    <tr>\n",
       "      <th>4</th>\n",
       "      <td>Data Scientist</td>\n",
       "      <td>Security &amp; Intelligence DivisionSingapore</td>\n",
       "      <td>Singapore</td>\n",
       "      <td></td>\n",
       "      <td>What the role is    undefined   What you will ...</td>\n",
       "      <td>https://sg.indeed.com/rc/clk?jk=5571a870670255...</td>\n",
       "    </tr>\n",
       "    <tr>\n",
       "      <th>5</th>\n",
       "      <td>Intern | Machine Learning (Generative AI)</td>\n",
       "      <td>Bosch Group6,706 reviewsSingapore 573943</td>\n",
       "      <td>Singapore 573943</td>\n",
       "      <td></td>\n",
       "      <td>Company Description  Robert Bosch (South East ...</td>\n",
       "      <td>https://sg.indeed.com/rc/clk?jk=74c08c32c53b6d...</td>\n",
       "    </tr>\n",
       "    <tr>\n",
       "      <th>6</th>\n",
       "      <td>Data Scientist</td>\n",
       "      <td>Philip Securities Pte Ltd.65 reviewsRaffles</td>\n",
       "      <td>Raffles</td>\n",
       "      <td></td>\n",
       "      <td>Responsibilities:Understand the business probl...</td>\n",
       "      <td>https://sg.indeed.com/rc/clk?jk=5ea0d3b451a89f...</td>\n",
       "    </tr>\n",
       "    <tr>\n",
       "      <th>7</th>\n",
       "      <td>Internship - Data Scientist</td>\n",
       "      <td>Cresco DataSingapore</td>\n",
       "      <td>Singapore</td>\n",
       "      <td></td>\n",
       "      <td>CrescoData is an exciting market leader in the...</td>\n",
       "      <td>https://sg.indeed.com/rc/clk?jk=fd54bca13cdc62...</td>\n",
       "    </tr>\n",
       "    <tr>\n",
       "      <th>8</th>\n",
       "      <td>Data Science Intern</td>\n",
       "      <td>abillionSingapore</td>\n",
       "      <td>Singapore</td>\n",
       "      <td></td>\n",
       "      <td>Data      Internship          Singapore    Des...</td>\n",
       "      <td>https://sg.indeed.com/rc/clk?jk=51c128286a4c23...</td>\n",
       "    </tr>\n",
       "    <tr>\n",
       "      <th>9</th>\n",
       "      <td>Data Scientist</td>\n",
       "      <td>abillionSingapore</td>\n",
       "      <td>Singapore</td>\n",
       "      <td></td>\n",
       "      <td>Data      Permanent          Singapore    Desc...</td>\n",
       "      <td>https://sg.indeed.com/rc/clk?jk=38b576f9efa4ca...</td>\n",
       "    </tr>\n",
       "    <tr>\n",
       "      <th>10</th>\n",
       "      <td>Data Scientist</td>\n",
       "      <td>Singapore Shell Employees’ Union Co-operative ...</td>\n",
       "      <td>Singapore</td>\n",
       "      <td></td>\n",
       "      <td>Contract Role for 12 Month Working Location: B...</td>\n",
       "      <td>https://sg.indeed.com/company/Singapore-Shell-...</td>\n",
       "    </tr>\n",
       "    <tr>\n",
       "      <th>11</th>\n",
       "      <td>DATA SCIENTIST / DATA ANALYTICS ENGINEER (PRED...</td>\n",
       "      <td>Land Transport Authority80 reviewsSingapore</td>\n",
       "      <td>Singapore</td>\n",
       "      <td></td>\n",
       "      <td>What the role is    undefined   What you will ...</td>\n",
       "      <td>https://sg.indeed.com/rc/clk?jk=6697245aab3639...</td>\n",
       "    </tr>\n",
       "  </tbody>\n",
       "</table>\n",
       "</div>"
      ],
      "text/plain": [
       "                                                title  \\\n",
       "0                               Data Scientist (APAC)   \n",
       "1                                      Data Scientist   \n",
       "2                               Data Scientist, xData   \n",
       "3         Artificial Intelligence (AI) Data Scientist   \n",
       "4                                      Data Scientist   \n",
       "5           Intern | Machine Learning (Generative AI)   \n",
       "6                                      Data Scientist   \n",
       "7                         Internship - Data Scientist   \n",
       "8                                 Data Science Intern   \n",
       "9                                      Data Scientist   \n",
       "10                                     Data Scientist   \n",
       "11  DATA SCIENTIST / DATA ANALYTICS ENGINEER (PRED...   \n",
       "\n",
       "                                              company          location  \\\n",
       "0                              Beyond LimitsSingapore         Singapore   \n",
       "1                          BeLive TechnologySingapore         Singapore   \n",
       "2   Home Team Science and Technology Agency (HTX)S...         Singapore   \n",
       "3      Magicsoft Asia Systems Pte LtdSingapore 608526  Singapore 608526   \n",
       "4           Security & Intelligence DivisionSingapore         Singapore   \n",
       "5            Bosch Group6,706 reviewsSingapore 573943  Singapore 573943   \n",
       "6         Philip Securities Pte Ltd.65 reviewsRaffles           Raffles   \n",
       "7                                Cresco DataSingapore         Singapore   \n",
       "8                                   abillionSingapore         Singapore   \n",
       "9                                   abillionSingapore         Singapore   \n",
       "10  Singapore Shell Employees’ Union Co-operative ...         Singapore   \n",
       "11        Land Transport Authority80 reviewsSingapore         Singapore   \n",
       "\n",
       "   salary_est                                        description  \\\n",
       "0              Job Duties/Responsibilities Ingest, organize, ...   \n",
       "1               Full Time Job Engagement Perm Job Type SGD 48...   \n",
       "2              What the role is    undefined   What you will ...   \n",
       "3               Artificial Intelligence Data Scientist EXPECT...   \n",
       "4              What the role is    undefined   What you will ...   \n",
       "5              Company Description  Robert Bosch (South East ...   \n",
       "6              Responsibilities:Understand the business probl...   \n",
       "7              CrescoData is an exciting market leader in the...   \n",
       "8              Data      Internship          Singapore    Des...   \n",
       "9              Data      Permanent          Singapore    Desc...   \n",
       "10             Contract Role for 12 Month Working Location: B...   \n",
       "11             What the role is    undefined   What you will ...   \n",
       "\n",
       "                                                 link  \n",
       "0   https://sg.indeed.com/rc/clk?jk=64faeb21f3d6f2...  \n",
       "1   https://sg.indeed.com/rc/clk?jk=dc7d9442a2b9aa...  \n",
       "2   https://sg.indeed.com/rc/clk?jk=8200c687874d5f...  \n",
       "3   https://sg.indeed.com/rc/clk?jk=36d82696cb6b91...  \n",
       "4   https://sg.indeed.com/rc/clk?jk=5571a870670255...  \n",
       "5   https://sg.indeed.com/rc/clk?jk=74c08c32c53b6d...  \n",
       "6   https://sg.indeed.com/rc/clk?jk=5ea0d3b451a89f...  \n",
       "7   https://sg.indeed.com/rc/clk?jk=fd54bca13cdc62...  \n",
       "8   https://sg.indeed.com/rc/clk?jk=51c128286a4c23...  \n",
       "9   https://sg.indeed.com/rc/clk?jk=38b576f9efa4ca...  \n",
       "10  https://sg.indeed.com/company/Singapore-Shell-...  \n",
       "11  https://sg.indeed.com/rc/clk?jk=6697245aab3639...  "
      ]
     },
     "execution_count": 3,
     "metadata": {},
     "output_type": "execute_result"
    }
   ],
   "source": [
    "import job_scraper as js\n",
    "df = js.search_indeed(job_title = job_title, country = country, num_pages = num_pages)\n",
    "df"
   ]
  },
  {
   "cell_type": "code",
   "execution_count": 9,
   "metadata": {},
   "outputs": [],
   "source": [
    "# Scrapping the Web\n",
    "\n",
    "URL = f'https://sg.indeed.com/jobs?q={job_title}&l=&start={1}'\n",
    "driver = webdriver.Chrome()\n",
    "driver.get(URL)\n",
    "html = driver.page_source\n",
    "soup = BeautifulSoup(html, \"html.parser\")\n",
    "#soup = BeautifulSoup(html, 'lxml')\n",
    "base_url = 'https://sg.indeed.com/viewjob?jk='\n",
    "d = soup.find('div', attrs={'id': 'mosaic-provider-jobcards'})\n",
    "\n",
    "jobs = soup.find_all('a', class_='tapItem')\n",
    "\n",
    "for job in jobs:\n",
    "    job_id = job['id'].split('_')[-1]\n",
    "    job_title = job.find('span', title=True).text.strip()\n",
    "    company = job.find('span', class_='companyName').text.strip()\n",
    "    location = job.find('div', class_='companyLocation').text.strip()\n",
    "    posted = job.find('span', class_='date').text.strip()\n",
    "    job_link = base_url + job_id\n",
    "    print([job_title, company, location, posted, job_link])\n"
   ]
  },
  {
   "cell_type": "code",
   "execution_count": 13,
   "metadata": {},
   "outputs": [
    {
     "data": {
      "text/plain": [
       "[]"
      ]
     },
     "execution_count": 13,
     "metadata": {},
     "output_type": "execute_result"
    }
   ],
   "source": [
    "soup.find_all('a', class_='tapItem')"
   ]
  }
 ],
 "metadata": {
  "kernelspec": {
   "display_name": "Python 3.9.12 ('cvanalyzer-KFwcXQ5N')",
   "language": "python",
   "name": "python3"
  },
  "language_info": {
   "codemirror_mode": {
    "name": "ipython",
    "version": 3
   },
   "file_extension": ".py",
   "mimetype": "text/x-python",
   "name": "python",
   "nbconvert_exporter": "python",
   "pygments_lexer": "ipython3",
   "version": "3.9.12"
  },
  "orig_nbformat": 4,
  "vscode": {
   "interpreter": {
    "hash": "442b292837b7dc93f810bb290ade74550eb581ea29f6a4ce222d0ed33dcaa7f2"
   }
  }
 },
 "nbformat": 4,
 "nbformat_minor": 2
}
